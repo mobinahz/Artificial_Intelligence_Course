{
 "cells": [
  {
   "cell_type": "markdown",
   "metadata": {},
   "source": [
    "In the name of God\n",
    "# AI COMPUTER ASSIGNMENT #1\n",
    "*Mobina Haghizadeh 810100127*\n",
    "\n",
    "```First Part:``` \n",
    "\n",
    "\n",
    "We load the data and check its general features :"
   ]
  },
  {
   "cell_type": "code",
   "execution_count": 757,
   "metadata": {},
   "outputs": [],
   "source": [
    "import pandas as pd\n",
    "data =  pd.read_csv(\"snacks.csv\")"
   ]
  },
  {
   "cell_type": "code",
   "execution_count": 758,
   "metadata": {},
   "outputs": [
    {
     "data": {
      "text/html": [
       "<div>\n",
       "<style scoped>\n",
       "    .dataframe tbody tr th:only-of-type {\n",
       "        vertical-align: middle;\n",
       "    }\n",
       "\n",
       "    .dataframe tbody tr th {\n",
       "        vertical-align: top;\n",
       "    }\n",
       "\n",
       "    .dataframe thead th {\n",
       "        text-align: right;\n",
       "    }\n",
       "</style>\n",
       "<table border=\"1\" class=\"dataframe\">\n",
       "  <thead>\n",
       "    <tr style=\"text-align: right;\">\n",
       "      <th></th>\n",
       "      <th>Snack</th>\n",
       "      <th>Available Weight</th>\n",
       "      <th>Value</th>\n",
       "    </tr>\n",
       "  </thead>\n",
       "  <tbody>\n",
       "    <tr>\n",
       "      <th>0</th>\n",
       "      <td>MazMaz</td>\n",
       "      <td>10</td>\n",
       "      <td>10</td>\n",
       "    </tr>\n",
       "    <tr>\n",
       "      <th>1</th>\n",
       "      <td>Doogh-e-Abali</td>\n",
       "      <td>15</td>\n",
       "      <td>10</td>\n",
       "    </tr>\n",
       "    <tr>\n",
       "      <th>2</th>\n",
       "      <td>Nani</td>\n",
       "      <td>5</td>\n",
       "      <td>5</td>\n",
       "    </tr>\n",
       "    <tr>\n",
       "      <th>3</th>\n",
       "      <td>Jooj</td>\n",
       "      <td>7</td>\n",
       "      <td>15</td>\n",
       "    </tr>\n",
       "    <tr>\n",
       "      <th>4</th>\n",
       "      <td>Hot-Dog</td>\n",
       "      <td>20</td>\n",
       "      <td>15</td>\n",
       "    </tr>\n",
       "    <tr>\n",
       "      <th>5</th>\n",
       "      <td>Chips</td>\n",
       "      <td>8</td>\n",
       "      <td>6</td>\n",
       "    </tr>\n",
       "    <tr>\n",
       "      <th>6</th>\n",
       "      <td>Nooshaba</td>\n",
       "      <td>12</td>\n",
       "      <td>8</td>\n",
       "    </tr>\n",
       "    <tr>\n",
       "      <th>7</th>\n",
       "      <td>Shokolat</td>\n",
       "      <td>6</td>\n",
       "      <td>7</td>\n",
       "    </tr>\n",
       "    <tr>\n",
       "      <th>8</th>\n",
       "      <td>Chocoroll</td>\n",
       "      <td>9</td>\n",
       "      <td>12</td>\n",
       "    </tr>\n",
       "    <tr>\n",
       "      <th>9</th>\n",
       "      <td>Cookies</td>\n",
       "      <td>11</td>\n",
       "      <td>11</td>\n",
       "    </tr>\n",
       "  </tbody>\n",
       "</table>\n",
       "</div>"
      ],
      "text/plain": [
       "           Snack  Available Weight  Value\n",
       "0         MazMaz                10     10\n",
       "1  Doogh-e-Abali                15     10\n",
       "2           Nani                 5      5\n",
       "3           Jooj                 7     15\n",
       "4        Hot-Dog                20     15\n",
       "5          Chips                 8      6\n",
       "6       Nooshaba                12      8\n",
       "7       Shokolat                 6      7\n",
       "8      Chocoroll                 9     12\n",
       "9        Cookies                11     11"
      ]
     },
     "execution_count": 758,
     "metadata": {},
     "output_type": "execute_result"
    }
   ],
   "source": [
    "data.head(10)"
   ]
  },
  {
   "cell_type": "code",
   "execution_count": 759,
   "metadata": {},
   "outputs": [
    {
     "data": {
      "text/html": [
       "<div>\n",
       "<style scoped>\n",
       "    .dataframe tbody tr th:only-of-type {\n",
       "        vertical-align: middle;\n",
       "    }\n",
       "\n",
       "    .dataframe tbody tr th {\n",
       "        vertical-align: top;\n",
       "    }\n",
       "\n",
       "    .dataframe thead th {\n",
       "        text-align: right;\n",
       "    }\n",
       "</style>\n",
       "<table border=\"1\" class=\"dataframe\">\n",
       "  <thead>\n",
       "    <tr style=\"text-align: right;\">\n",
       "      <th></th>\n",
       "      <th>Available Weight</th>\n",
       "      <th>Value</th>\n",
       "    </tr>\n",
       "  </thead>\n",
       "  <tbody>\n",
       "    <tr>\n",
       "      <th>count</th>\n",
       "      <td>19.000000</td>\n",
       "      <td>19.000000</td>\n",
       "    </tr>\n",
       "    <tr>\n",
       "      <th>mean</th>\n",
       "      <td>9.684211</td>\n",
       "      <td>9.473684</td>\n",
       "    </tr>\n",
       "    <tr>\n",
       "      <th>std</th>\n",
       "      <td>4.497563</td>\n",
       "      <td>3.168744</td>\n",
       "    </tr>\n",
       "    <tr>\n",
       "      <th>min</th>\n",
       "      <td>3.000000</td>\n",
       "      <td>4.000000</td>\n",
       "    </tr>\n",
       "    <tr>\n",
       "      <th>25%</th>\n",
       "      <td>6.500000</td>\n",
       "      <td>7.000000</td>\n",
       "    </tr>\n",
       "    <tr>\n",
       "      <th>50%</th>\n",
       "      <td>9.000000</td>\n",
       "      <td>10.000000</td>\n",
       "    </tr>\n",
       "    <tr>\n",
       "      <th>75%</th>\n",
       "      <td>12.500000</td>\n",
       "      <td>11.500000</td>\n",
       "    </tr>\n",
       "    <tr>\n",
       "      <th>max</th>\n",
       "      <td>20.000000</td>\n",
       "      <td>15.000000</td>\n",
       "    </tr>\n",
       "  </tbody>\n",
       "</table>\n",
       "</div>"
      ],
      "text/plain": [
       "       Available Weight      Value\n",
       "count         19.000000  19.000000\n",
       "mean           9.684211   9.473684\n",
       "std            4.497563   3.168744\n",
       "min            3.000000   4.000000\n",
       "25%            6.500000   7.000000\n",
       "50%            9.000000  10.000000\n",
       "75%           12.500000  11.500000\n",
       "max           20.000000  15.000000"
      ]
     },
     "execution_count": 759,
     "metadata": {},
     "output_type": "execute_result"
    }
   ],
   "source": [
    "data.describe()"
   ]
  },
  {
   "cell_type": "markdown",
   "metadata": {},
   "source": [
    "We have some constant numbers. So I defined a Constants dataclass to pass it to my functions.\n",
    "///////constants = Constants(1000, 300, 0.4, 0.1, 70)"
   ]
  },
  {
   "cell_type": "code",
   "execution_count": 760,
   "metadata": {},
   "outputs": [],
   "source": [
    "from dataclasses import dataclass\n",
    "import numpy as np\n",
    "\n",
    "SNACKSLEN = len(data)\n",
    "\n",
    "MAXWEIGHT = 10.0\n",
    "MINVALUE = 12\n",
    "ACCEPTABLERANGE = (2, 4)\n",
    "\n",
    "@dataclass\n",
    "class HyperParams:\n",
    "    populationLen: int\n",
    "    maxGenerations: int\n",
    "    carrySize: int\n",
    "    mutationProbability: float\n",
    "    crossoverProbability: float\n",
    "    "
   ]
  },
  {
   "cell_type": "markdown",
   "metadata": {},
   "source": [
    "Gene:\n",
    "In the fractional knapsack problem, a gene can represent the fraction or percentage of a food item to be included in the knapsack. It can be encoded as a floating-point value between 0 and 1, indicating the proportion of the food item's weight to be selected.\n",
    "\n",
    "Chromosome:\n",
    "A chromosome represents a combination of selected food items and their corresponding fractions. It can be encoded as a list of genes, where each gene corresponds to a food item and represents the fraction of that item to be included."
   ]
  },
  {
   "cell_type": "code",
   "execution_count": 761,
   "metadata": {},
   "outputs": [],
   "source": [
    "import random\n",
    "import warnings\n",
    "\n",
    "def normalizeChromosome(chromosome):\n",
    "    chromosome[chromosome < chromosome.sum()/(SNACKSLEN*10)] = 0\n",
    "    return chromosome / chromosome.sum()\n",
    "\n",
    "def geneRandomChromosome():\n",
    "    chromosome = np.random.rand(SNACKSLEN)\n",
    "    return normalizeChromosome(chromosome).reshape((1,SNACKSLEN))"
   ]
  },
  {
   "cell_type": "markdown",
   "metadata": {},
   "source": [
    "\n",
    "```Second part:```\n",
    "To make an initial population, I simply generate random chromosomes with the size of the population."
   ]
  },
  {
   "cell_type": "code",
   "execution_count": 762,
   "metadata": {},
   "outputs": [],
   "source": [
    "def initPopulation(populationLen):\n",
    "    return np.array([geneRandomChromosome() for i in range(populationLen)]).reshape((populationLen, SNACKSLEN))"
   ]
  },
  {
   "cell_type": "markdown",
   "metadata": {},
   "source": [
    "```Third part:```\n",
    "I define fitness function as below:\n",
    "$$ penalty(chromosome) = -1 $$\n",
    "$$ fitness(chromosome) = sum(gene * value_i) - penalty(chromosome) * value_i $$ "
   ]
  },
  {
   "cell_type": "code",
   "execution_count": 763,
   "metadata": {},
   "outputs": [],
   "source": [
    "def fitnessCalculation(chromosome):\n",
    "    foodsValue = data[\"Value\"].to_numpy().reshape(1, SNACKSLEN)\n",
    "    foodsWeight = data[\"Available Weight\"].to_numpy().reshape(1, SNACKSLEN)\n",
    "    totalValue = np.multiply(foodsValue,chromosome).sum()\n",
    "    totalWeight = np.multiply(foodsWeight,chromosome).sum() \n",
    "    \n",
    "    fitness = totalValue\n",
    "    \n",
    "    if totalWeight > MAXWEIGHT:\n",
    "        # penalty = 0  # Adjust this factor as needed\n",
    "        # totalValue *= penalty\n",
    "        fitness = 0\n",
    "    \n",
    "    \n",
    "    return fitness\n",
    "    "
   ]
  },
  {
   "cell_type": "code",
   "execution_count": 764,
   "metadata": {},
   "outputs": [
    {
     "data": {
      "text/plain": [
       "9.712400204622513"
      ]
     },
     "execution_count": 764,
     "metadata": {},
     "output_type": "execute_result"
    }
   ],
   "source": [
    "fitnessCalculation(geneRandomChromosome())"
   ]
  },
  {
   "cell_type": "markdown",
   "metadata": {},
   "source": [
    "```Fourth part:```\n",
    "I have implemented uniform crossover for the crossover operation. In this method, for each gene, we randomly decide whether to assign the corresponding gene from the first parent to the first child or from the second parent. The second child is then created by taking the inverse of the first child's genes."
   ]
  },
  {
   "cell_type": "code",
   "execution_count": 765,
   "metadata": {},
   "outputs": [],
   "source": [
    "def uniformCrossover(parents, HyperParams):\n",
    "    \n",
    "    if np.random.random() > HyperParams.crossoverProbability:\n",
    "        return parents\n",
    "    \n",
    "    parent1, parent2 = parents\n",
    "    child1, child2 = np.empty(shape = (SNACKSLEN)), np.empty(shape = (SNACKSLEN))\n",
    "    \n",
    "    for i in range(len(parent1)):\n",
    "        if np.random.bit_generator.randbits(1):\n",
    "            child1[i] = parent1[i]\n",
    "            child2[i] = parent2[i]\n",
    "        else:\n",
    "            child1[i] = parent2[i]\n",
    "            child2[i] = parent1[i]\n",
    "            \n",
    "    return normalizeChromosome(child1), normalizeChromosome(child2)"
   ]
  },
  {
   "cell_type": "markdown",
   "metadata": {},
   "source": [
    "For the mutation operation, I randomly select a gene from the chromosome and assign it a completely random value. Afterward, I normalize the resulting chromosome to ensure that the gene values are within the desired range or constraints."
   ]
  },
  {
   "cell_type": "code",
   "execution_count": 766,
   "metadata": {},
   "outputs": [],
   "source": [
    "def mutation(chromosome, p_mutation):\n",
    "    \n",
    "    if np.random.random() > p_mutation:\n",
    "        return chromosome\n",
    "    \n",
    "    index = np.random.randint(SNACKSLEN)\n",
    "    chromosome[index] = np.random.random()\n",
    "\n",
    "    return normalizeChromosome(chromosome)"
   ]
  },
  {
   "cell_type": "markdown",
   "metadata": {},
   "source": [
    "To create the mating pool, I employ rank-based selection. Within the main algorithm function (findOptimal), for each generation, I calculate the fitness of each chromosome. I then check if we have found a solution or not. Next, I select some of the top-performing chromosomes directly to proceed to the next generation. Subsequently, I construct a new mating pool and perform crossover operations on the selected individuals. Finally, I apply mutation to the new population."
   ]
  },
  {
   "cell_type": "code",
   "execution_count": 767,
   "metadata": {},
   "outputs": [],
   "source": [
    "valueColumn = data[\"Value\"].to_numpy().reshape((1,SNACKSLEN))\n",
    "weightColumn = data[\"Available Weight\"].to_numpy().reshape((1,SNACKSLEN))"
   ]
  },
  {
   "cell_type": "markdown",
   "metadata": {},
   "source": [
    "The purpose of the isSolution method is to determine whether a given chromosome represents a valid solution to a problem. In this case, it is checking if the chromosome represents a valid combination of snacks to be taken in a knapsack."
   ]
  },
  {
   "cell_type": "code",
   "execution_count": 768,
   "metadata": {},
   "outputs": [],
   "source": [
    "def isSolution(chromosome):\n",
    "    takenSnacks = np.count_nonzero(chromosome)\n",
    "    totalValues = np.multiply(chromosome, valueColumn).sum()\n",
    "    totalWeights = np.multiply(chromosome, weightColumn).sum()\n",
    "    return (totalWeights <= 10 and totalValues >= 12 and ACCEPTABLERANGE[0] <= takenSnacks <= ACCEPTABLERANGE[1])"
   ]
  },
  {
   "cell_type": "markdown",
   "metadata": {},
   "source": [
    "The purpose of the createMatingPool method is to generate a mating pool from a given population of individuals. The mating pool is a subset of the population that is used for the crossover operation in a genetic algorithm."
   ]
  },
  {
   "cell_type": "code",
   "execution_count": 769,
   "metadata": {},
   "outputs": [],
   "source": [
    "def createMatingPool(population, populationLen, matingPoolLen, probability):\n",
    "    \n",
    "    probability = probability / probability.sum()\n",
    "    \n",
    "    selections = np.random.choice(populationLen, matingPoolLen, p = probability)\n",
    "    \n",
    "    unique, counts = np.unique(selections, return_counts=True)\n",
    "    \n",
    "    return population[selections, :].reshape((-1, 2, SNACKSLEN))"
   ]
  },
  {
   "cell_type": "markdown",
   "metadata": {},
   "source": [
    "The purpose of the optimalSolution method is to search for an optimal solution using a genetic algorithm. The method initializes a population, evaluates the fitness of each individual, performs selection, crossover, and mutation operations, and iterates through multiple generations until either an optimal solution is found or the maximum number of generations is reached."
   ]
  },
  {
   "cell_type": "code",
   "execution_count": 770,
   "metadata": {},
   "outputs": [],
   "source": [
    "       \n",
    "def optimalSolution(HyperParams):\n",
    "    \n",
    "    population = initPopulation(HyperParams.populationLen)\n",
    "    generationNum = 0\n",
    "    while generationNum < HyperParams.maxGenerations:\n",
    "        \n",
    "        fitnesses = np.apply_along_axis(fitnessCalculation, axis = 1, arr = population)\n",
    "        sortedIndices = np.argsort(fitnesses)\n",
    "        population = population[sortedIndices]\n",
    "        \n",
    "        isThisSolution = np.apply_along_axis(isSolution, axis = 1, arr = population)\n",
    "        \n",
    "        if np.count_nonzero(isThisSolution):\n",
    "            return population[np.nonzero(isThisSolution)[0],:], generationNum\n",
    "        \n",
    "        weights = np.array([i for i in range(1, HyperParams.populationLen + 1)])\n",
    "        carryPopulation = population[-HyperParams.carrySize:]\n",
    "        mating_pool = createMatingPool(population, HyperParams.populationLen, HyperParams.populationLen - HyperParams.carrySize, weights)\n",
    "        \n",
    "        crossoverPopulation = np.array([uniformCrossover(parents, HyperParams) for parents in mating_pool]).reshape((-1, SNACKSLEN))\n",
    "        crossoverPopulation = np.apply_along_axis(lambda x: mutation(x, HyperParams.mutationProbability), axis = 1, arr = crossoverPopulation).reshape((-1, SNACKSLEN))\n",
    "        \n",
    "        population = np.concatenate((crossoverPopulation, carryPopulation))\n",
    "        generationNum += 1\n",
    "        \n",
    "    return None, HyperParams.maxGenerations"
   ]
  },
  {
   "cell_type": "markdown",
   "metadata": {},
   "source": [
    "```Fifth part:```\n",
    "I have written a wrapper function called runGenetic to execute the find_optimal_solution function multiple times and calculate the average number of generations."
   ]
  },
  {
   "cell_type": "code",
   "execution_count": 771,
   "metadata": {},
   "outputs": [],
   "source": [
    "def runGenetic(HyperParams):\n",
    "    \n",
    "    sumOfGenerationsNum = 0\n",
    "    \n",
    "    REPEAT = 5\n",
    "    found_answer = 0\n",
    "    \n",
    "    for i in range(REPEAT):\n",
    "  \n",
    "        result, generationsNum = optimalSolution(HyperParams)\n",
    "        if type(result) == type(None):\n",
    "            print(\"Couldn't find answer\")\n",
    "            return \n",
    "   \n",
    "       \n",
    "        sumOfGenerationsNum += generationsNum\n",
    "    \n",
    "    print(\"Total Value:\", np.multiply(result, valueColumn).sum())\n",
    "    print(\"Total Weight:\", np.multiply(result, weightColumn).sum())"
   ]
  },
  {
   "cell_type": "code",
   "execution_count": 772,
   "metadata": {},
   "outputs": [
    {
     "name": "stdout",
     "output_type": "stream",
     "text": [
      "Total Value: 38.064536149951216\n",
      "Total Weight: 28.235015942505\n"
     ]
    }
   ],
   "source": [
    "hyperParams = HyperParams(300, 1000, 70, 0.1, 0.4)\n",
    "runGenetic(hyperParams)"
   ]
  },
  {
   "cell_type": "markdown",
   "metadata": {},
   "source": [
    "```Sixth part:```\n",
    "Testing with different numbers."
   ]
  },
  {
   "cell_type": "code",
   "execution_count": 773,
   "metadata": {},
   "outputs": [
    {
     "name": "stdout",
     "output_type": "stream",
     "text": [
      "Total Value: 13.33516034506877\n",
      "Total Weight: 8.78213742236056\n"
     ]
    }
   ],
   "source": [
    "hyperParams = HyperParams(500, 1200, 100, 0.2, 0.6)\n",
    "runGenetic(hyperParams)"
   ]
  },
  {
   "cell_type": "code",
   "execution_count": 774,
   "metadata": {},
   "outputs": [
    {
     "name": "stdout",
     "output_type": "stream",
     "text": [
      "Total Value: 14.62277558931708\n",
      "Total Weight: 7.329807611037814\n"
     ]
    }
   ],
   "source": [
    "hyperParams = HyperParams(200, 800, 30, 0.5, 0.7)\n",
    "runGenetic(hyperParams)"
   ]
  },
  {
   "cell_type": "code",
   "execution_count": 775,
   "metadata": {},
   "outputs": [
    {
     "name": "stdout",
     "output_type": "stream",
     "text": [
      "Total Value: 12.03801897567875\n",
      "Total Weight: 9.469545977309215\n"
     ]
    }
   ],
   "source": [
    "hyperParams = HyperParams(400, 500, 60, 0.8, 0.2)\n",
    "runGenetic(hyperParams)"
   ]
  },
  {
   "cell_type": "code",
   "execution_count": 778,
   "metadata": {},
   "outputs": [
    {
     "name": "stdout",
     "output_type": "stream",
     "text": [
      "Total Value: 14.883876655704661\n",
      "Total Weight: 7.2802914295508705\n"
     ]
    }
   ],
   "source": [
    "hyperParams = HyperParams(700, 700, 20, 0.2, 0.4)\n",
    "runGenetic(hyperParams)"
   ]
  },
  {
   "cell_type": "markdown",
   "metadata": {},
   "source": [
    "# Questions\n",
    "\n",
    "## ``Question 1``\n",
    "If the population size is too small, the algorithm may struggle to effectively explore the search space, potentially leading to convergence on suboptimal solutions. Additionally, a small population size can result in decreased genetic diversity, increasing the risk of losing crucial information.\n",
    "On the other hand, if the population size is too large, it requires more computational resources to process and maintain the population. This increased resource demand can be inefficient and unnecessary. Furthermore, a larger population size may introduce redundant genes, which can hinder the algorithm's ability to converge on optimal solutions.\n",
    "\n",
    "## ``Question 2``\n",
    "If the population grows with each generation, it can lead to increased diversity, which can potentially benefit the algorithm by exploring a larger portion of the search space. However, this approach may also require more time and memory resources to handle the larger population size.\n",
    "On the other hand, keeping the population size constant can help promote the convergence of chromosomes towards an optimal solution. Increasing the population size may introduce additional individuals that can disrupt the convergence process, potentially hindering the algorithm's ability to reach the optimal answer.\n",
    "\n",
    "## ``Question 3``\n",
    "Crossover is a mechanism in genetic algorithms that combines genetic material from two parent chromosomes to produce offspring with potentially improved characteristics. On the other hand, mutation involves making direct changes to the genes of a chromosome, which can introduce new genetic variations into the population and help avoid getting stuck in local optima.\n",
    "For instance, if we monitor the best fitness value in each generation, we may observe that it tends to converge to a certain value. However, the introduction of a mutation can cause the fitness value to deviate from that value and suddenly increase, allowing the algorithm to explore new areas of the search space. This highlights the importance of incorporating mutation in addition to crossover, as relying solely on crossover may result in slower convergence (especially when using uniform crossover).\n",
    "Conversely, relying solely on mutation is generally not sufficient to reach an optimal solution, as it lacks the ability to combine and recombine genetic material like crossover does. However, there may be specific cases where using only mutation can lead to a satisfactory solution, depending on the problem and the specific constants involved. Nonetheless, in most scenarios, a combination of both crossover and mutation is necessary to achieve an optimal solution in a genetic algorithm.\n",
    "\n",
    "## ``Question 4``\n",
    "In the testing phase, we can experiment with different parameter values to optimize the performance of the algorithm and find the answer as quickly as possible. By adjusting parameters such as population size, mutation probability, crossover method, and selection mechanism, we can fine-tune the algorithm to improve its efficiency and effectiveness in solving the problem at hand. Through iterative testing and evaluation, we can identify the parameter values that yield the fastest convergence and highest-quality solutions.\n",
    "\n",
    "## ``Question 5``\n",
    "In genetic algorithms, it is often challenging to ensure that the algorithm reaches the global maximum instead of getting stuck at a local maximum. However, we can address this issue through the use of mutation, which introduces random changes to the genetic material. By incorporating mutation, the algorithm gains the ability to explore new areas of the search space, enabling it to break free from local optima and potentially reach the global maximum.\n",
    "Additionally, to prevent the algorithm from running indefinitely without converging, we can set a limit on the number of generations. By specifying a maximum number of generations, we can terminate the algorithm if it fails to make substantial progress towards the optimal solution within that limit.\n",
    "\n",
    "## ``Question 6``\n",
    "By setting a predetermined maximum value for the number of generations, we can control the termination of the algorithm. Once the algorithm reaches this limit, we can stop its execution. At that point, we can retrieve and return the chromosome from the population that has the highest fitness value, indicating the best solution found throughout the evolutionary process. This approach allows us to obtain the most optimal chromosome available within the given generation limit."
   ]
  }
 ],
 "metadata": {
  "kernelspec": {
   "display_name": "Python 3",
   "language": "python",
   "name": "python3"
  },
  "language_info": {
   "codemirror_mode": {
    "name": "ipython",
    "version": 3
   },
   "file_extension": ".py",
   "mimetype": "text/x-python",
   "name": "python",
   "nbconvert_exporter": "python",
   "pygments_lexer": "ipython3",
   "version": "3.10.5"
  }
 },
 "nbformat": 4,
 "nbformat_minor": 2
}
