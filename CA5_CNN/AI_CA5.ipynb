{
  "nbformat": 4,
  "nbformat_minor": 0,
  "metadata": {
    "colab": {
      "provenance": [],
      "toc_visible": true
    },
    "kernelspec": {
      "name": "python3",
      "display_name": "Python 3"
    },
    "language_info": {
      "name": "python"
    }
  },
  "cells": [
    {
      "cell_type": "markdown",
      "source": [
        "**In The Name Of God**\n",
        "<html>\n",
        "<div>\n",
        "  <span style=\"font-family: Poppins; font-size:30px; color: pink;\"> University of Tehran <br/> Deep Learning <br/> Convolutional Neural Networks <br/> CA5\n",
        "</div>\n",
        "<span style=\"font-family: Poppins; font-size:15pt; color: pink; vertical-align: middle;\"> <br> Mobina Haghizadeh </span><br>\n",
        "<span style=\"font-family: Poppins; font-size:15pt; color: pink; vertical-align: middle;\"> 810100127 </span>\n",
        "\n",
        "</html>"
      ],
      "metadata": {
        "id": "BMBEvGWl5Ks1"
      }
    },
    {
      "cell_type": "markdown",
      "source": [
        "# Description\n",
        "I have a dataset of tweets, and my task is to analyze the data using CNNs and NLP to recognize suicidal tweets as opposed to non-suicidal ones."
      ],
      "metadata": {
        "id": "XKIwB8tv_EPE"
      }
    },
    {
      "cell_type": "markdown",
      "source": [
        "# Setup environment"
      ],
      "metadata": {
        "id": "yKSB12v5rHbr"
      }
    },
    {
      "cell_type": "code",
      "source": [
        "!pip install gensim emoji nltk tqdm seaborn torch torchsummary -q"
      ],
      "metadata": {
        "id": "cYUXbCFcrM6q",
        "colab": {
          "base_uri": "https://localhost:8080/"
        },
        "outputId": "ee949ac6-7253-4280-951c-33776b5d18b9"
      },
      "execution_count": 1,
      "outputs": [
        {
          "output_type": "stream",
          "name": "stdout",
          "text": [
            "\u001b[2K     \u001b[90m━━━━━━━━━━━━━━━━━━━━━━━━━━━━━━━━━━━━━━━━\u001b[0m \u001b[32m431.4/431.4 kB\u001b[0m \u001b[31m5.6 MB/s\u001b[0m eta \u001b[36m0:00:00\u001b[0m\n",
            "\u001b[2K     \u001b[90m━━━━━━━━━━━━━━━━━━━━━━━━━━━━━━━━━━━━━━━━\u001b[0m \u001b[32m21.3/21.3 MB\u001b[0m \u001b[31m56.2 MB/s\u001b[0m eta \u001b[36m0:00:00\u001b[0m\n",
            "\u001b[?25h"
          ]
        }
      ]
    },
    {
      "cell_type": "markdown",
      "source": [
        "# Imports"
      ],
      "metadata": {
        "id": "KA9rkzJKAKNS"
      }
    },
    {
      "cell_type": "code",
      "source": [
        "from google.colab import drive\n",
        "drive.mount('/content/drive')\n",
        "\n",
        "import pandas as pd\n",
        "import torch\n",
        "from torch import nn\n",
        "from torch.utils.data import DataLoader, Dataset\n",
        "import torch.nn.functional as F\n",
        "\n",
        "import gensim\n",
        "\n",
        "from sklearn.model_selection import train_test_split\n",
        "import sklearn.metrics as metrics\n",
        "\n",
        "from tqdm import tqdm\n",
        "import gc\n",
        "import os\n",
        "\n",
        "import numpy as np\n",
        "import seaborn as sns\n",
        "import matplotlib.pyplot as plt\n",
        "import string\n",
        "import re\n",
        "import nltk\n",
        "from nltk.tokenize import word_tokenize\n",
        "from nltk.stem import PorterStemmer , WordNetLemmatizer\n",
        "from nltk.corpus import stopwords\n",
        "import difflib\n",
        "\n",
        "from gensim import downloader as api\n",
        "from torch.utils.data import Dataset\n",
        "\n",
        "\n",
        "import ssl\n",
        "ssl._create_default_https_context = ssl._create_unverified_context"
      ],
      "metadata": {
        "colab": {
          "base_uri": "https://localhost:8080/"
        },
        "id": "KMjl4WvrAM7E",
        "outputId": "2690205e-39c8-4d2e-8380-4f791d2e4f38"
      },
      "execution_count": 2,
      "outputs": [
        {
          "output_type": "stream",
          "name": "stdout",
          "text": [
            "Mounted at /content/drive\n"
          ]
        }
      ]
    },
    {
      "cell_type": "markdown",
      "source": [
        "# Config"
      ],
      "metadata": {
        "id": "n3du4AcarS8b"
      }
    },
    {
      "cell_type": "markdown",
      "source": [
        "## Model training config"
      ],
      "metadata": {
        "id": "jV3851uBrVZX"
      }
    },
    {
      "cell_type": "code",
      "source": [
        "LEARNING_RATE = 4e-4\n",
        "WEIGHT_DECAY = 1e-2\n",
        "BATCH_SIZE = 64\n",
        "EPOCHS = 15\n",
        "\n",
        "SEQUENCE_LEN = 64\n",
        "CNN_FILTERS = 64"
      ],
      "metadata": {
        "id": "yo3MQ8cfrX9B"
      },
      "execution_count": 3,
      "outputs": []
    },
    {
      "cell_type": "code",
      "source": [
        "DEVICE = torch.device(\"cuda\" if torch.cuda.is_available() else \"cpu\")"
      ],
      "metadata": {
        "id": "SQgDezOyraAB"
      },
      "execution_count": 4,
      "outputs": []
    },
    {
      "cell_type": "markdown",
      "source": [
        "# Constants"
      ],
      "metadata": {
        "id": "XbsgVG-EAG9v"
      }
    },
    {
      "cell_type": "code",
      "source": [
        "data_csv_path = '/content/drive/MyDrive/twitter-suicidal-data.csv'"
      ],
      "metadata": {
        "id": "3O6IgX13AJrY"
      },
      "execution_count": 5,
      "outputs": []
    },
    {
      "cell_type": "markdown",
      "source": [
        "# Part Zero:\n",
        "# Data Preparation\n",
        "I have to write a function that takes a tweet as input, processes the text of the tweet, and then returns the token list."
      ],
      "metadata": {
        "id": "17xTPVM8AXQv"
      }
    },
    {
      "cell_type": "code",
      "source": [
        "nltk.download([\"stopwords\", \"punkt\", \"wordnet\", \"averaged_perceptron_tagger\"])\n",
        "\n",
        "class Tweet:\n",
        "    def __init__(self, text):\n",
        "        self.text = text\n",
        "\n",
        "    def remove_punctuation(self):\n",
        "        self.text = self.text.translate(str.maketrans('', '', string.punctuation))\n",
        "\n",
        "    def remove_numbers(self):\n",
        "        self.text = re.sub(r'\\d+', '', self.text)\n",
        "\n",
        "    def remove_links(self):\n",
        "        pattern = r'https?://\\S+|www\\.\\S+'\n",
        "        self.text = re.sub(pattern, '', self.text)\n",
        "\n",
        "    def remove_user_references(self):\n",
        "        pattern = r'@\\w+'\n",
        "        self.text = re.sub(pattern, '', self.text)\n",
        "\n",
        "    def remove_emojis(self):\n",
        "        emoji_pattern = re.compile(\"[\"\n",
        "                                   u\"\\U0001F600-\\U0001F64F\"  # emoticons\n",
        "                                   u\"\\U0001F300-\\U0001F5FF\"  # symbols & pictographs\n",
        "                                   u\"\\U0001F680-\\U0001F6FF\"  # transport & map symbols\n",
        "                                   u\"\\U0001F1E0-\\U0001F1FF\"  # flags (iOS)\n",
        "                                   u\"\\U00002500-\\U00002BEF\"  # chinese char\n",
        "                                   u\"\\U00002702-\\U000027B0\"\n",
        "                                   u\"\\U00002702-\\U000027B0\"\n",
        "                                   u\"\\U000024C2-\\U0001F251\"\n",
        "                                   u\"\\U0001f926-\\U0001f937\"\n",
        "                                   u\"\\U00010000-\\U0010ffff\"\n",
        "                                   u\"\\u2640-\\u2642\"\n",
        "                                   u\"\\u2600-\\u2B55\"\n",
        "                                   u\"\\u200d\"\n",
        "                                   u\"\\u23cf\"\n",
        "                                   u\"\\u23e9\"\n",
        "                                   u\"\\u231a\"\n",
        "                                   u\"\\ufe0f\"  # dingbats\n",
        "                                   u\"\\u3030\"\n",
        "                                   \"]+\", flags=re.UNICODE)\n",
        "        self.text = emoji_pattern.sub(r'', self.text)\n",
        "\n",
        "    def standardize_spaces(self):\n",
        "        self.text = re.sub(r'\\s+', ' ', self.text).strip()\n",
        "\n",
        "    def remove_non_word_phrases(self):\n",
        "        self.text = ' '.join(re.findall(r'\\b\\w+\\b', self.text))\n",
        "\n",
        "    def stemming_tokens(self):\n",
        "        tokens = word_tokenize(self.text)\n",
        "        stemmer = PorterStemmer()\n",
        "        self.text = ' '.join([stemmer.stem(token) for token in tokens])\n",
        "\n",
        "    def lemmatize_tokens(self):\n",
        "        tokens = word_tokenize(self.text)\n",
        "        lemmatizer = WordNetLemmatizer()\n",
        "        lemmatized_tokens = [lemmatizer.lemmatize(token) for token in tokens]\n",
        "        self.text = ' '.join(lemmatized_tokens)\n",
        "\n",
        "    def remove_stopwords(self):\n",
        "        tokens = word_tokenize(self.text)\n",
        "        stop_words = set(stopwords.words('english'))\n",
        "        self.text = ' '.join([token for token in tokens if token.lower() not in stop_words])\n",
        "\n",
        "    def preprocess_tweet(self):\n",
        "        self.text = self.text.lower()\n",
        "        self.remove_punctuation()\n",
        "        self.remove_numbers()\n",
        "        self.remove_links()\n",
        "        self.remove_user_references()\n",
        "        self.remove_emojis()\n",
        "        self.standardize_spaces()\n",
        "        self.remove_non_word_phrases()\n",
        "        self.lemmatize_tokens()\n",
        "        self.remove_stopwords()\n",
        "        return self.text\n",
        "\n"
      ],
      "metadata": {
        "colab": {
          "base_uri": "https://localhost:8080/"
        },
        "id": "HmEme2vaD7--",
        "outputId": "c6b8689d-366c-4625-f614-39ce1abd8fe5"
      },
      "execution_count": 6,
      "outputs": [
        {
          "output_type": "stream",
          "name": "stderr",
          "text": [
            "[nltk_data] Downloading package stopwords to /root/nltk_data...\n",
            "[nltk_data]   Unzipping corpora/stopwords.zip.\n",
            "[nltk_data] Downloading package punkt to /root/nltk_data...\n",
            "[nltk_data]   Unzipping tokenizers/punkt.zip.\n",
            "[nltk_data] Downloading package wordnet to /root/nltk_data...\n",
            "[nltk_data] Downloading package averaged_perceptron_tagger to\n",
            "[nltk_data]     /root/nltk_data...\n",
            "[nltk_data]   Unzipping taggers/averaged_perceptron_tagger.zip.\n"
          ]
        }
      ]
    },
    {
      "cell_type": "code",
      "source": [
        "# nltk.download([\"stopwords\", \"punkt\", \"wordnet\", \"averaged_perceptron_tagger\"])\n",
        "\n",
        "def remove_punctuation(text):\n",
        "    text = text.translate(str.maketrans('', '', string.punctuation))\n",
        "    return text\n",
        "\n",
        "def remove_numbers(text):\n",
        "    text = re.sub(r'\\d+', '', text)\n",
        "    return text\n",
        "\n",
        "def remove_links(text):\n",
        "    pattern = r'https?://\\S+|www\\.\\S+'\n",
        "    text = re.sub(pattern, '', text)\n",
        "    return text\n",
        "\n",
        "def remove_user_references(text):\n",
        "    pattern = r'@\\w+'\n",
        "    text = re.sub(pattern, '', text)\n",
        "    return text\n",
        "\n",
        "def remove_emojis(text):\n",
        "    emoji_pattern = re.compile(\"[\"\n",
        "                                u\"\\U0001F600-\\U0001F64F\"  # emoticons\n",
        "                                u\"\\U0001F300-\\U0001F5FF\"  # symbols & pictographs\n",
        "                                u\"\\U0001F680-\\U0001F6FF\"  # transport & map symbols\n",
        "                                u\"\\U0001F1E0-\\U0001F1FF\"  # flags (iOS)\n",
        "                                u\"\\U00002500-\\U00002BEF\"  # chinese char\n",
        "                                u\"\\U00002702-\\U000027B0\"\n",
        "                                u\"\\U00002702-\\U000027B0\"\n",
        "                                u\"\\U000024C2-\\U0001F251\"\n",
        "                                u\"\\U0001f926-\\U0001f937\"\n",
        "                                u\"\\U00010000-\\U0010ffff\"\n",
        "                                u\"\\u2640-\\u2642\"\n",
        "                                u\"\\u2600-\\u2B55\"\n",
        "                                u\"\\u200d\"\n",
        "                                u\"\\u23cf\"\n",
        "                                u\"\\u23e9\"\n",
        "                                u\"\\u231a\"\n",
        "                                u\"\\ufe0f\"  # dingbats\n",
        "                                u\"\\u3030\"\n",
        "                                \"]+\", flags=re.UNICODE)\n",
        "    text = emoji_pattern.sub(r'', text)\n",
        "    return text\n",
        "\n",
        "def standardize_spaces(text):\n",
        "    text = re.sub(r'\\s+', ' ', text).strip()\n",
        "    return text\n",
        "\n",
        "def remove_non_word_phrases(text):\n",
        "    text = ' '.join(re.findall(r'\\b\\w+\\b', text))\n",
        "    return text\n",
        "\n",
        "def stemming_tokens(text):\n",
        "    tokens = word_tokenize(text)\n",
        "    stemmer = PorterStemmer()\n",
        "    text = ' '.join([stemmer.stem(token) for token in tokens])\n",
        "    return text\n",
        "\n",
        "def lemmatize_tokens(text):\n",
        "    tokens = word_tokenize(text)\n",
        "    lemmatizer = WordNetLemmatizer()\n",
        "    lemmatized_tokens = [lemmatizer.lemmatize(token) for token in tokens]\n",
        "    text = ' '.join(lemmatized_tokens)\n",
        "    return text\n",
        "\n",
        "def remove_stopwords(text):\n",
        "    tokens = word_tokenize(text)\n",
        "    stop_words = set(stopwords.words('english'))\n",
        "    text = ' '.join([token for token in tokens if token.lower() not in stop_words])\n",
        "    return text\n",
        "\n",
        "def preprocess_tweet(text):\n",
        "    text = text.lower()\n",
        "    text = remove_punctuation(text)\n",
        "    text = remove_numbers(text)\n",
        "    text = remove_links(text)\n",
        "    text = remove_user_references(text)\n",
        "    text = remove_emojis(text)\n",
        "    text = standardize_spaces(text)\n",
        "    text = remove_non_word_phrases(text)\n",
        "    text = lemmatize_tokens(text)\n",
        "    text = remove_stopwords(text)\n",
        "    return text\n",
        "\n"
      ],
      "metadata": {
        "id": "jvix6RIAW_gR"
      },
      "execution_count": 7,
      "outputs": []
    },
    {
      "cell_type": "code",
      "source": [
        "nltk.download('punkt')\n",
        "nltk.download('stopwords')\n",
        "nltk.download('averaged_perceptron_tagger')\n",
        "nltk.download('wordnet')\n",
        "\n",
        "stopwords = set(nltk.corpus.stopwords.words(\"english\"))\n",
        "lemmatizer = nltk.stem.WordNetLemmatizer()\n",
        "\n",
        "def convert_emoji_to_text(text):\n",
        "    \"\"\"This function would replace emojis with a space\"\"\"\n",
        "    return re.sub(r':[a-zA-Z_]+:', ' ', text)\n",
        "\n",
        "def nltk_pos_tagger(nltk_tag):\n",
        "    if nltk_tag.startswith('J'):\n",
        "        return 'a'\n",
        "    elif nltk_tag.startswith('V'):\n",
        "        return 'v'\n",
        "    elif nltk_tag.startswith('N'):\n",
        "        return 'n'\n",
        "    elif nltk_tag.startswith('R'):\n",
        "        return 'r'\n",
        "    else:\n",
        "        return 'n'\n",
        "\n",
        "def preprocess_data(text: str):\n",
        "    \"\"\"\n",
        "    Preprocessing steps are as follows:\n",
        "    1. lowercase the text\n",
        "    2. remove punctuation\n",
        "    3. remove numbers\n",
        "    4. remove urls\n",
        "    5. remove usernames\n",
        "    6. remove extra spaces\n",
        "    7. convert emojis to text\n",
        "    8. remove non-word characters\n",
        "    9. lemmatization and tokenization of the text\n",
        "    10. remove stopwords\n",
        "    :param text: str\n",
        "    :return: tokens: list[str]\n",
        "    \"\"\"\n",
        "    text = text.lower()\n",
        "    text = re.sub(r'[^\\w\\s]', ' ', text)\n",
        "    text = re.sub(r'\\d+', ' ', text)\n",
        "    text = re.sub(r'http\\S+|www\\S+', ' ', text)\n",
        "    text = re.sub(r'@[^\\s]+', ' ', text)\n",
        "    text = re.sub(r'\\s+', ' ', text).strip()\n",
        "    text = convert_emoji_to_text(text)\n",
        "    text = re.sub(r'\\W', ' ', text)\n",
        "    tokens = word_tokenize(text)\n",
        "    nltk_tags = nltk.pos_tag(tokens)\n",
        "    tokens = [lemmatizer.lemmatize(token, pos=nltk_pos_tagger(tag)) for token, tag in nltk_tags]\n",
        "    tokens = [token for token in tokens if token not in stopwords]\n",
        "    return tokens"
      ],
      "metadata": {
        "colab": {
          "base_uri": "https://localhost:8080/"
        },
        "id": "iXzhyGRE1uhx",
        "outputId": "1236c718-5dc6-4c50-9cb5-2915934e6133"
      },
      "execution_count": 8,
      "outputs": [
        {
          "output_type": "stream",
          "name": "stderr",
          "text": [
            "[nltk_data] Downloading package punkt to /root/nltk_data...\n",
            "[nltk_data]   Package punkt is already up-to-date!\n",
            "[nltk_data] Downloading package stopwords to /root/nltk_data...\n",
            "[nltk_data]   Package stopwords is already up-to-date!\n",
            "[nltk_data] Downloading package averaged_perceptron_tagger to\n",
            "[nltk_data]     /root/nltk_data...\n",
            "[nltk_data]   Package averaged_perceptron_tagger is already up-to-\n",
            "[nltk_data]       date!\n",
            "[nltk_data] Downloading package wordnet to /root/nltk_data...\n",
            "[nltk_data]   Package wordnet is already up-to-date!\n"
          ]
        }
      ]
    },
    {
      "cell_type": "markdown",
      "source": [
        "## Question1:\n",
        "Converting text to lowercase in NLP projects offers advantages such as standardization, reducing vocabulary size, and improving model performance by treating similar words as identical. However, it may obscure proper nouns and lose some semantic information. We perform this preprocessing at the end to ensure consistency and avoid potential conflicts with other preprocessing steps.\n",
        "\n",
        "Here are some additional disadvantages of converting text to lowercase in NLP projects:\n",
        "\n",
        "- ``Loss of proper noun information:`` Lowercasing text can obscure proper nouns, such as names of people, places, or organizations. This loss of case information might be crucial in tasks like named entity recognition or sentiment analysis where recognizing entities accurately is essential.\n",
        "\n",
        "- ``Loss of emphasis:`` Capitalization can sometimes convey emphasis or importance in text. Lowercasing removes this emphasis, potentially impacting the interpretation of the text, especially in tasks like sentiment analysis or opinion mining.\n",
        "\n",
        "- ``Ambiguity in acronyms:`` Lowercasing can lead to ambiguity in acronyms or initialisms that are commonly written in uppercase. For example, \"USA\" could be mistaken for the word \"usa\" in lowercase.\n",
        "\n",
        "- ``Impact on readability:`` In some cases, lowercasing can reduce the readability of text, especially if the original text contains a mix of uppercase and lowercase letters for emphasis or clarity.\n",
        "\n",
        "- ``Loss of context:`` Lowercasing can potentially result in loss of context, especially in languages where case distinctions carry semantic meaning, such as German or Turkish. This loss of context might affect the accuracy of downstream NLP tasks.\n",
        "\n",
        "And some other advantages are:\n",
        "\n",
        "- ``Standardization:`` Lowercasing text ensures that words are represented consistently, regardless of their original capitalization. This standardization simplifies text processing and analysis, making it easier to compare and manipulate text data.\n",
        "\n",
        "- ``Reduced vocabulary size:`` Lowercasing reduces the number of unique words in the vocabulary by collapsing words with different capitalizations into a single token. This reduction in vocabulary size can lead to faster processing and reduced computational resources required for training and inference.\n",
        "\n",
        "- ``Improved model performance:`` Lowercasing can improve model performance by treating words with similar meanings but different capitalizations as identical. This allows the model to generalize better across different capitalization styles and improves its ability to recognize patterns in text data.\n",
        "\n",
        "- ``Better tokenization:`` Lowercasing facilitates tokenization by reducing the complexity of text data. Tokenizers can split text into words more effectively when all words are in lowercase, leading to more accurate tokenization results.\n",
        "\n",
        "- ``Case-insensitive matching:`` Lowercasing enables case-insensitive matching, making it easier to search and match text patterns without considering case distinctions. This is particularly useful in tasks like information retrieval, where case sensitivity may not be relevant.\n",
        "\n"
      ],
      "metadata": {
        "id": "mvwVpgqKM6Y1"
      }
    },
    {
      "cell_type": "markdown",
      "source": [
        "## Question 2:\n",
        "Advantages:\n",
        "\n",
        "- ``Reduced Dimensionality:`` Removing numbers reduces the complexity of the text data by eliminating numerical values, leading to a simpler and more manageable dataset.\n",
        "\n",
        "- ``Improved Model Generalization:`` By removing numbers, models may generalize better to new data since numerical values are often specific to the dataset and may not generalize well.\n",
        "\n",
        "- ``Enhanced Text Clarity:`` Text without numbers may be easier to read and interpret, especially in tasks like sentiment analysis or topic modeling where numerical values may not contribute to the analysis.\n",
        "\n",
        "\n",
        "Disadvantages:\n",
        "\n",
        "- ``Loss of Information:`` Removing numbers may result in the loss of valuable information, especially in tasks where numerical data is relevant, such as sentiment analysis of product reviews containing ratings or NLP tasks involving numerical quantities.\n",
        "\n",
        "- ``Contextual Misinterpretation:`` In some cases, removing numbers may lead to misinterpretation of text if numerical values are integral to the context. For example, in medical text, numerical values often represent vital information like dosages or patient parameters.\n",
        "\n",
        "- ``Impact on Tokenization:`` Removing numbers can affect the tokenization process, potentially merging words that include numbers with adjacent text, leading to tokenization errors or loss of context."
      ],
      "metadata": {
        "id": "ejTrOL5BOmW1"
      }
    },
    {
      "cell_type": "markdown",
      "source": [
        "## Question 3:\n",
        "Hashtags play a significant role in Twitter as they serve as metadata tags that categorize and organize tweets based on topics, events, or themes. Therefore, we chose not to remove them during preprocessing because:\n",
        "\n",
        "1. **Contextual Information**: Hashtags provide valuable contextual information about the content of the tweet. They can convey the main subject, sentiment, or purpose of the tweet, which is crucial for understanding the underlying message.\n",
        "\n",
        "2. **Enhanced Model Performance**: By keeping hashtags in the text data, we allow the model to learn from the contextual cues provided by these hashtags. This can lead to improved model performance, especially in tasks like sentiment analysis or topic classification, where hashtags can serve as strong indicators of sentiment or topic.\n",
        "\n",
        "3. **User Engagement**: Tweets often include hashtags to increase visibility and engagement. Removing hashtags could diminish the relevance and appeal of the tweets, particularly in scenarios where user engagement is a key metric.\n",
        "\n",
        "4. **Community Detection**: Hashtags facilitate community detection and analysis by grouping tweets with similar hashtags together. This enables us to identify trends, patterns, and communities within the Twitter network, which can be valuable for various analytical purposes.\n",
        "\n",
        "Overall, retaining hashtags in the text data allows the model to leverage the rich contextual information they provide, leading to better performance and more accurate insights in NLP tasks involving Twitter data."
      ],
      "metadata": {
        "id": "CvHLz1-bPwMG"
      }
    },
    {
      "cell_type": "markdown",
      "source": [
        "## Question 4:"
      ],
      "metadata": {
        "id": "33pVgOpc_9fy"
      }
    },
    {
      "cell_type": "markdown",
      "source": [
        "First we load the data"
      ],
      "metadata": {
        "id": "FudBh6IJACZA"
      }
    },
    {
      "cell_type": "code",
      "source": [
        "data = pd.read_csv(data_csv_path)"
      ],
      "metadata": {
        "id": "788m7pBLAA8x"
      },
      "execution_count": 9,
      "outputs": []
    },
    {
      "cell_type": "code",
      "source": [
        "data.head(5)"
      ],
      "metadata": {
        "colab": {
          "base_uri": "https://localhost:8080/",
          "height": 206
        },
        "id": "kbVNQcttBIwP",
        "outputId": "c7d4982e-47dc-4ffa-df22-a34365cc7d0f"
      },
      "execution_count": 10,
      "outputs": [
        {
          "output_type": "execute_result",
          "data": {
            "text/plain": [
              "                                               tweet  intention\n",
              "0  my life is meaningless i just want to end my l...          1\n",
              "1  muttering i wanna die to myself daily for a fe...          1\n",
              "2  work slave i really feel like my only purpose ...          1\n",
              "3  i did something on the 2 of october i overdose...          1\n",
              "4  i feel like no one cares i just want to die ma...          1"
            ],
            "text/html": [
              "\n",
              "  <div id=\"df-e7d58a6e-2feb-43a0-b1ff-5ac3a8a7c1d1\" class=\"colab-df-container\">\n",
              "    <div>\n",
              "<style scoped>\n",
              "    .dataframe tbody tr th:only-of-type {\n",
              "        vertical-align: middle;\n",
              "    }\n",
              "\n",
              "    .dataframe tbody tr th {\n",
              "        vertical-align: top;\n",
              "    }\n",
              "\n",
              "    .dataframe thead th {\n",
              "        text-align: right;\n",
              "    }\n",
              "</style>\n",
              "<table border=\"1\" class=\"dataframe\">\n",
              "  <thead>\n",
              "    <tr style=\"text-align: right;\">\n",
              "      <th></th>\n",
              "      <th>tweet</th>\n",
              "      <th>intention</th>\n",
              "    </tr>\n",
              "  </thead>\n",
              "  <tbody>\n",
              "    <tr>\n",
              "      <th>0</th>\n",
              "      <td>my life is meaningless i just want to end my l...</td>\n",
              "      <td>1</td>\n",
              "    </tr>\n",
              "    <tr>\n",
              "      <th>1</th>\n",
              "      <td>muttering i wanna die to myself daily for a fe...</td>\n",
              "      <td>1</td>\n",
              "    </tr>\n",
              "    <tr>\n",
              "      <th>2</th>\n",
              "      <td>work slave i really feel like my only purpose ...</td>\n",
              "      <td>1</td>\n",
              "    </tr>\n",
              "    <tr>\n",
              "      <th>3</th>\n",
              "      <td>i did something on the 2 of october i overdose...</td>\n",
              "      <td>1</td>\n",
              "    </tr>\n",
              "    <tr>\n",
              "      <th>4</th>\n",
              "      <td>i feel like no one cares i just want to die ma...</td>\n",
              "      <td>1</td>\n",
              "    </tr>\n",
              "  </tbody>\n",
              "</table>\n",
              "</div>\n",
              "    <div class=\"colab-df-buttons\">\n",
              "\n",
              "  <div class=\"colab-df-container\">\n",
              "    <button class=\"colab-df-convert\" onclick=\"convertToInteractive('df-e7d58a6e-2feb-43a0-b1ff-5ac3a8a7c1d1')\"\n",
              "            title=\"Convert this dataframe to an interactive table.\"\n",
              "            style=\"display:none;\">\n",
              "\n",
              "  <svg xmlns=\"http://www.w3.org/2000/svg\" height=\"24px\" viewBox=\"0 -960 960 960\">\n",
              "    <path d=\"M120-120v-720h720v720H120Zm60-500h600v-160H180v160Zm220 220h160v-160H400v160Zm0 220h160v-160H400v160ZM180-400h160v-160H180v160Zm440 0h160v-160H620v160ZM180-180h160v-160H180v160Zm440 0h160v-160H620v160Z\"/>\n",
              "  </svg>\n",
              "    </button>\n",
              "\n",
              "  <style>\n",
              "    .colab-df-container {\n",
              "      display:flex;\n",
              "      gap: 12px;\n",
              "    }\n",
              "\n",
              "    .colab-df-convert {\n",
              "      background-color: #E8F0FE;\n",
              "      border: none;\n",
              "      border-radius: 50%;\n",
              "      cursor: pointer;\n",
              "      display: none;\n",
              "      fill: #1967D2;\n",
              "      height: 32px;\n",
              "      padding: 0 0 0 0;\n",
              "      width: 32px;\n",
              "    }\n",
              "\n",
              "    .colab-df-convert:hover {\n",
              "      background-color: #E2EBFA;\n",
              "      box-shadow: 0px 1px 2px rgba(60, 64, 67, 0.3), 0px 1px 3px 1px rgba(60, 64, 67, 0.15);\n",
              "      fill: #174EA6;\n",
              "    }\n",
              "\n",
              "    .colab-df-buttons div {\n",
              "      margin-bottom: 4px;\n",
              "    }\n",
              "\n",
              "    [theme=dark] .colab-df-convert {\n",
              "      background-color: #3B4455;\n",
              "      fill: #D2E3FC;\n",
              "    }\n",
              "\n",
              "    [theme=dark] .colab-df-convert:hover {\n",
              "      background-color: #434B5C;\n",
              "      box-shadow: 0px 1px 3px 1px rgba(0, 0, 0, 0.15);\n",
              "      filter: drop-shadow(0px 1px 2px rgba(0, 0, 0, 0.3));\n",
              "      fill: #FFFFFF;\n",
              "    }\n",
              "  </style>\n",
              "\n",
              "    <script>\n",
              "      const buttonEl =\n",
              "        document.querySelector('#df-e7d58a6e-2feb-43a0-b1ff-5ac3a8a7c1d1 button.colab-df-convert');\n",
              "      buttonEl.style.display =\n",
              "        google.colab.kernel.accessAllowed ? 'block' : 'none';\n",
              "\n",
              "      async function convertToInteractive(key) {\n",
              "        const element = document.querySelector('#df-e7d58a6e-2feb-43a0-b1ff-5ac3a8a7c1d1');\n",
              "        const dataTable =\n",
              "          await google.colab.kernel.invokeFunction('convertToInteractive',\n",
              "                                                    [key], {});\n",
              "        if (!dataTable) return;\n",
              "\n",
              "        const docLinkHtml = 'Like what you see? Visit the ' +\n",
              "          '<a target=\"_blank\" href=https://colab.research.google.com/notebooks/data_table.ipynb>data table notebook</a>'\n",
              "          + ' to learn more about interactive tables.';\n",
              "        element.innerHTML = '';\n",
              "        dataTable['output_type'] = 'display_data';\n",
              "        await google.colab.output.renderOutput(dataTable, element);\n",
              "        const docLink = document.createElement('div');\n",
              "        docLink.innerHTML = docLinkHtml;\n",
              "        element.appendChild(docLink);\n",
              "      }\n",
              "    </script>\n",
              "  </div>\n",
              "\n",
              "\n",
              "<div id=\"df-f82d7149-783b-4127-9203-944e39d2a203\">\n",
              "  <button class=\"colab-df-quickchart\" onclick=\"quickchart('df-f82d7149-783b-4127-9203-944e39d2a203')\"\n",
              "            title=\"Suggest charts\"\n",
              "            style=\"display:none;\">\n",
              "\n",
              "<svg xmlns=\"http://www.w3.org/2000/svg\" height=\"24px\"viewBox=\"0 0 24 24\"\n",
              "     width=\"24px\">\n",
              "    <g>\n",
              "        <path d=\"M19 3H5c-1.1 0-2 .9-2 2v14c0 1.1.9 2 2 2h14c1.1 0 2-.9 2-2V5c0-1.1-.9-2-2-2zM9 17H7v-7h2v7zm4 0h-2V7h2v10zm4 0h-2v-4h2v4z\"/>\n",
              "    </g>\n",
              "</svg>\n",
              "  </button>\n",
              "\n",
              "<style>\n",
              "  .colab-df-quickchart {\n",
              "      --bg-color: #E8F0FE;\n",
              "      --fill-color: #1967D2;\n",
              "      --hover-bg-color: #E2EBFA;\n",
              "      --hover-fill-color: #174EA6;\n",
              "      --disabled-fill-color: #AAA;\n",
              "      --disabled-bg-color: #DDD;\n",
              "  }\n",
              "\n",
              "  [theme=dark] .colab-df-quickchart {\n",
              "      --bg-color: #3B4455;\n",
              "      --fill-color: #D2E3FC;\n",
              "      --hover-bg-color: #434B5C;\n",
              "      --hover-fill-color: #FFFFFF;\n",
              "      --disabled-bg-color: #3B4455;\n",
              "      --disabled-fill-color: #666;\n",
              "  }\n",
              "\n",
              "  .colab-df-quickchart {\n",
              "    background-color: var(--bg-color);\n",
              "    border: none;\n",
              "    border-radius: 50%;\n",
              "    cursor: pointer;\n",
              "    display: none;\n",
              "    fill: var(--fill-color);\n",
              "    height: 32px;\n",
              "    padding: 0;\n",
              "    width: 32px;\n",
              "  }\n",
              "\n",
              "  .colab-df-quickchart:hover {\n",
              "    background-color: var(--hover-bg-color);\n",
              "    box-shadow: 0 1px 2px rgba(60, 64, 67, 0.3), 0 1px 3px 1px rgba(60, 64, 67, 0.15);\n",
              "    fill: var(--button-hover-fill-color);\n",
              "  }\n",
              "\n",
              "  .colab-df-quickchart-complete:disabled,\n",
              "  .colab-df-quickchart-complete:disabled:hover {\n",
              "    background-color: var(--disabled-bg-color);\n",
              "    fill: var(--disabled-fill-color);\n",
              "    box-shadow: none;\n",
              "  }\n",
              "\n",
              "  .colab-df-spinner {\n",
              "    border: 2px solid var(--fill-color);\n",
              "    border-color: transparent;\n",
              "    border-bottom-color: var(--fill-color);\n",
              "    animation:\n",
              "      spin 1s steps(1) infinite;\n",
              "  }\n",
              "\n",
              "  @keyframes spin {\n",
              "    0% {\n",
              "      border-color: transparent;\n",
              "      border-bottom-color: var(--fill-color);\n",
              "      border-left-color: var(--fill-color);\n",
              "    }\n",
              "    20% {\n",
              "      border-color: transparent;\n",
              "      border-left-color: var(--fill-color);\n",
              "      border-top-color: var(--fill-color);\n",
              "    }\n",
              "    30% {\n",
              "      border-color: transparent;\n",
              "      border-left-color: var(--fill-color);\n",
              "      border-top-color: var(--fill-color);\n",
              "      border-right-color: var(--fill-color);\n",
              "    }\n",
              "    40% {\n",
              "      border-color: transparent;\n",
              "      border-right-color: var(--fill-color);\n",
              "      border-top-color: var(--fill-color);\n",
              "    }\n",
              "    60% {\n",
              "      border-color: transparent;\n",
              "      border-right-color: var(--fill-color);\n",
              "    }\n",
              "    80% {\n",
              "      border-color: transparent;\n",
              "      border-right-color: var(--fill-color);\n",
              "      border-bottom-color: var(--fill-color);\n",
              "    }\n",
              "    90% {\n",
              "      border-color: transparent;\n",
              "      border-bottom-color: var(--fill-color);\n",
              "    }\n",
              "  }\n",
              "</style>\n",
              "\n",
              "  <script>\n",
              "    async function quickchart(key) {\n",
              "      const quickchartButtonEl =\n",
              "        document.querySelector('#' + key + ' button');\n",
              "      quickchartButtonEl.disabled = true;  // To prevent multiple clicks.\n",
              "      quickchartButtonEl.classList.add('colab-df-spinner');\n",
              "      try {\n",
              "        const charts = await google.colab.kernel.invokeFunction(\n",
              "            'suggestCharts', [key], {});\n",
              "      } catch (error) {\n",
              "        console.error('Error during call to suggestCharts:', error);\n",
              "      }\n",
              "      quickchartButtonEl.classList.remove('colab-df-spinner');\n",
              "      quickchartButtonEl.classList.add('colab-df-quickchart-complete');\n",
              "    }\n",
              "    (() => {\n",
              "      let quickchartButtonEl =\n",
              "        document.querySelector('#df-f82d7149-783b-4127-9203-944e39d2a203 button');\n",
              "      quickchartButtonEl.style.display =\n",
              "        google.colab.kernel.accessAllowed ? 'block' : 'none';\n",
              "    })();\n",
              "  </script>\n",
              "</div>\n",
              "    </div>\n",
              "  </div>\n"
            ],
            "application/vnd.google.colaboratory.intrinsic+json": {
              "type": "dataframe",
              "variable_name": "data",
              "summary": "{\n  \"name\": \"data\",\n  \"rows\": 9119,\n  \"fields\": [\n    {\n      \"column\": \"tweet\",\n      \"properties\": {\n        \"dtype\": \"string\",\n        \"num_unique_values\": 8785,\n        \"samples\": [\n          \"i am so frustrated i hanged myself 6 and half weeks ago i barely survived i have a scar on my neck from the 12 inch manilla that cut into my neck yet all i can think of right now is blowing my head off i am on 20mg lexapro 10mg zyprexa and 100mg lamotrigine i spent all of yesterday cutting into my chest because the pain makes not see the hallucinations i get every hour of every day i just want to live a normal life\",\n          \"cold shower ftw too bad clothes had to be put back on it s too hot \",\n          \"rip jack kemp a great american patriot i always wanted to meet and now never will \"\n        ],\n        \"semantic_type\": \"\",\n        \"description\": \"\"\n      }\n    },\n    {\n      \"column\": \"intention\",\n      \"properties\": {\n        \"dtype\": \"number\",\n        \"std\": 0,\n        \"min\": 0,\n        \"max\": 1,\n        \"num_unique_values\": 2,\n        \"samples\": [\n          0,\n          1\n        ],\n        \"semantic_type\": \"\",\n        \"description\": \"\"\n      }\n    }\n  ]\n}"
            }
          },
          "metadata": {},
          "execution_count": 10
        }
      ]
    },
    {
      "cell_type": "code",
      "source": [
        "print(data.columns)"
      ],
      "metadata": {
        "colab": {
          "base_uri": "https://localhost:8080/"
        },
        "id": "XlLYpySfD0Ji",
        "outputId": "782711c2-7613-43b8-ab2b-52af4d6b7452"
      },
      "execution_count": 11,
      "outputs": [
        {
          "output_type": "stream",
          "name": "stdout",
          "text": [
            "Index(['tweet', 'intention'], dtype='object')\n"
          ]
        }
      ]
    },
    {
      "cell_type": "code",
      "source": [
        "sample1 = data[\"tweet\"].get(5)\n",
        "sample1"
      ],
      "metadata": {
        "colab": {
          "base_uri": "https://localhost:8080/",
          "height": 89
        },
        "id": "nUGys6QbERCi",
        "outputId": "49d4e522-bf57-4fc6-9d01-43e10313ed24"
      },
      "execution_count": 12,
      "outputs": [
        {
          "output_type": "execute_result",
          "data": {
            "text/plain": [
              "'i am great and wonderful i am worth it except not enough to be anyones first choice everyone tells me how wonderful i am but not enough to be loved like i love others i put aside everything for people but i am too crazy to hold a job too nothing to be really loved i am not entitled and i dont even have the right to die on my own terms and i am an asshole for being angry about it for being upset that i am there when other people treat me like shit and cant be bothered wheni amhurt'"
            ],
            "application/vnd.google.colaboratory.intrinsic+json": {
              "type": "string"
            }
          },
          "metadata": {},
          "execution_count": 12
        }
      ]
    },
    {
      "cell_type": "code",
      "source": [
        "print(' '.join(preprocess_data(sample1)))"
      ],
      "metadata": {
        "colab": {
          "base_uri": "https://localhost:8080/"
        },
        "id": "9v_f9vI3EgBY",
        "outputId": "0c968957-55d1-4493-a384-692bb8ead580"
      },
      "execution_count": 13,
      "outputs": [
        {
          "output_type": "stream",
          "name": "stdout",
          "text": [
            "great wonderful worth except enough anyones first choice everyone tell wonderful enough love like love others put aside everything people crazy hold job nothing really love entitle dont even right die term asshole angry upset people treat like shit cant bother wheni amhurt\n"
          ]
        }
      ]
    },
    {
      "cell_type": "code",
      "source": [
        "sample2 = data[\"tweet\"].get(20)\n",
        "sample2"
      ],
      "metadata": {
        "colab": {
          "base_uri": "https://localhost:8080/",
          "height": 107
        },
        "id": "V5tOQQgLM8_c",
        "outputId": "2371b4ca-6673-4266-9d75-e6128dbb1a2d"
      },
      "execution_count": 14,
      "outputs": [
        {
          "output_type": "execute_result",
          "data": {
            "text/plain": [
              "'my girlfriend left me i hate college i have no direction in life i just want to go to sleep and never wake up ive been thinking about suicide a lot recently and different methods the only reason i havent done it so far is because i am too much of a pussy i have access to enough drugs to overdose on i live near plenty of tall buildings i am seeing a therapist and psychiatrist all the pills they ve given me have only exacerbated my symptoms i dont care about leaving everything behind because i dont want to hurt the people around me but why should i go on living my shit life just so others arent inconvenienced one of these days i ll be drunk enough to finally pull the trigger figuratively literally '"
            ],
            "application/vnd.google.colaboratory.intrinsic+json": {
              "type": "string"
            }
          },
          "metadata": {},
          "execution_count": 14
        }
      ]
    },
    {
      "cell_type": "code",
      "source": [
        "print(' '.join(preprocess_data(sample2)))"
      ],
      "metadata": {
        "colab": {
          "base_uri": "https://localhost:8080/"
        },
        "id": "lt30rDHaNCRf",
        "outputId": "0f15e550-8cf1-489c-e668-434ecf3e1437"
      },
      "execution_count": 15,
      "outputs": [
        {
          "output_type": "stream",
          "name": "stdout",
          "text": [
            "girlfriend leave hate college direction life want go sleep never wake ive think suicide lot recently different method reason havent far much pussy access enough drug overdose live near plenty tall building see therapist psychiatrist pill give exacerbate symptom dont care leave everything behind dont want hurt people around go living shit life others arent inconvenienced one day drunk enough finally pull trigger figuratively literally\n"
          ]
        }
      ]
    },
    {
      "cell_type": "code",
      "source": [
        "sample3 = data[\"tweet\"].get(100)\n",
        "sample3"
      ],
      "metadata": {
        "colab": {
          "base_uri": "https://localhost:8080/",
          "height": 71
        },
        "id": "yY6DqEYANQ0t",
        "outputId": "1c33960f-5fe6-43e6-beee-f713bd50cd29"
      },
      "execution_count": 16,
      "outputs": [
        {
          "output_type": "execute_result",
          "data": {
            "text/plain": [
              "'is it okay to tell my suicidal friend this will it help in any way for me to tell her that if she dies i know for sure i ll kill myself too some days i feel like i am barely hanging on and losing her would make me go off the edge i m so sad for her and i wish i could help but shes been struggling with these issues for so long and i just want her to be happy again '"
            ],
            "application/vnd.google.colaboratory.intrinsic+json": {
              "type": "string"
            }
          },
          "metadata": {},
          "execution_count": 16
        }
      ]
    },
    {
      "cell_type": "code",
      "source": [
        "print(' '.join(preprocess_data(sample3)))"
      ],
      "metadata": {
        "colab": {
          "base_uri": "https://localhost:8080/"
        },
        "id": "fNwT4kogNUuz",
        "outputId": "89b9f038-0678-4ece-9b21-05ed40af9389"
      },
      "execution_count": 17,
      "outputs": [
        {
          "output_type": "stream",
          "name": "stdout",
          "text": [
            "okay tell suicidal friend help way tell die know sure kill day feel like barely hang lose would make go edge sad wish could help shes struggle issue long want happy\n"
          ]
        }
      ]
    },
    {
      "cell_type": "markdown",
      "source": [
        "Here's a brief comparison of the two outputs:\n",
        "\n",
        "### Comparison\n",
        "\n",
        "1. **Reduction in Length**: The processed text is significantly shorter than the original text. Many words have been removed, likely due to stopword removal, punctuation removal, and other preprocessing steps.\n",
        "   \n",
        "2. **Removal of Non-essential Words**: Words like \"is\", \"it\", \"to\", \"this\", \"in\", \"any\", \"for\", \"me\", \"that\", \"if\", \"she\", \"I\", \"some\", \"days\", \"I\", \"am\", \"on\", \"and\", \"her\", \"would\", \"make\", \"go\", \"off\", \"the\", \"edge\", \"I’m\", \"so\", \"and\", \"but\", \"been\", \"these\", \"issues\", \"for\", \"so\", \"and\", \"just\", \"to\", \"again\" are removed. This is likely because they are considered stopwords or were removed during other preprocessing steps.\n",
        "   \n",
        "3. **Stemming and Lemmatization**: Some words have been transformed to their root forms. For example:\n",
        "   - \"dy\" (likely a result of stemming \"dies\" to \"dy\", which seems incorrect here)\n",
        "   - \"days\" to \"day\"\n",
        "   - \"barely hanging\" to \"barely hanging\"\n",
        "   - \"losing\" to \"losing\"\n",
        "   - \"struggling\" to \"struggling\"\n",
        "   - \"issues\" to \"issue\"\n",
        "   - \"long\" to \"long\"\n",
        "   - \"happy\" to \"happy\"\n",
        "\n",
        "4. **Loss of Context**: The processed text loses much of the nuance and context of the original message. Important emotional and grammatical elements are missing, which can lead to misunderstandings if used in communication.\n",
        "\n",
        "### Conclusion\n",
        "The preprocessing steps have effectively stripped the text of stopwords, punctuation, and transformed words to their root forms. While this is useful for tasks like NLP model training where context might be inferred from large amounts of data, it significantly alters the meaning and readability of individual messages.\n",
        "\n",
        "For tasks like sentiment analysis or classification, this preprocessing is beneficial, but for direct human communication, the original context and emotional nuance are critical and should be preserved."
      ],
      "metadata": {
        "id": "3TfQ8q7rVFi2"
      }
    },
    {
      "cell_type": "markdown",
      "source": [
        "## Question 5:\n",
        "First we apply preprocessing"
      ],
      "metadata": {
        "id": "yD18MyA5XZIz"
      }
    },
    {
      "cell_type": "code",
      "source": [
        "data['cleaned_text'] = data['tweet'].apply(lambda x: preprocess_data(x))"
      ],
      "metadata": {
        "id": "NJ3NIylFXhZc"
      },
      "execution_count": 18,
      "outputs": []
    },
    {
      "cell_type": "markdown",
      "source": [
        "Then we tokenize and count tokens"
      ],
      "metadata": {
        "id": "nc4o2s8zXyCt"
      }
    },
    {
      "cell_type": "code",
      "source": [
        "data['token_count'] = data['cleaned_text'].apply(lambda x: len(x))"
      ],
      "metadata": {
        "id": "1TbY8tjyXyNI"
      },
      "execution_count": 19,
      "outputs": []
    },
    {
      "cell_type": "code",
      "source": [
        "data.columns"
      ],
      "metadata": {
        "colab": {
          "base_uri": "https://localhost:8080/"
        },
        "id": "MYKoaEwrZ4Jn",
        "outputId": "40869daa-0208-48d3-c48b-85b8a903312d"
      },
      "execution_count": 20,
      "outputs": [
        {
          "output_type": "execute_result",
          "data": {
            "text/plain": [
              "Index(['tweet', 'intention', 'cleaned_text', 'token_count'], dtype='object')"
            ]
          },
          "metadata": {},
          "execution_count": 20
        }
      ]
    },
    {
      "cell_type": "markdown",
      "source": [
        "And then we plot box plots for token counts"
      ],
      "metadata": {
        "id": "dr-SORB1YAUD"
      }
    },
    {
      "cell_type": "code",
      "source": [
        "labels = data['intention'].unique()\n",
        "fig, axes = plt.subplots(1, len(labels) + 1, figsize=(20, 6))\n",
        "\n",
        "for i, label in enumerate(labels):\n",
        "    sns.boxplot(data[data['intention'] == label]['token_count'], ax=axes[i])\n",
        "    axes[i].set_title(f'intention {label}')\n",
        "\n",
        "sns.boxplot(data['token_count'], ax=axes[-1])\n",
        "axes[-1].set_title('All Samples')\n",
        "\n",
        "plt.show()\n",
        "\n",
        "print('Minimum token count:', data['token_count'].min())\n",
        "print('Maximum token count:', data['token_count'].max())\n",
        "print('Average token count:', data['token_count'].mean())"
      ],
      "metadata": {
        "colab": {
          "base_uri": "https://localhost:8080/",
          "height": 496
        },
        "id": "oM_eD8WtYAxU",
        "outputId": "25e5828d-0f7f-4ecb-b190-7db6cb9045ce"
      },
      "execution_count": 21,
      "outputs": [
        {
          "output_type": "display_data",
          "data": {
            "text/plain": [
              "<Figure size 2000x600 with 3 Axes>"
            ],
            "image/png": "[encoded data removed]"
          },
          "metadata": {}
        },
        {
          "output_type": "stream",
          "name": "stdout",
          "text": [
            "Minimum token count: 0\n",
            "Maximum token count: 2142\n",
            "Average token count: 37.3279964908433\n"
          ]
        }
      ]
    },
    {
      "cell_type": "markdown",
      "source": [
        "# Part One:\n",
        "# Word2Vec - Word Embedding"
      ],
      "metadata": {
        "id": "gUVmNOd9pe0-"
      }
    },
    {
      "cell_type": "markdown",
      "source": [
        "First we print available word2vec models"
      ],
      "metadata": {
        "id": "xNREzL8Npt08"
      }
    },
    {
      "cell_type": "code",
      "source": [
        "import gensim.downloader as api\n",
        "print(\"\\n\".join(api.info()['models'].keys()))"
      ],
      "metadata": {
        "colab": {
          "base_uri": "https://localhost:8080/"
        },
        "id": "DQY6RynBprUp",
        "outputId": "8e242238-2378-4c3f-c558-2464189d4fc8"
      },
      "execution_count": 22,
      "outputs": [
        {
          "output_type": "stream",
          "name": "stdout",
          "text": [
            "fasttext-wiki-news-subwords-300\n",
            "conceptnet-numberbatch-17-06-300\n",
            "word2vec-ruscorpora-300\n",
            "word2vec-google-news-300\n",
            "glove-wiki-gigaword-50\n",
            "glove-wiki-gigaword-100\n",
            "glove-wiki-gigaword-200\n",
            "glove-wiki-gigaword-300\n",
            "glove-twitter-25\n",
            "glove-twitter-50\n",
            "glove-twitter-100\n",
            "glove-twitter-200\n",
            "__testing_word2vec-matrix-synopsis\n"
          ]
        }
      ]
    },
    {
      "cell_type": "code",
      "source": [
        "W2V_PATH = '/content/drive/My Drive/word2vec_model.bin'\n",
        "\n",
        "if W2V_PATH is not None and os.path.exists(W2V_PATH):\n",
        "    print(\"Loading Word2Vec model...\")\n",
        "    w2v_model = gensim.models.KeyedVectors.load(W2V_PATH, mmap='r')\n",
        "    print(\"Word2Vec model is loaded.\")\n",
        "else:\n",
        "    print(\"Downloading Word2Vec model...\")\n",
        "    w2v_model = api.load(\"word2vec-google-news-300\")\n",
        "    print(\"Word2vec model is downloaded.\")\n",
        "    if W2V_PATH is not None:\n",
        "        print(\"\\nSaving Word2Vec model...\")\n",
        "        w2v_model.save(W2V_PATH)\n",
        "        print(\"Word2Vec model is saved.\")"
      ],
      "metadata": {
        "colab": {
          "base_uri": "https://localhost:8080/"
        },
        "id": "JcXppynIp-Te",
        "outputId": "0f8cd7da-618b-43b3-fdc9-dfa4055e9978"
      },
      "execution_count": 23,
      "outputs": [
        {
          "output_type": "stream",
          "name": "stdout",
          "text": [
            "Loading Word2Vec model...\n",
            "Word2Vec model is loaded.\n"
          ]
        }
      ]
    },
    {
      "cell_type": "code",
      "source": [
        "EMBEDDING_VECTOR_DIM = w2v_model.vector_size"
      ],
      "metadata": {
        "id": "49rpgt6uqG7b"
      },
      "execution_count": 24,
      "outputs": []
    },
    {
      "cell_type": "code",
      "source": [
        "EMBEDDING_VECTOR_DIM"
      ],
      "metadata": {
        "colab": {
          "base_uri": "https://localhost:8080/"
        },
        "id": "KFjii4SR097e",
        "outputId": "e9dae2f5-3297-445b-c7c3-a4d7ed002785"
      },
      "execution_count": 25,
      "outputs": [
        {
          "output_type": "execute_result",
          "data": {
            "text/plain": [
              "300"
            ]
          },
          "metadata": {},
          "execution_count": 25
        }
      ]
    },
    {
      "cell_type": "markdown",
      "source": [
        "# Dataset"
      ],
      "metadata": {
        "id": "yQEjAhuDs6yy"
      }
    },
    {
      "cell_type": "code",
      "source": [
        "\n",
        "class Twitter(Dataset):\n",
        "    def __init__(self, dataframe: pd.DataFrame, w2v_model: gensim.models.KeyedVectors, sequence_len: int):\n",
        "        self.dataframe = dataframe\n",
        "        self.w2v_model = w2v_model\n",
        "        self.max_sequence_len = sequence_len\n",
        "        self.vector_size = w2v_model.vector_size\n",
        "\n",
        "        self.df_token_col = \"tokens\"\n",
        "\n",
        "        self._proc_dataset()\n",
        "\n",
        "        self.len = len(self.dataframe)\n",
        "\n",
        "    def __len__(self):\n",
        "        return self.len\n",
        "\n",
        "    def __getitem__(self, idx):\n",
        "        return self.dataframe.iloc[idx][\"vector\"], self.dataframe.iloc[idx][\"intention\"]\n",
        "\n",
        "    def get_vector_size(self):\n",
        "        return self.vector_size\n",
        "\n",
        "    def _proc_dataset(self):\n",
        "        # Preprocess and return tokens list\n",
        "        self.dataframe[self.df_token_col] = self.dataframe[\"tweet\"].map(preprocess_data)\n",
        "\n",
        "        # delete samples with empty tokens\n",
        "        lwz = len(self.dataframe)\n",
        "        self.dataframe = self.dataframe[self.dataframe[self.df_token_col].map(len) > 0]\n",
        "        self.dataframe.reset_index(drop=True, inplace=True)\n",
        "        print(f\"Deleted 0-Len Samples: {lwz - len(self.dataframe)}\")\n",
        "\n",
        "        # Add padding\n",
        "        self.dataframe[self.df_token_col] = self.dataframe[self.df_token_col].map(self._pad)\n",
        "\n",
        "        # Get embedding's vectors\n",
        "        self.dataframe[\"vector\"] = self.dataframe[self.df_token_col].map(self._get_word_vectors)\n",
        "\n",
        "    def _get_word_vectors(self, tokens: list) -> torch.tensor:\n",
        "        vectors = []\n",
        "        for token in tokens:\n",
        "            if token in self.w2v_model:\n",
        "                vectors.append(self.w2v_model[token])\n",
        "            else:\n",
        "                vectors.append(np.zeros(self.vector_size))\n",
        "        return torch.tensor(vectors, dtype=torch.float32)\n",
        "\n",
        "    def _pad(self, tokens: list):\n",
        "        if len(tokens) < self.max_sequence_len:\n",
        "            tokens.extend([''] * (self.max_sequence_len - len(tokens)))\n",
        "        else:\n",
        "            tokens = tokens[:self.max_sequence_len]\n",
        "        return tokens\n",
        "\n",
        "    def seq_report(self):\n",
        "        length_all = self.dataframe[self.df_token_col].map(len).tolist()\n",
        "        max_length = np.max(length_all)\n",
        "        print(f\"Sequence Length Report\")\n",
        "        print(f\":::::MAX  LENGTH:::[{max_length:^5}]\")\n",
        "        print(f\":::::MIN  LENGTH:::[{np.min(length_all):^5}]\")\n",
        "        print(f\":::::MEAN LENGTH:::[{np.mean(length_all):^5}]\")\n",
        "\n",
        "        all_tokens = set()\n",
        "        for token_set in self.dataframe[self.df_token_col].tolist():\n",
        "            all_tokens = all_tokens.union(set(token_set))\n",
        "        unique_tokens_count = len(all_tokens)\n",
        "        valid_tokens = sum(1 if token in self.w2v_model else 0 for token in all_tokens)\n",
        "        print(\"Sequence Tokenization Report\")\n",
        "        print(f\":::::All Unique Tokens:::[{unique_tokens_count:^6}]\")\n",
        "        print(f\":::::All Valid Tokens:::[{valid_tokens:^6}]\")\n",
        "        print(f\":::::Valid Tokens:::[{round(100*valid_tokens/unique_tokens_count, 2):^5}%]\")\n",
        "\n",
        "    @staticmethod\n",
        "    def _to_tensor(tokens: list):\n",
        "        return torch.tensor(tokens, dtype=torch.float32)\n"
      ],
      "metadata": {
        "id": "KWjR5Mq9s9DU"
      },
      "execution_count": 26,
      "outputs": []
    },
    {
      "cell_type": "code",
      "source": [
        "data.columns"
      ],
      "metadata": {
        "colab": {
          "base_uri": "https://localhost:8080/"
        },
        "id": "N-546wW3lEMJ",
        "outputId": "16272d4a-1882-41c2-fd8b-a570233b807d"
      },
      "execution_count": 27,
      "outputs": [
        {
          "output_type": "execute_result",
          "data": {
            "text/plain": [
              "Index(['tweet', 'intention', 'cleaned_text', 'token_count'], dtype='object')"
            ]
          },
          "metadata": {},
          "execution_count": 27
        }
      ]
    },
    {
      "cell_type": "markdown",
      "source": [
        "Now we check it on some samples"
      ],
      "metadata": {
        "id": "UtfOSB7oQIah"
      }
    },
    {
      "cell_type": "code",
      "source": [
        "data = data.drop(['cleaned_text', 'token_count'], axis=\"columns\")\n",
        "# Convert data to dataframe if needed\n",
        "data = pd.DataFrame(data) if not isinstance(data, pd.DataFrame) else data\n",
        "\n",
        "# Assuming data is already defined and loaded\n",
        "twitter = Twitter(data, w2v_model, 64)"
      ],
      "metadata": {
        "colab": {
          "base_uri": "https://localhost:8080/"
        },
        "id": "PebMDRDkQ0yS",
        "outputId": "2c9d5faa-b877-413e-8772-1ba9b82a9ca2"
      },
      "execution_count": 28,
      "outputs": [
        {
          "output_type": "stream",
          "name": "stdout",
          "text": [
            "Deleted 0-Len Samples: 31\n"
          ]
        },
        {
          "output_type": "stream",
          "name": "stderr",
          "text": [
            "<ipython-input-26-6491df8ee47a>:34: SettingWithCopyWarning: \n",
            "A value is trying to be set on a copy of a slice from a DataFrame.\n",
            "Try using .loc[row_indexer,col_indexer] = value instead\n",
            "\n",
            "See the caveats in the documentation: https://pandas.pydata.org/pandas-docs/stable/user_guide/indexing.html#returning-a-view-versus-a-copy\n",
            "  self.dataframe[self.df_token_col] = self.dataframe[self.df_token_col].map(self._pad)\n",
            "<ipython-input-26-6491df8ee47a>:46: UserWarning: Creating a tensor from a list of numpy.ndarrays is extremely slow. Please consider converting the list to a single numpy.ndarray with numpy.array() before converting to a tensor. (Triggered internally at ../torch/csrc/utils/tensor_new.cpp:274.)\n",
            "  return torch.tensor(vectors, dtype=torch.float32)\n",
            "<ipython-input-26-6491df8ee47a>:37: SettingWithCopyWarning: \n",
            "A value is trying to be set on a copy of a slice from a DataFrame.\n",
            "Try using .loc[row_indexer,col_indexer] = value instead\n",
            "\n",
            "See the caveats in the documentation: https://pandas.pydata.org/pandas-docs/stable/user_guide/indexing.html#returning-a-view-versus-a-copy\n",
            "  self.dataframe[\"vector\"] = self.dataframe[self.df_token_col].map(self._get_word_vectors)\n"
          ]
        }
      ]
    },
    {
      "cell_type": "code",
      "source": [
        "data.columns"
      ],
      "metadata": {
        "id": "H9UuOUE3sVWI",
        "colab": {
          "base_uri": "https://localhost:8080/"
        },
        "outputId": "fdc03f4f-17e9-4f0e-e92c-67d7960c10db"
      },
      "execution_count": 29,
      "outputs": [
        {
          "output_type": "execute_result",
          "data": {
            "text/plain": [
              "Index(['tweet', 'intention', 'tokens'], dtype='object')"
            ]
          },
          "metadata": {},
          "execution_count": 29
        }
      ]
    },
    {
      "cell_type": "code",
      "source": [
        "twitter.dataframe.columns"
      ],
      "metadata": {
        "colab": {
          "base_uri": "https://localhost:8080/"
        },
        "id": "SIgAZlShs2vK",
        "outputId": "1b089509-7baa-49e8-82e1-9a7186a048cf"
      },
      "execution_count": 30,
      "outputs": [
        {
          "output_type": "execute_result",
          "data": {
            "text/plain": [
              "Index(['tweet', 'intention', 'tokens', 'vector'], dtype='object')"
            ]
          },
          "metadata": {},
          "execution_count": 30
        }
      ]
    },
    {
      "cell_type": "code",
      "source": [
        "twitter.seq_report()"
      ],
      "metadata": {
        "colab": {
          "base_uri": "https://localhost:8080/"
        },
        "id": "U6eFt_VX4c2T",
        "outputId": "73a0aa87-1729-4e57-9b70-76e2f546a22c"
      },
      "execution_count": 31,
      "outputs": [
        {
          "output_type": "stream",
          "name": "stdout",
          "text": [
            "Sequence Length Report\n",
            ":::::MAX  LENGTH:::[ 64  ]\n",
            ":::::MIN  LENGTH:::[ 64  ]\n",
            ":::::MEAN LENGTH:::[64.0 ]\n",
            "Sequence Tokenization Report\n",
            ":::::All Unique Tokens:::[15862 ]\n",
            ":::::All Valid Tokens:::[10641 ]\n",
            ":::::Valid Tokens:::[67.08%]\n"
          ]
        }
      ]
    },
    {
      "cell_type": "markdown",
      "source": [
        "## Question 6:\n",
        "### Explanation of Methods for Handling Out-of-Vocabulary Words\n",
        "\n",
        "There are some common methods along with their advantages and disadvantages:\n",
        "\n",
        "1. **Using a Zero Vector**:\n",
        "    - **Description**: Replace out-of-vocabulary (OOV) words with a zero vector of the same dimension as the word vectors.\n",
        "    - **Advantages**:\n",
        "        - Simple to implement.\n",
        "        - Ensures that the dimension of input vectors remains consistent.\n",
        "    - **Disadvantages**:\n",
        "        - Zero vectors do not carry any semantic information.\n",
        "        - Can negatively impact the performance of models, especially if OOV words are common.\n",
        "\n",
        "2. **Using a Random Vector**:\n",
        "    - **Description**: Replace OOV words with a randomly initialized vector of the same dimension as the word vectors.\n",
        "    - **Advantages**:\n",
        "        - Provides a unique vector representation for each OOV word.\n",
        "        - Can help the model learn if the random vectors are initialized appropriately.\n",
        "    - **Disadvantages**:\n",
        "        - Random vectors may introduce noise into the model.\n",
        "        - The randomness can lead to instability in model training.\n",
        "\n",
        "3. **Using a Special Token Vector (e.g., `<UNK>` token)**:\n",
        "    - **Description**: Use a predefined special token (like `<UNK>`) for all OOV words and assign it a specific vector.\n",
        "    - **Advantages**:\n",
        "        - Keeps the representation consistent and avoids introducing randomness.\n",
        "        - The model can learn to handle unknown words more effectively.\n",
        "    - **Disadvantages**:\n",
        "        - Treats all OOV words the same, which might not be optimal if the OOV words are diverse in meaning.\n",
        "\n",
        "4. **Subword Tokenization**:\n",
        "    - **Description**: Break down OOV words into smaller subwords or character n-grams, and use vectors for these subwords.\n",
        "    - **Advantages**:\n",
        "        - Can handle morphological variations and unseen words more effectively.\n",
        "        - Provides more meaningful representations for OOV words by leveraging subword information.\n",
        "    - **Disadvantages**:\n",
        "        - More complex to implement compared to other methods.\n",
        "        - Increases computational complexity due to the need to process subwords.\n",
        "\n",
        "5. **Using Contextual Embeddings**:\n",
        "    - **Description**: Use embeddings from models like BERT, which generate contextualized word vectors that can handle OOV words based on their context.\n",
        "    - **Advantages**:\n",
        "        - Provides rich, context-dependent representations for all words, including OOV words.\n",
        "        - Improves the performance of models on tasks involving natural language understanding.\n",
        "    - **Disadvantages**:\n",
        "        - Computationally expensive and requires more resources.\n",
        "        - More complex to integrate and fine-tune compared to static embeddings.\n",
        "\n",
        "### Conclusion\n",
        "Each method for handling out-of-vocabulary words has its own strengths and weaknesses. The choice of method depends on the specific requirements of the task and the resources available. For simple tasks with limited computational resources, using a zero vector or a special token might be sufficient. For more complex tasks requiring rich semantic understanding, methods like subword tokenization or contextual embeddings might be more appropriate despite their higher complexity and computational cost."
      ],
      "metadata": {
        "id": "hnkZFFU6E2vV"
      }
    },
    {
      "cell_type": "markdown",
      "source": [
        "# Part 2:\n",
        "Classification using a CNN (Convolutional Neural Network)"
      ],
      "metadata": {
        "id": "R7blV4TcSeGi"
      }
    },
    {
      "cell_type": "markdown",
      "source": [
        "## Question 7:\n",
        "### Adam Optimizer\n",
        "The Adam (Adaptive Moment Estimation) optimizer combines the advantages of two other extensions of stochastic gradient descent: AdaGrad and RMSProp. It calculates adaptive learning rates for each parameter. The Adam optimizer maintains two moving averages for each parameter:\n",
        "\n",
        "1. **First moment estimate (mean of gradients):** This is the average of the gradients of the objective function.\n",
        "2. **Second moment estimate (uncentered variance of gradients):** This is the average of the squared gradients.\n",
        "\n",
        "These moving averages are updated as follows:\n",
        "- **First moment (mean):**\n",
        "  \\[\n",
        "  m_t = \\beta_1 m_{t-1} + (1 - \\beta_1) g_t\n",
        "  \\]\n",
        "- **Second moment (variance):**\n",
        "  \\[\n",
        "  v_t = \\beta_2 v_{t-1} + (1 - \\beta_2) g_t^2\n",
        "  \\]\n",
        "- Here, \\( \\beta_1 \\) and \\( \\beta_2 \\) are exponential decay rates (commonly 0.9 and 0.999, respectively), and \\( g_t \\) is the gradient at time step \\( t \\).\n",
        "\n",
        "To correct the bias introduced by the initialization of these moments, bias-corrected estimates are used:\n",
        "- **Bias-corrected first moment:**\n",
        "  \\[\n",
        "  \\hat{m}_t = \\frac{m_t}{1 - \\beta_1^t}\n",
        "  \\]\n",
        "- **Bias-corrected second moment:**\n",
        "  \\[\n",
        "  \\hat{v}_t = \\frac{v_t}{1 - \\beta_2^t}\n",
        "  \\]\n",
        "\n",
        "The parameter update rule is:\n",
        "\\[\n",
        "\\theta_t = \\theta_{t-1} - \\alpha \\frac{\\hat{m}_t}{\\sqrt{\\hat{v}_t} + \\epsilon}\n",
        "\\]\n",
        "where \\( \\alpha \\) is the learning rate and \\( \\epsilon \\) is a small constant to prevent division by zero (commonly \\( 10^{-8} \\)).\n",
        "\n",
        "### SGD Optimizer\n",
        "Stochastic Gradient Descent (SGD) updates parameters using the gradient of the loss function with respect to the parameters. The update rule for SGD is:\n",
        "\\[\n",
        "\\theta_t = \\theta_{t-1} - \\alpha g_t\n",
        "\\]\n",
        "where \\( \\alpha \\) is the learning rate and \\( g_t \\) is the gradient at time step \\( t \\).\n",
        "\n",
        "### Differences between Adam and SGD\n",
        "1. **Learning Rates:**\n",
        "   - **SGD:** Uses a fixed or manually adjusted learning rate.\n",
        "   - **Adam:** Uses adaptive learning rates for each parameter.\n",
        "\n",
        "2. **Gradient Averaging:**\n",
        "   - **SGD:** Uses the current gradient to update the parameters.\n",
        "   - **Adam:** Uses an exponentially decaying average of past gradients (first moment) and an exponentially decaying average of past squared gradients (second moment).\n",
        "\n",
        "3. **Bias Correction:**\n",
        "   - **SGD:** No bias correction.\n",
        "   - **Adam:** Includes bias correction to account for the initialization of the moving averages.\n",
        "\n",
        "4. **Convergence:**\n",
        "   - **SGD:** May struggle with noisy gradients and can oscillate.\n",
        "   - **Adam:** Generally converges faster and handles sparse gradients better due to the adaptive learning rates.\n",
        "\n",
        "5. **Parameter Sensitivity:**\n",
        "   - **SGD:** More sensitive to the choice of the learning rate and requires careful tuning.\n",
        "   - **Adam:** Less sensitive to the initial learning rate, often leading to better results with default settings.\n",
        "\n",
        "- **Adam** is usually preferred for its faster convergence and better handling of sparse gradients.\n",
        "- **SGD** can be effective for simpler problems or when training with very large datasets where the noise in gradient estimates is beneficial for escaping local minima."
      ],
      "metadata": {
        "id": "5IvLxVNKTGbS"
      }
    },
    {
      "cell_type": "markdown",
      "source": [
        "## Question 8:\n",
        "In our project, we utilized the Cross Entropy loss function for our classification task, specifically in the context of training a Convolutional Neural Network (CNN). The choice of Cross Entropy loss is well-suited for classification problems like ours, where the goal is to categorize input data into multiple classes.\n",
        "\n",
        "Cross Entropy loss is particularly effective for classification tasks because it measures the disparity between the predicted probabilities assigned to each class and the true distribution of class labels. By penalizing deviations from the actual labels, Cross Entropy loss guides the model to learn the correct class probabilities during training.\n",
        "\n",
        "Given that our problem involves classifying input data into distinct categories, the Cross Entropy loss function aligns well with the objective of minimizing classification errors and maximizing the model's ability to accurately predict the correct class for each input sample."
      ],
      "metadata": {
        "id": "2e8-1AuxYORv"
      }
    },
    {
      "cell_type": "markdown",
      "source": [
        "# Prepare Data"
      ],
      "metadata": {
        "id": "ogIcMmkWs_ei"
      }
    },
    {
      "cell_type": "code",
      "source": [
        "twitter.dataframe.columns"
      ],
      "metadata": {
        "colab": {
          "base_uri": "https://localhost:8080/"
        },
        "id": "eXKNfc4mdseI",
        "outputId": "e9360ef6-e70b-454b-fee2-825ac627c08a"
      },
      "execution_count": 32,
      "outputs": [
        {
          "output_type": "execute_result",
          "data": {
            "text/plain": [
              "Index(['tweet', 'intention', 'tokens', 'vector'], dtype='object')"
            ]
          },
          "metadata": {},
          "execution_count": 32
        }
      ]
    },
    {
      "cell_type": "code",
      "source": [
        "twitter.dataframe.describe()"
      ],
      "metadata": {
        "colab": {
          "base_uri": "https://localhost:8080/",
          "height": 300
        },
        "id": "tzSbIP63eS4D",
        "outputId": "46fd7d6e-aff6-48d5-9554-c33280ae3565"
      },
      "execution_count": 33,
      "outputs": [
        {
          "output_type": "execute_result",
          "data": {
            "text/plain": [
              "         intention\n",
              "count  9088.000000\n",
              "mean      0.439921\n",
              "std       0.496405\n",
              "min       0.000000\n",
              "25%       0.000000\n",
              "50%       0.000000\n",
              "75%       1.000000\n",
              "max       1.000000"
            ],
            "text/html": [
              "\n",
              "  <div id=\"df-7458181b-a64f-415d-b36a-1d068eb94537\" class=\"colab-df-container\">\n",
              "    <div>\n",
              "<style scoped>\n",
              "    .dataframe tbody tr th:only-of-type {\n",
              "        vertical-align: middle;\n",
              "    }\n",
              "\n",
              "    .dataframe tbody tr th {\n",
              "        vertical-align: top;\n",
              "    }\n",
              "\n",
              "    .dataframe thead th {\n",
              "        text-align: right;\n",
              "    }\n",
              "</style>\n",
              "<table border=\"1\" class=\"dataframe\">\n",
              "  <thead>\n",
              "    <tr style=\"text-align: right;\">\n",
              "      <th></th>\n",
              "      <th>intention</th>\n",
              "    </tr>\n",
              "  </thead>\n",
              "  <tbody>\n",
              "    <tr>\n",
              "      <th>count</th>\n",
              "      <td>9088.000000</td>\n",
              "    </tr>\n",
              "    <tr>\n",
              "      <th>mean</th>\n",
              "      <td>0.439921</td>\n",
              "    </tr>\n",
              "    <tr>\n",
              "      <th>std</th>\n",
              "      <td>0.496405</td>\n",
              "    </tr>\n",
              "    <tr>\n",
              "      <th>min</th>\n",
              "      <td>0.000000</td>\n",
              "    </tr>\n",
              "    <tr>\n",
              "      <th>25%</th>\n",
              "      <td>0.000000</td>\n",
              "    </tr>\n",
              "    <tr>\n",
              "      <th>50%</th>\n",
              "      <td>0.000000</td>\n",
              "    </tr>\n",
              "    <tr>\n",
              "      <th>75%</th>\n",
              "      <td>1.000000</td>\n",
              "    </tr>\n",
              "    <tr>\n",
              "      <th>max</th>\n",
              "      <td>1.000000</td>\n",
              "    </tr>\n",
              "  </tbody>\n",
              "</table>\n",
              "</div>\n",
              "    <div class=\"colab-df-buttons\">\n",
              "\n",
              "  <div class=\"colab-df-container\">\n",
              "    <button class=\"colab-df-convert\" onclick=\"convertToInteractive('df-7458181b-a64f-415d-b36a-1d068eb94537')\"\n",
              "            title=\"Convert this dataframe to an interactive table.\"\n",
              "            style=\"display:none;\">\n",
              "\n",
              "  <svg xmlns=\"http://www.w3.org/2000/svg\" height=\"24px\" viewBox=\"0 -960 960 960\">\n",
              "    <path d=\"M120-120v-720h720v720H120Zm60-500h600v-160H180v160Zm220 220h160v-160H400v160Zm0 220h160v-160H400v160ZM180-400h160v-160H180v160Zm440 0h160v-160H620v160ZM180-180h160v-160H180v160Zm440 0h160v-160H620v160Z\"/>\n",
              "  </svg>\n",
              "    </button>\n",
              "\n",
              "  <style>\n",
              "    .colab-df-container {\n",
              "      display:flex;\n",
              "      gap: 12px;\n",
              "    }\n",
              "\n",
              "    .colab-df-convert {\n",
              "      background-color: #E8F0FE;\n",
              "      border: none;\n",
              "      border-radius: 50%;\n",
              "      cursor: pointer;\n",
              "      display: none;\n",
              "      fill: #1967D2;\n",
              "      height: 32px;\n",
              "      padding: 0 0 0 0;\n",
              "      width: 32px;\n",
              "    }\n",
              "\n",
              "    .colab-df-convert:hover {\n",
              "      background-color: #E2EBFA;\n",
              "      box-shadow: 0px 1px 2px rgba(60, 64, 67, 0.3), 0px 1px 3px 1px rgba(60, 64, 67, 0.15);\n",
              "      fill: #174EA6;\n",
              "    }\n",
              "\n",
              "    .colab-df-buttons div {\n",
              "      margin-bottom: 4px;\n",
              "    }\n",
              "\n",
              "    [theme=dark] .colab-df-convert {\n",
              "      background-color: #3B4455;\n",
              "      fill: #D2E3FC;\n",
              "    }\n",
              "\n",
              "    [theme=dark] .colab-df-convert:hover {\n",
              "      background-color: #434B5C;\n",
              "      box-shadow: 0px 1px 3px 1px rgba(0, 0, 0, 0.15);\n",
              "      filter: drop-shadow(0px 1px 2px rgba(0, 0, 0, 0.3));\n",
              "      fill: #FFFFFF;\n",
              "    }\n",
              "  </style>\n",
              "\n",
              "    <script>\n",
              "      const buttonEl =\n",
              "        document.querySelector('#df-7458181b-a64f-415d-b36a-1d068eb94537 button.colab-df-convert');\n",
              "      buttonEl.style.display =\n",
              "        google.colab.kernel.accessAllowed ? 'block' : 'none';\n",
              "\n",
              "      async function convertToInteractive(key) {\n",
              "        const element = document.querySelector('#df-7458181b-a64f-415d-b36a-1d068eb94537');\n",
              "        const dataTable =\n",
              "          await google.colab.kernel.invokeFunction('convertToInteractive',\n",
              "                                                    [key], {});\n",
              "        if (!dataTable) return;\n",
              "\n",
              "        const docLinkHtml = 'Like what you see? Visit the ' +\n",
              "          '<a target=\"_blank\" href=https://colab.research.google.com/notebooks/data_table.ipynb>data table notebook</a>'\n",
              "          + ' to learn more about interactive tables.';\n",
              "        element.innerHTML = '';\n",
              "        dataTable['output_type'] = 'display_data';\n",
              "        await google.colab.output.renderOutput(dataTable, element);\n",
              "        const docLink = document.createElement('div');\n",
              "        docLink.innerHTML = docLinkHtml;\n",
              "        element.appendChild(docLink);\n",
              "      }\n",
              "    </script>\n",
              "  </div>\n",
              "\n",
              "\n",
              "<div id=\"df-6ca3ace9-a166-4d0c-a501-343391f4f964\">\n",
              "  <button class=\"colab-df-quickchart\" onclick=\"quickchart('df-6ca3ace9-a166-4d0c-a501-343391f4f964')\"\n",
              "            title=\"Suggest charts\"\n",
              "            style=\"display:none;\">\n",
              "\n",
              "<svg xmlns=\"http://www.w3.org/2000/svg\" height=\"24px\"viewBox=\"0 0 24 24\"\n",
              "     width=\"24px\">\n",
              "    <g>\n",
              "        <path d=\"M19 3H5c-1.1 0-2 .9-2 2v14c0 1.1.9 2 2 2h14c1.1 0 2-.9 2-2V5c0-1.1-.9-2-2-2zM9 17H7v-7h2v7zm4 0h-2V7h2v10zm4 0h-2v-4h2v4z\"/>\n",
              "    </g>\n",
              "</svg>\n",
              "  </button>\n",
              "\n",
              "<style>\n",
              "  .colab-df-quickchart {\n",
              "      --bg-color: #E8F0FE;\n",
              "      --fill-color: #1967D2;\n",
              "      --hover-bg-color: #E2EBFA;\n",
              "      --hover-fill-color: #174EA6;\n",
              "      --disabled-fill-color: #AAA;\n",
              "      --disabled-bg-color: #DDD;\n",
              "  }\n",
              "\n",
              "  [theme=dark] .colab-df-quickchart {\n",
              "      --bg-color: #3B4455;\n",
              "      --fill-color: #D2E3FC;\n",
              "      --hover-bg-color: #434B5C;\n",
              "      --hover-fill-color: #FFFFFF;\n",
              "      --disabled-bg-color: #3B4455;\n",
              "      --disabled-fill-color: #666;\n",
              "  }\n",
              "\n",
              "  .colab-df-quickchart {\n",
              "    background-color: var(--bg-color);\n",
              "    border: none;\n",
              "    border-radius: 50%;\n",
              "    cursor: pointer;\n",
              "    display: none;\n",
              "    fill: var(--fill-color);\n",
              "    height: 32px;\n",
              "    padding: 0;\n",
              "    width: 32px;\n",
              "  }\n",
              "\n",
              "  .colab-df-quickchart:hover {\n",
              "    background-color: var(--hover-bg-color);\n",
              "    box-shadow: 0 1px 2px rgba(60, 64, 67, 0.3), 0 1px 3px 1px rgba(60, 64, 67, 0.15);\n",
              "    fill: var(--button-hover-fill-color);\n",
              "  }\n",
              "\n",
              "  .colab-df-quickchart-complete:disabled,\n",
              "  .colab-df-quickchart-complete:disabled:hover {\n",
              "    background-color: var(--disabled-bg-color);\n",
              "    fill: var(--disabled-fill-color);\n",
              "    box-shadow: none;\n",
              "  }\n",
              "\n",
              "  .colab-df-spinner {\n",
              "    border: 2px solid var(--fill-color);\n",
              "    border-color: transparent;\n",
              "    border-bottom-color: var(--fill-color);\n",
              "    animation:\n",
              "      spin 1s steps(1) infinite;\n",
              "  }\n",
              "\n",
              "  @keyframes spin {\n",
              "    0% {\n",
              "      border-color: transparent;\n",
              "      border-bottom-color: var(--fill-color);\n",
              "      border-left-color: var(--fill-color);\n",
              "    }\n",
              "    20% {\n",
              "      border-color: transparent;\n",
              "      border-left-color: var(--fill-color);\n",
              "      border-top-color: var(--fill-color);\n",
              "    }\n",
              "    30% {\n",
              "      border-color: transparent;\n",
              "      border-left-color: var(--fill-color);\n",
              "      border-top-color: var(--fill-color);\n",
              "      border-right-color: var(--fill-color);\n",
              "    }\n",
              "    40% {\n",
              "      border-color: transparent;\n",
              "      border-right-color: var(--fill-color);\n",
              "      border-top-color: var(--fill-color);\n",
              "    }\n",
              "    60% {\n",
              "      border-color: transparent;\n",
              "      border-right-color: var(--fill-color);\n",
              "    }\n",
              "    80% {\n",
              "      border-color: transparent;\n",
              "      border-right-color: var(--fill-color);\n",
              "      border-bottom-color: var(--fill-color);\n",
              "    }\n",
              "    90% {\n",
              "      border-color: transparent;\n",
              "      border-bottom-color: var(--fill-color);\n",
              "    }\n",
              "  }\n",
              "</style>\n",
              "\n",
              "  <script>\n",
              "    async function quickchart(key) {\n",
              "      const quickchartButtonEl =\n",
              "        document.querySelector('#' + key + ' button');\n",
              "      quickchartButtonEl.disabled = true;  // To prevent multiple clicks.\n",
              "      quickchartButtonEl.classList.add('colab-df-spinner');\n",
              "      try {\n",
              "        const charts = await google.colab.kernel.invokeFunction(\n",
              "            'suggestCharts', [key], {});\n",
              "      } catch (error) {\n",
              "        console.error('Error during call to suggestCharts:', error);\n",
              "      }\n",
              "      quickchartButtonEl.classList.remove('colab-df-spinner');\n",
              "      quickchartButtonEl.classList.add('colab-df-quickchart-complete');\n",
              "    }\n",
              "    (() => {\n",
              "      let quickchartButtonEl =\n",
              "        document.querySelector('#df-6ca3ace9-a166-4d0c-a501-343391f4f964 button');\n",
              "      quickchartButtonEl.style.display =\n",
              "        google.colab.kernel.accessAllowed ? 'block' : 'none';\n",
              "    })();\n",
              "  </script>\n",
              "</div>\n",
              "    </div>\n",
              "  </div>\n"
            ],
            "application/vnd.google.colaboratory.intrinsic+json": {
              "type": "dataframe",
              "summary": "{\n  \"name\": \"twitter\",\n  \"rows\": 8,\n  \"fields\": [\n    {\n      \"column\": \"intention\",\n      \"properties\": {\n        \"dtype\": \"number\",\n        \"std\": 3212.944933741263,\n        \"min\": 0.0,\n        \"max\": 9088.0,\n        \"num_unique_values\": 5,\n        \"samples\": [\n          0.4399207746478873,\n          1.0,\n          0.4964046749315607\n        ],\n        \"semantic_type\": \"\",\n        \"description\": \"\"\n      }\n    }\n  ]\n}"
            }
          },
          "metadata": {},
          "execution_count": 33
        }
      ]
    },
    {
      "cell_type": "code",
      "source": [
        "twitter.dataframe.info()"
      ],
      "metadata": {
        "colab": {
          "base_uri": "https://localhost:8080/"
        },
        "id": "r5J4MtJBeXZx",
        "outputId": "f3a8fc0a-9190-4a04-e45c-d6d11aec94aa"
      },
      "execution_count": 34,
      "outputs": [
        {
          "output_type": "stream",
          "name": "stdout",
          "text": [
            "<class 'pandas.core.frame.DataFrame'>\n",
            "RangeIndex: 9088 entries, 0 to 9087\n",
            "Data columns (total 4 columns):\n",
            " #   Column     Non-Null Count  Dtype \n",
            "---  ------     --------------  ----- \n",
            " 0   tweet      9088 non-null   object\n",
            " 1   intention  9088 non-null   int64 \n",
            " 2   tokens     9088 non-null   object\n",
            " 3   vector     9088 non-null   object\n",
            "dtypes: int64(1), object(3)\n",
            "memory usage: 284.1+ KB\n"
          ]
        }
      ]
    },
    {
      "cell_type": "code",
      "source": [
        "twitter.dataframe.head(20)"
      ],
      "metadata": {
        "colab": {
          "base_uri": "https://localhost:8080/",
          "height": 677
        },
        "id": "pNXo1oA3ea4Z",
        "outputId": "5b0c8d9b-0d2f-416c-85b4-0ada1ffab4af"
      },
      "execution_count": 35,
      "outputs": [
        {
          "output_type": "execute_result",
          "data": {
            "text/plain": [
              "                                                tweet  intention  \\\n",
              "0   my life is meaningless i just want to end my l...          1   \n",
              "1   muttering i wanna die to myself daily for a fe...          1   \n",
              "2   work slave i really feel like my only purpose ...          1   \n",
              "3   i did something on the 2 of october i overdose...          1   \n",
              "4   i feel like no one cares i just want to die ma...          1   \n",
              "5   i am great and wonderful i am worth it except ...          1   \n",
              "6   i ll be dead just you wait and see my last wor...          1   \n",
              "7   health anxiety prompting some bad thoughts in ...          1   \n",
              "8   everything is okay but nothing feels okay i ve...          1   \n",
              "9   ptsd and alcohol i had some extremely horrible...          1   \n",
              "10  i dont have long left this past month has been...          1   \n",
              "11  i almost attempted suicide again when someone ...          1   \n",
              "12  i am 16 and hate myself so much i have very li...          1   \n",
              "13  goodbye everybody abusive dad bullying being a...          1   \n",
              "14  i cant stop fucking upi amselfish gutless disr...          1   \n",
              "15  i ve got exactly 23 days of life left and ive ...          1   \n",
              "16  i hate my parents so much i want to kill mysel...          1   \n",
              "17  i cant live in this world ok its too much its ...          1   \n",
              "18  why is mankind afraid of death lately i am ask...          1   \n",
              "19  after failing once this is how i feel i wish t...          1   \n",
              "\n",
              "                                               tokens  \\\n",
              "0   [life, meaningless, want, end, life, badly, li...   \n",
              "1   [mutter, wan, na, die, daily, month, feel, wor...   \n",
              "2   [work, slave, really, feel, like, purpose, lif...   \n",
              "3   [something, october, overdose, felt, alone, ho...   \n",
              "4   [feel, like, one, care, want, die, maybe, feel...   \n",
              "5   [great, wonderful, worth, except, enough, anyo...   \n",
              "6   [dead, wait, see, last, word, death, whoever, ...   \n",
              "7   [health, anxiety, prompt, bad, thought, head, ...   \n",
              "8   [everything, okay, nothing, feel, okay, always...   \n",
              "9   [ptsd, alcohol, extremely, horrible, violent, ...   \n",
              "10  [dont, long, leave, past, month, bad, week, ag...   \n",
              "11  [almost, attempt, suicide, someone, blackmail,...   \n",
              "12  [hate, much, little, friend, introvert, never,...   \n",
              "13  [goodbye, everybody, abusive, dad, bully, wimp...   \n",
              "14  [cant, stop, fucking, upi, amselfish, gutless,...   \n",
              "15  [get, exactly, day, life, leave, ive, never, f...   \n",
              "16  [hate, parent, much, want, kill, spite, especi...   \n",
              "17  [cant, live, world, ok, much, bad, evil, cant,...   \n",
              "18  [mankind, afraid, death, lately, ask, often, o...   \n",
              "19  [fail, feel, wish, suicide, fund, government, ...   \n",
              "\n",
              "                                               vector  \n",
              "0   [[tensor(-0.0679), tensor(0.0952), tensor(0.03...  \n",
              "1   [[tensor(0.0952), tensor(-0.0138), tensor(0.25...  \n",
              "2   [[tensor(-0.0757), tensor(0.0337), tensor(-0.0...  \n",
              "3   [[tensor(0.1123), tensor(0.0183), tensor(0.077...  \n",
              "4   [[tensor(-0.0557), tensor(0.0137), tensor(-0.1...  \n",
              "5   [[tensor(0.0718), tensor(0.2080), tensor(-0.02...  \n",
              "6   [[tensor(0.1494), tensor(0.1650), tensor(0.273...  \n",
              "7   [[tensor(-0.0742), tensor(0.1128), tensor(0.09...  \n",
              "8   [[tensor(0.1123), tensor(-0.0371), tensor(-0.1...  \n",
              "9   [[tensor(0.), tensor(0.), tensor(0.), tensor(0...  \n",
              "10  [[tensor(0.1050), tensor(-0.0330), tensor(0.12...  \n",
              "11  [[tensor(0.1865), tensor(-0.1494), tensor(0.05...  \n",
              "12  [[tensor(0.1328), tensor(0.0801), tensor(0.287...  \n",
              "13  [[tensor(-0.0640), tensor(-0.0220), tensor(-0....  \n",
              "14  [[tensor(0.2041), tensor(-0.0304), tensor(0.00...  \n",
              "15  [[tensor(0.0332), tensor(-0.0898), tensor(-0.2...  \n",
              "16  [[tensor(0.1328), tensor(0.0801), tensor(0.287...  \n",
              "17  [[tensor(0.2041), tensor(-0.0304), tensor(0.00...  \n",
              "18  [[tensor(0.2168), tensor(0.1099), tensor(0.250...  \n",
              "19  [[tensor(0.1377), tensor(0.1416), tensor(0.207...  "
            ],
            "text/html": [
              "\n",
              "  <div id=\"df-8123b68b-2ab2-4b7a-8600-200a0d84897c\" class=\"colab-df-container\">\n",
              "    <div>\n",
              "<style scoped>\n",
              "    .dataframe tbody tr th:only-of-type {\n",
              "        vertical-align: middle;\n",
              "    }\n",
              "\n",
              "    .dataframe tbody tr th {\n",
              "        vertical-align: top;\n",
              "    }\n",
              "\n",
              "    .dataframe thead th {\n",
              "        text-align: right;\n",
              "    }\n",
              "</style>\n",
              "<table border=\"1\" class=\"dataframe\">\n",
              "  <thead>\n",
              "    <tr style=\"text-align: right;\">\n",
              "      <th></th>\n",
              "      <th>tweet</th>\n",
              "      <th>intention</th>\n",
              "      <th>tokens</th>\n",
              "      <th>vector</th>\n",
              "    </tr>\n",
              "  </thead>\n",
              "  <tbody>\n",
              "    <tr>\n",
              "      <th>0</th>\n",
              "      <td>my life is meaningless i just want to end my l...</td>\n",
              "      <td>1</td>\n",
              "      <td>[life, meaningless, want, end, life, badly, li...</td>\n",
              "      <td>[[tensor(-0.0679), tensor(0.0952), tensor(0.03...</td>\n",
              "    </tr>\n",
              "    <tr>\n",
              "      <th>1</th>\n",
              "      <td>muttering i wanna die to myself daily for a fe...</td>\n",
              "      <td>1</td>\n",
              "      <td>[mutter, wan, na, die, daily, month, feel, wor...</td>\n",
              "      <td>[[tensor(0.0952), tensor(-0.0138), tensor(0.25...</td>\n",
              "    </tr>\n",
              "    <tr>\n",
              "      <th>2</th>\n",
              "      <td>work slave i really feel like my only purpose ...</td>\n",
              "      <td>1</td>\n",
              "      <td>[work, slave, really, feel, like, purpose, lif...</td>\n",
              "      <td>[[tensor(-0.0757), tensor(0.0337), tensor(-0.0...</td>\n",
              "    </tr>\n",
              "    <tr>\n",
              "      <th>3</th>\n",
              "      <td>i did something on the 2 of october i overdose...</td>\n",
              "      <td>1</td>\n",
              "      <td>[something, october, overdose, felt, alone, ho...</td>\n",
              "      <td>[[tensor(0.1123), tensor(0.0183), tensor(0.077...</td>\n",
              "    </tr>\n",
              "    <tr>\n",
              "      <th>4</th>\n",
              "      <td>i feel like no one cares i just want to die ma...</td>\n",
              "      <td>1</td>\n",
              "      <td>[feel, like, one, care, want, die, maybe, feel...</td>\n",
              "      <td>[[tensor(-0.0557), tensor(0.0137), tensor(-0.1...</td>\n",
              "    </tr>\n",
              "    <tr>\n",
              "      <th>5</th>\n",
              "      <td>i am great and wonderful i am worth it except ...</td>\n",
              "      <td>1</td>\n",
              "      <td>[great, wonderful, worth, except, enough, anyo...</td>\n",
              "      <td>[[tensor(0.0718), tensor(0.2080), tensor(-0.02...</td>\n",
              "    </tr>\n",
              "    <tr>\n",
              "      <th>6</th>\n",
              "      <td>i ll be dead just you wait and see my last wor...</td>\n",
              "      <td>1</td>\n",
              "      <td>[dead, wait, see, last, word, death, whoever, ...</td>\n",
              "      <td>[[tensor(0.1494), tensor(0.1650), tensor(0.273...</td>\n",
              "    </tr>\n",
              "    <tr>\n",
              "      <th>7</th>\n",
              "      <td>health anxiety prompting some bad thoughts in ...</td>\n",
              "      <td>1</td>\n",
              "      <td>[health, anxiety, prompt, bad, thought, head, ...</td>\n",
              "      <td>[[tensor(-0.0742), tensor(0.1128), tensor(0.09...</td>\n",
              "    </tr>\n",
              "    <tr>\n",
              "      <th>8</th>\n",
              "      <td>everything is okay but nothing feels okay i ve...</td>\n",
              "      <td>1</td>\n",
              "      <td>[everything, okay, nothing, feel, okay, always...</td>\n",
              "      <td>[[tensor(0.1123), tensor(-0.0371), tensor(-0.1...</td>\n",
              "    </tr>\n",
              "    <tr>\n",
              "      <th>9</th>\n",
              "      <td>ptsd and alcohol i had some extremely horrible...</td>\n",
              "      <td>1</td>\n",
              "      <td>[ptsd, alcohol, extremely, horrible, violent, ...</td>\n",
              "      <td>[[tensor(0.), tensor(0.), tensor(0.), tensor(0...</td>\n",
              "    </tr>\n",
              "    <tr>\n",
              "      <th>10</th>\n",
              "      <td>i dont have long left this past month has been...</td>\n",
              "      <td>1</td>\n",
              "      <td>[dont, long, leave, past, month, bad, week, ag...</td>\n",
              "      <td>[[tensor(0.1050), tensor(-0.0330), tensor(0.12...</td>\n",
              "    </tr>\n",
              "    <tr>\n",
              "      <th>11</th>\n",
              "      <td>i almost attempted suicide again when someone ...</td>\n",
              "      <td>1</td>\n",
              "      <td>[almost, attempt, suicide, someone, blackmail,...</td>\n",
              "      <td>[[tensor(0.1865), tensor(-0.1494), tensor(0.05...</td>\n",
              "    </tr>\n",
              "    <tr>\n",
              "      <th>12</th>\n",
              "      <td>i am 16 and hate myself so much i have very li...</td>\n",
              "      <td>1</td>\n",
              "      <td>[hate, much, little, friend, introvert, never,...</td>\n",
              "      <td>[[tensor(0.1328), tensor(0.0801), tensor(0.287...</td>\n",
              "    </tr>\n",
              "    <tr>\n",
              "      <th>13</th>\n",
              "      <td>goodbye everybody abusive dad bullying being a...</td>\n",
              "      <td>1</td>\n",
              "      <td>[goodbye, everybody, abusive, dad, bully, wimp...</td>\n",
              "      <td>[[tensor(-0.0640), tensor(-0.0220), tensor(-0....</td>\n",
              "    </tr>\n",
              "    <tr>\n",
              "      <th>14</th>\n",
              "      <td>i cant stop fucking upi amselfish gutless disr...</td>\n",
              "      <td>1</td>\n",
              "      <td>[cant, stop, fucking, upi, amselfish, gutless,...</td>\n",
              "      <td>[[tensor(0.2041), tensor(-0.0304), tensor(0.00...</td>\n",
              "    </tr>\n",
              "    <tr>\n",
              "      <th>15</th>\n",
              "      <td>i ve got exactly 23 days of life left and ive ...</td>\n",
              "      <td>1</td>\n",
              "      <td>[get, exactly, day, life, leave, ive, never, f...</td>\n",
              "      <td>[[tensor(0.0332), tensor(-0.0898), tensor(-0.2...</td>\n",
              "    </tr>\n",
              "    <tr>\n",
              "      <th>16</th>\n",
              "      <td>i hate my parents so much i want to kill mysel...</td>\n",
              "      <td>1</td>\n",
              "      <td>[hate, parent, much, want, kill, spite, especi...</td>\n",
              "      <td>[[tensor(0.1328), tensor(0.0801), tensor(0.287...</td>\n",
              "    </tr>\n",
              "    <tr>\n",
              "      <th>17</th>\n",
              "      <td>i cant live in this world ok its too much its ...</td>\n",
              "      <td>1</td>\n",
              "      <td>[cant, live, world, ok, much, bad, evil, cant,...</td>\n",
              "      <td>[[tensor(0.2041), tensor(-0.0304), tensor(0.00...</td>\n",
              "    </tr>\n",
              "    <tr>\n",
              "      <th>18</th>\n",
              "      <td>why is mankind afraid of death lately i am ask...</td>\n",
              "      <td>1</td>\n",
              "      <td>[mankind, afraid, death, lately, ask, often, o...</td>\n",
              "      <td>[[tensor(0.2168), tensor(0.1099), tensor(0.250...</td>\n",
              "    </tr>\n",
              "    <tr>\n",
              "      <th>19</th>\n",
              "      <td>after failing once this is how i feel i wish t...</td>\n",
              "      <td>1</td>\n",
              "      <td>[fail, feel, wish, suicide, fund, government, ...</td>\n",
              "      <td>[[tensor(0.1377), tensor(0.1416), tensor(0.207...</td>\n",
              "    </tr>\n",
              "  </tbody>\n",
              "</table>\n",
              "</div>\n",
              "    <div class=\"colab-df-buttons\">\n",
              "\n",
              "  <div class=\"colab-df-container\">\n",
              "    <button class=\"colab-df-convert\" onclick=\"convertToInteractive('df-8123b68b-2ab2-4b7a-8600-200a0d84897c')\"\n",
              "            title=\"Convert this dataframe to an interactive table.\"\n",
              "            style=\"display:none;\">\n",
              "\n",
              "  <svg xmlns=\"http://www.w3.org/2000/svg\" height=\"24px\" viewBox=\"0 -960 960 960\">\n",
              "    <path d=\"M120-120v-720h720v720H120Zm60-500h600v-160H180v160Zm220 220h160v-160H400v160Zm0 220h160v-160H400v160ZM180-400h160v-160H180v160Zm440 0h160v-160H620v160ZM180-180h160v-160H180v160Zm440 0h160v-160H620v160Z\"/>\n",
              "  </svg>\n",
              "    </button>\n",
              "\n",
              "  <style>\n",
              "    .colab-df-container {\n",
              "      display:flex;\n",
              "      gap: 12px;\n",
              "    }\n",
              "\n",
              "    .colab-df-convert {\n",
              "      background-color: #E8F0FE;\n",
              "      border: none;\n",
              "      border-radius: 50%;\n",
              "      cursor: pointer;\n",
              "      display: none;\n",
              "      fill: #1967D2;\n",
              "      height: 32px;\n",
              "      padding: 0 0 0 0;\n",
              "      width: 32px;\n",
              "    }\n",
              "\n",
              "    .colab-df-convert:hover {\n",
              "      background-color: #E2EBFA;\n",
              "      box-shadow: 0px 1px 2px rgba(60, 64, 67, 0.3), 0px 1px 3px 1px rgba(60, 64, 67, 0.15);\n",
              "      fill: #174EA6;\n",
              "    }\n",
              "\n",
              "    .colab-df-buttons div {\n",
              "      margin-bottom: 4px;\n",
              "    }\n",
              "\n",
              "    [theme=dark] .colab-df-convert {\n",
              "      background-color: #3B4455;\n",
              "      fill: #D2E3FC;\n",
              "    }\n",
              "\n",
              "    [theme=dark] .colab-df-convert:hover {\n",
              "      background-color: #434B5C;\n",
              "      box-shadow: 0px 1px 3px 1px rgba(0, 0, 0, 0.15);\n",
              "      filter: drop-shadow(0px 1px 2px rgba(0, 0, 0, 0.3));\n",
              "      fill: #FFFFFF;\n",
              "    }\n",
              "  </style>\n",
              "\n",
              "    <script>\n",
              "      const buttonEl =\n",
              "        document.querySelector('#df-8123b68b-2ab2-4b7a-8600-200a0d84897c button.colab-df-convert');\n",
              "      buttonEl.style.display =\n",
              "        google.colab.kernel.accessAllowed ? 'block' : 'none';\n",
              "\n",
              "      async function convertToInteractive(key) {\n",
              "        const element = document.querySelector('#df-8123b68b-2ab2-4b7a-8600-200a0d84897c');\n",
              "        const dataTable =\n",
              "          await google.colab.kernel.invokeFunction('convertToInteractive',\n",
              "                                                    [key], {});\n",
              "        if (!dataTable) return;\n",
              "\n",
              "        const docLinkHtml = 'Like what you see? Visit the ' +\n",
              "          '<a target=\"_blank\" href=https://colab.research.google.com/notebooks/data_table.ipynb>data table notebook</a>'\n",
              "          + ' to learn more about interactive tables.';\n",
              "        element.innerHTML = '';\n",
              "        dataTable['output_type'] = 'display_data';\n",
              "        await google.colab.output.renderOutput(dataTable, element);\n",
              "        const docLink = document.createElement('div');\n",
              "        docLink.innerHTML = docLinkHtml;\n",
              "        element.appendChild(docLink);\n",
              "      }\n",
              "    </script>\n",
              "  </div>\n",
              "\n",
              "\n",
              "<div id=\"df-e1c0108d-9a66-4a54-94aa-6935afddac55\">\n",
              "  <button class=\"colab-df-quickchart\" onclick=\"quickchart('df-e1c0108d-9a66-4a54-94aa-6935afddac55')\"\n",
              "            title=\"Suggest charts\"\n",
              "            style=\"display:none;\">\n",
              "\n",
              "<svg xmlns=\"http://www.w3.org/2000/svg\" height=\"24px\"viewBox=\"0 0 24 24\"\n",
              "     width=\"24px\">\n",
              "    <g>\n",
              "        <path d=\"M19 3H5c-1.1 0-2 .9-2 2v14c0 1.1.9 2 2 2h14c1.1 0 2-.9 2-2V5c0-1.1-.9-2-2-2zM9 17H7v-7h2v7zm4 0h-2V7h2v10zm4 0h-2v-4h2v4z\"/>\n",
              "    </g>\n",
              "</svg>\n",
              "  </button>\n",
              "\n",
              "<style>\n",
              "  .colab-df-quickchart {\n",
              "      --bg-color: #E8F0FE;\n",
              "      --fill-color: #1967D2;\n",
              "      --hover-bg-color: #E2EBFA;\n",
              "      --hover-fill-color: #174EA6;\n",
              "      --disabled-fill-color: #AAA;\n",
              "      --disabled-bg-color: #DDD;\n",
              "  }\n",
              "\n",
              "  [theme=dark] .colab-df-quickchart {\n",
              "      --bg-color: #3B4455;\n",
              "      --fill-color: #D2E3FC;\n",
              "      --hover-bg-color: #434B5C;\n",
              "      --hover-fill-color: #FFFFFF;\n",
              "      --disabled-bg-color: #3B4455;\n",
              "      --disabled-fill-color: #666;\n",
              "  }\n",
              "\n",
              "  .colab-df-quickchart {\n",
              "    background-color: var(--bg-color);\n",
              "    border: none;\n",
              "    border-radius: 50%;\n",
              "    cursor: pointer;\n",
              "    display: none;\n",
              "    fill: var(--fill-color);\n",
              "    height: 32px;\n",
              "    padding: 0;\n",
              "    width: 32px;\n",
              "  }\n",
              "\n",
              "  .colab-df-quickchart:hover {\n",
              "    background-color: var(--hover-bg-color);\n",
              "    box-shadow: 0 1px 2px rgba(60, 64, 67, 0.3), 0 1px 3px 1px rgba(60, 64, 67, 0.15);\n",
              "    fill: var(--button-hover-fill-color);\n",
              "  }\n",
              "\n",
              "  .colab-df-quickchart-complete:disabled,\n",
              "  .colab-df-quickchart-complete:disabled:hover {\n",
              "    background-color: var(--disabled-bg-color);\n",
              "    fill: var(--disabled-fill-color);\n",
              "    box-shadow: none;\n",
              "  }\n",
              "\n",
              "  .colab-df-spinner {\n",
              "    border: 2px solid var(--fill-color);\n",
              "    border-color: transparent;\n",
              "    border-bottom-color: var(--fill-color);\n",
              "    animation:\n",
              "      spin 1s steps(1) infinite;\n",
              "  }\n",
              "\n",
              "  @keyframes spin {\n",
              "    0% {\n",
              "      border-color: transparent;\n",
              "      border-bottom-color: var(--fill-color);\n",
              "      border-left-color: var(--fill-color);\n",
              "    }\n",
              "    20% {\n",
              "      border-color: transparent;\n",
              "      border-left-color: var(--fill-color);\n",
              "      border-top-color: var(--fill-color);\n",
              "    }\n",
              "    30% {\n",
              "      border-color: transparent;\n",
              "      border-left-color: var(--fill-color);\n",
              "      border-top-color: var(--fill-color);\n",
              "      border-right-color: var(--fill-color);\n",
              "    }\n",
              "    40% {\n",
              "      border-color: transparent;\n",
              "      border-right-color: var(--fill-color);\n",
              "      border-top-color: var(--fill-color);\n",
              "    }\n",
              "    60% {\n",
              "      border-color: transparent;\n",
              "      border-right-color: var(--fill-color);\n",
              "    }\n",
              "    80% {\n",
              "      border-color: transparent;\n",
              "      border-right-color: var(--fill-color);\n",
              "      border-bottom-color: var(--fill-color);\n",
              "    }\n",
              "    90% {\n",
              "      border-color: transparent;\n",
              "      border-bottom-color: var(--fill-color);\n",
              "    }\n",
              "  }\n",
              "</style>\n",
              "\n",
              "  <script>\n",
              "    async function quickchart(key) {\n",
              "      const quickchartButtonEl =\n",
              "        document.querySelector('#' + key + ' button');\n",
              "      quickchartButtonEl.disabled = true;  // To prevent multiple clicks.\n",
              "      quickchartButtonEl.classList.add('colab-df-spinner');\n",
              "      try {\n",
              "        const charts = await google.colab.kernel.invokeFunction(\n",
              "            'suggestCharts', [key], {});\n",
              "      } catch (error) {\n",
              "        console.error('Error during call to suggestCharts:', error);\n",
              "      }\n",
              "      quickchartButtonEl.classList.remove('colab-df-spinner');\n",
              "      quickchartButtonEl.classList.add('colab-df-quickchart-complete');\n",
              "    }\n",
              "    (() => {\n",
              "      let quickchartButtonEl =\n",
              "        document.querySelector('#df-e1c0108d-9a66-4a54-94aa-6935afddac55 button');\n",
              "      quickchartButtonEl.style.display =\n",
              "        google.colab.kernel.accessAllowed ? 'block' : 'none';\n",
              "    })();\n",
              "  </script>\n",
              "</div>\n",
              "    </div>\n",
              "  </div>\n"
            ],
            "application/vnd.google.colaboratory.intrinsic+json": {
              "type": "dataframe",
              "summary": "{\n  \"name\": \"twitter\",\n  \"rows\": 20,\n  \"fields\": [\n    {\n      \"column\": \"tweet\",\n      \"properties\": {\n        \"dtype\": \"string\",\n        \"num_unique_values\": 20,\n        \"samples\": [\n          \"my life is meaningless i just want to end my life so badly my life is completely empty and i dont want to have to create meaning in it creating meaning is pain how long will i hold back the urge to run my car head first into the next person coming the opposite way when will i stop feeling jealous of tragic characters like gomer pile for the swift end they were able to bring to their lives\",\n          \"i cant live in this world ok its too much its too bad and too evil and i cant handle it anymore theres so much more evil in the world than good almost everyone is just apathetic about all the suffering in the world or people actively contribute to it people harass hate and kill each other for no reason people get killed by natural disasters and most people dont give a shit at all they just think whatever better them than me and move on with their lives \",\n          \"i ve got exactly 23 days of life left and ive never felt so calm or at peace id rather not wait till then but its the first day i will be completely alone and have the time i need this\"\n        ],\n        \"semantic_type\": \"\",\n        \"description\": \"\"\n      }\n    },\n    {\n      \"column\": \"intention\",\n      \"properties\": {\n        \"dtype\": \"number\",\n        \"std\": 0,\n        \"min\": 1,\n        \"max\": 1,\n        \"num_unique_values\": 1,\n        \"samples\": [\n          1\n        ],\n        \"semantic_type\": \"\",\n        \"description\": \"\"\n      }\n    },\n    {\n      \"column\": \"tokens\",\n      \"properties\": {\n        \"dtype\": \"object\",\n        \"semantic_type\": \"\",\n        \"description\": \"\"\n      }\n    },\n    {\n      \"column\": \"vector\",\n      \"properties\": {\n        \"dtype\": \"string\",\n        \"num_unique_values\": 20,\n        \"samples\": [\n          \"tensor([[-0.0679,  0.0952,  0.0356,  ...,  0.1270, -0.1035,  0.0476],\\n        [ 0.2578,  0.0258,  0.2168,  ...,  0.0649, -0.1816,  0.0520],\\n        [ 0.1367,  0.1484,  0.1147,  ..., -0.1826,  0.0444, -0.0417],\\n        ...,\\n        [ 0.0000,  0.0000,  0.0000,  ...,  0.0000,  0.0000,  0.0000],\\n        [ 0.0000,  0.0000,  0.0000,  ...,  0.0000,  0.0000,  0.0000],\\n        [ 0.0000,  0.0000,  0.0000,  ...,  0.0000,  0.0000,  0.0000]])\"\n        ],\n        \"semantic_type\": \"\",\n        \"description\": \"\"\n      }\n    }\n  ]\n}"
            }
          },
          "metadata": {},
          "execution_count": 35
        }
      ]
    },
    {
      "cell_type": "markdown",
      "source": [
        "## Split Data into train-valid"
      ],
      "metadata": {
        "id": "Nhze93ALtCBV"
      }
    },
    {
      "cell_type": "code",
      "source": [
        "from sklearn.model_selection import train_test_split\n",
        "\n",
        "\n",
        "# Splitting the dataset into train and test sets\n",
        "train_data, test_data = train_test_split(data, test_size=0.2, random_state=42)"
      ],
      "metadata": {
        "id": "Agx7dSJmtEsP"
      },
      "execution_count": 36,
      "outputs": []
    },
    {
      "cell_type": "markdown",
      "source": [
        "## Create Datasets"
      ],
      "metadata": {
        "id": "47m1IjKgtHbm"
      }
    },
    {
      "cell_type": "code",
      "source": [
        "# TODO: create twitter dataset\n",
        "train_dataset = Twitter(train_data, w2v_model, 64)\n",
        "valid_dataset = Twitter(test_data, w2v_model, 64)\n"
      ],
      "metadata": {
        "id": "-1WntPAvtJLk",
        "colab": {
          "base_uri": "https://localhost:8080/"
        },
        "outputId": "af414dfe-f5c4-441c-ddd1-e90415552147"
      },
      "execution_count": 37,
      "outputs": [
        {
          "output_type": "stream",
          "name": "stdout",
          "text": [
            "Deleted 0-Len Samples: 23\n"
          ]
        },
        {
          "output_type": "stream",
          "name": "stderr",
          "text": [
            "<ipython-input-26-6491df8ee47a>:34: SettingWithCopyWarning: \n",
            "A value is trying to be set on a copy of a slice from a DataFrame.\n",
            "Try using .loc[row_indexer,col_indexer] = value instead\n",
            "\n",
            "See the caveats in the documentation: https://pandas.pydata.org/pandas-docs/stable/user_guide/indexing.html#returning-a-view-versus-a-copy\n",
            "  self.dataframe[self.df_token_col] = self.dataframe[self.df_token_col].map(self._pad)\n",
            "<ipython-input-26-6491df8ee47a>:37: SettingWithCopyWarning: \n",
            "A value is trying to be set on a copy of a slice from a DataFrame.\n",
            "Try using .loc[row_indexer,col_indexer] = value instead\n",
            "\n",
            "See the caveats in the documentation: https://pandas.pydata.org/pandas-docs/stable/user_guide/indexing.html#returning-a-view-versus-a-copy\n",
            "  self.dataframe[\"vector\"] = self.dataframe[self.df_token_col].map(self._get_word_vectors)\n"
          ]
        },
        {
          "output_type": "stream",
          "name": "stdout",
          "text": [
            "Deleted 0-Len Samples: 8\n"
          ]
        },
        {
          "output_type": "stream",
          "name": "stderr",
          "text": [
            "<ipython-input-26-6491df8ee47a>:34: SettingWithCopyWarning: \n",
            "A value is trying to be set on a copy of a slice from a DataFrame.\n",
            "Try using .loc[row_indexer,col_indexer] = value instead\n",
            "\n",
            "See the caveats in the documentation: https://pandas.pydata.org/pandas-docs/stable/user_guide/indexing.html#returning-a-view-versus-a-copy\n",
            "  self.dataframe[self.df_token_col] = self.dataframe[self.df_token_col].map(self._pad)\n",
            "<ipython-input-26-6491df8ee47a>:37: SettingWithCopyWarning: \n",
            "A value is trying to be set on a copy of a slice from a DataFrame.\n",
            "Try using .loc[row_indexer,col_indexer] = value instead\n",
            "\n",
            "See the caveats in the documentation: https://pandas.pydata.org/pandas-docs/stable/user_guide/indexing.html#returning-a-view-versus-a-copy\n",
            "  self.dataframe[\"vector\"] = self.dataframe[self.df_token_col].map(self._get_word_vectors)\n"
          ]
        }
      ]
    },
    {
      "cell_type": "code",
      "source": [
        "print(f\"Train dataset length: {len(train_dataset)}\")\n",
        "print(f\"Valid dataset length: {len(valid_dataset)}\")"
      ],
      "metadata": {
        "colab": {
          "base_uri": "https://localhost:8080/"
        },
        "id": "4uTf3M265x4L",
        "outputId": "99898314-6de0-4137-e1ae-9d1b179980e4"
      },
      "execution_count": 38,
      "outputs": [
        {
          "output_type": "stream",
          "name": "stdout",
          "text": [
            "Train dataset length: 7272\n",
            "Valid dataset length: 1816\n"
          ]
        }
      ]
    },
    {
      "cell_type": "markdown",
      "source": [
        "## Question 9:\n",
        "In CNN models, and generally in machine learning, the dataset is often split into training and testing sets to evaluate the model's performance on unseen data. The common practice of splitting data in an 80-20 range (80% training, 20% testing) is motivated by several reasons:\n",
        "\n",
        "1. **Sufficient Training Data**: A model needs a substantial amount of data to learn patterns effectively. Allocating 80% of the data to training ensures that the model has enough examples to learn from, which helps improve its generalization ability.\n",
        "\n",
        "2. **Reliable Evaluation**: The remaining 20% is used for testing to evaluate the model's performance on unseen data. This helps in assessing how well the model generalizes to new, unseen examples. A 20% test set is generally large enough to provide a reliable estimate of the model's performance.\n",
        "\n",
        "3. **Balance**: The 80-20 split strikes a balance between having enough data for training and enough for testing. If the training set is too small, the model might not learn adequately. Conversely, if the test set is too small, the evaluation might not be reliable.\n",
        "\n",
        "4. **Standard Practice**: The 80-20 split is a widely accepted convention in the machine learning community. This convention makes it easier to compare results across different studies and experiments, as it provides a common baseline.\n",
        "\n",
        "5. **Avoiding Overfitting**: By evaluating the model on a separate test set, we can detect if the model is overfitting the training data. Overfitting occurs when a model learns the training data too well, including its noise and outliers, which negatively impacts its performance on new data.\n",
        "\n",
        "6. **Computational Efficiency**: In practical scenarios, especially with large datasets, the 80-20 split ensures that the model training and evaluation are computationally efficient. Training on 80% of the data usually provides a good balance between performance and training time.\n",
        "\n",
        "The 80-20 split is a pragmatic choice that ensures the model has enough data to learn from while reserving a sufficient portion for reliable performance evaluation. This balance helps in developing robust models that generalize well to new, unseen data."
      ],
      "metadata": {
        "id": "MQZo6-6-6rSl"
      }
    },
    {
      "cell_type": "markdown",
      "source": [
        "# Model and Train"
      ],
      "metadata": {
        "id": "TJa0Wm1aXpsW"
      }
    },
    {
      "cell_type": "markdown",
      "source": [
        "## Utils"
      ],
      "metadata": {
        "id": "RTTNAxBltPKg"
      }
    },
    {
      "cell_type": "code",
      "source": [
        "@torch.no_grad()\n",
        "def model_eval(model, loader, loss_function, device: str = 'auto'):\n",
        "    \"\"\"Returns test_loss, test_acc\"\"\"\n",
        "    test_loss = 0.0\n",
        "    test_acc = 0.0\n",
        "    correct_predictions = 0\n",
        "    total_predictions = 0\n",
        "\n",
        "    if device == \"auto\":\n",
        "        device = torch.device(\"cuda\" if torch.cuda.is_available() else \"cpu\")\n",
        "\n",
        "    model = model.to(device)\n",
        "    #model.eval()  # Set the model to evaluation mode\n",
        "    itr = tqdm(loader, total=len(loader), leave=False)\n",
        "\n",
        "    for inputs, labels in itr:\n",
        "        # TODO: move model's inputs to `device`\n",
        "        inputs, labels = inputs.to(device), labels.to(device)\n",
        "\n",
        "        # TODO: use model's forward pass to generate outputs\n",
        "        outputs = model(inputs)\n",
        "\n",
        "        # TODO: calculate model's loss\n",
        "        loss = loss_function(outputs, labels)\n",
        "        test_loss += loss.item()\n",
        "\n",
        "        # TODO: calculate/update model's accuracy\n",
        "        _, predicted = torch.max(outputs, 1)\n",
        "        correct_predictions += (predicted == labels).sum().item()\n",
        "        total_predictions += labels.size(0)\n",
        "        test_acc = correct_predictions / total_predictions\n",
        "\n",
        "        itr.set_description(\"(Eval)\")\n",
        "        itr.set_postfix(\n",
        "            loss=round(loss.item(), 5),\n",
        "            accuracy=round(test_acc, 5),\n",
        "        )\n",
        "    test_loss /= len(loader)\n",
        "    return test_loss, test_acc\n"
      ],
      "metadata": {
        "id": "eaFtWf6etNPj"
      },
      "execution_count": 70,
      "outputs": []
    },
    {
      "cell_type": "code",
      "source": [
        "def train_model(\n",
        "        model,\n",
        "        batch_size,\n",
        "        loss_function,\n",
        "        optimizer,\n",
        "        epochs,\n",
        "        train_set,\n",
        "        valid_set,\n",
        "        device: str ='auto',\n",
        "):\n",
        "\n",
        "    if device == \"auto\":\n",
        "        device = torch.device(\"cuda\" if torch.cuda.is_available() else \"cpu\")\n",
        "\n",
        "\n",
        "    train_losses = []\n",
        "    train_accs = []\n",
        "\n",
        "    valid_losses = []\n",
        "    valid_accs = []\n",
        "\n",
        "    # TODO: create dataloaders from datasets\n",
        "    train_loader = DataLoader(train_set, batch_size=batch_size, shuffle=True)\n",
        "    valid_loader = DataLoader(valid_set, batch_size=batch_size, shuffle=False)\n",
        "\n",
        "    # model.to(device)\n",
        "\n",
        "    # itr = tqdm(train_loader, total=len(train_loader), leave=False)\n",
        "\n",
        "    for epoch in range(epochs):\n",
        "        model.train()\n",
        "        epoch_loss = 0\n",
        "        epoch_acc = 0\n",
        "        correct_predictions = 0\n",
        "        total_predictions = 0\n",
        "\n",
        "        itr = tqdm(train_loader, total=len(train_loader), leave=True, desc=f\"(Training) Epoch [{epoch + 1}/{epochs}]\")\n",
        "\n",
        "        for idx, (inputs, labels) in enumerate(itr, start=1):\n",
        "            # TODO: move model's inputs to `device`\n",
        "            inputs, labels = inputs.to(device), labels.to(device)\n",
        "\n",
        "            # TODO: use model's forward pass to generate outputs\n",
        "            outputs = model(inputs)\n",
        "\n",
        "            # TODO: process model's predictipns and calculate/update accuracy\n",
        "            _, predicted = torch.max(outputs, 1)\n",
        "            correct_predictions += (predicted == labels).sum().item()\n",
        "            total_predictions += labels.size(0)\n",
        "            epoch_acc = correct_predictions / total_predictions\n",
        "\n",
        "            # TODO: calculate model's loss and update epoch's loss\n",
        "            loss = loss_function(outputs, labels)\n",
        "            epoch_loss += loss.item()\n",
        "\n",
        "            # TODO: 1. clear optimizer's state and zero prev grads,\n",
        "            optimizer.zero_grad()\n",
        "            # TODO: 2. backward calculated loss\n",
        "            loss.backward()\n",
        "            # TODO: 3. step optimizer\n",
        "            optimizer.step()\n",
        "\n",
        "            itr.set_description(f\"(Training) Epoch [{epoch + 1}/{epochs}]\")\n",
        "            itr.set_postfix(\n",
        "              loss=round(loss.item(), 5),\n",
        "              accuracy=round(epoch_acc, 5),\n",
        "              )\n",
        "\n",
        "        epoch_loss /= len(itr)\n",
        "        model.eval()\n",
        "        valid_loss, valid_acc = model_eval(\n",
        "            model=model,\n",
        "            loader=valid_loader,\n",
        "            loss_function=loss_function,\n",
        "            device=device\n",
        "            )\n",
        "\n",
        "\n",
        "        # TODO: update statistics regaurding model's loss and acc in training or validation phases\n",
        "        train_losses.append(epoch_loss)\n",
        "        train_accs.append(epoch_acc)\n",
        "        valid_losses.append(valid_loss)\n",
        "        valid_accs.append(valid_acc)\n",
        "\n",
        "        print(f\"Epoch [{epoch + 1}/{epochs}]\")\n",
        "        print(f\"Train Loss: {epoch_loss:.5f}, Train Accuracy: {epoch_acc:.5f}\")\n",
        "        print(f\"Validation Loss: {valid_loss:.5f}, Validation Accuracy: {valid_acc:.5f}\")\n",
        "\n",
        "\n",
        "    history = {\n",
        "      \"train_loss\": train_losses,\n",
        "      \"train_acc\": train_accs,\n",
        "\n",
        "      \"valid_loss\": valid_losses,\n",
        "      \"valid_acc\": valid_accs,\n",
        "    }\n",
        "    return history"
      ],
      "metadata": {
        "id": "aCYXpZrrtUDz"
      },
      "execution_count": 71,
      "outputs": []
    },
    {
      "cell_type": "code",
      "source": [
        "def trend_plot_helper(pobj):\n",
        "    plt.figure(figsize=(5*len(pobj), 5))\n",
        "    for idx, (titler, plots) in enumerate(pobj.items(), start=1):\n",
        "        plt.subplot(1, len(pobj), idx)\n",
        "        for label, trend in plots:\n",
        "            plt.plot(range(1, len(trend)+1), trend, label=label)\n",
        "        yt, xt = titler.split(' - ')\n",
        "        plt.xlabel(xt)\n",
        "        plt.ylabel(yt)\n",
        "        plt.legend()"
      ],
      "metadata": {
        "id": "E1jzlMuItW2L"
      },
      "execution_count": 72,
      "outputs": []
    },
    {
      "cell_type": "code",
      "source": [
        "@torch.no_grad()\n",
        "def generate_confusion_matrix(model, dataset, device='auto'):\n",
        "    if device == 'auto':\n",
        "        device = torch.device(\"cuda\" if torch.cuda.is_available() else \"cpu\")\n",
        "\n",
        "    model = model.to(device)\n",
        "\n",
        "    loader = DataLoader(dataset, batch_size=32, shuffle=False)\n",
        "    itr = tqdm(loader, leave=False, desc=\"Generate data\")\n",
        "\n",
        "    # TODO: code here, you must fill variables below\n",
        "    # TODO: labels = true labels from the dataset\n",
        "    # TODO: predicted = labels predicted by the model\n",
        "    all_labels = []\n",
        "    all_predictions = []\n",
        "\n",
        "    for inputs, labels in itr:\n",
        "        inputs, labels = inputs.to(device), labels.to(device)\n",
        "        outputs = model(inputs)\n",
        "        _, predicted = torch.max(outputs, 1)\n",
        "\n",
        "        all_labels.extend(labels.cpu().numpy())\n",
        "        all_predictions.extend(predicted.cpu().numpy())\n",
        "\n",
        "    labels = all_labels\n",
        "    predicted = all_predictions\n",
        "\n",
        "    cm = metrics.confusion_matrix(\n",
        "        y_true=labels,\n",
        "        y_pred=predicted,\n",
        "    )\n",
        "\n",
        "    plt.figure(figsize=(10,10))\n",
        "    sns.heatmap(cm, cmap='Blues', annot=True, cbar=False, fmt=\".0f\",)\n",
        "    plt.xlabel('Predicted Label', labelpad=20)\n",
        "    plt.ylabel('True Label', labelpad=20)\n",
        "    plt.title('Confusion Matrix', fontsize=30)\n",
        "\n",
        "    recall = metrics.recall_score(y_true=labels, y_pred=predicted, average='macro')\n",
        "    f1 = metrics.f1_score(y_true=labels, y_pred=predicted, average='macro')\n",
        "    precision = metrics.precision_score(y_true=labels, y_pred=predicted, average='macro')\n",
        "    report = metrics.classification_report(y_true=labels, y_pred=predicted)\n",
        "\n",
        "    return {'recall': recall, 'f1': f1, 'precision': precision, 'report': report}\n"
      ],
      "metadata": {
        "id": "NQE29MQstYrU"
      },
      "execution_count": 73,
      "outputs": []
    },
    {
      "cell_type": "markdown",
      "source": [
        "## Model's Network"
      ],
      "metadata": {
        "id": "eIMWsHBRtbAE"
      }
    },
    {
      "cell_type": "code",
      "source": [
        "class CNN(nn.Module):\n",
        "    def __init__(self, context=64, regularization=False, dropout=0.5): # TODO: define your args here\n",
        "        super(CNN, self).__init__()\n",
        "\n",
        "        self.regularization = regularization\n",
        "\n",
        "        # First block of Conv1D layers\n",
        "        self.conv1_3 = nn.Conv1d(in_channels=context, out_channels=64, kernel_size=3, padding=1)\n",
        "        self.conv1_5 = nn.Conv1d(in_channels=context, out_channels=64, kernel_size=5, padding=2)\n",
        "        self.conv1_7 = nn.Conv1d(in_channels=context, out_channels=64, kernel_size=7, padding=3)\n",
        "        self.bn1 = nn.BatchNorm1d(64)\n",
        "        self.relu = nn.ReLU()\n",
        "\n",
        "        # Second block of Conv1D layers\n",
        "        self.conv2_3 = nn.Conv1d(in_channels=64, out_channels=128, kernel_size=3, padding=1)\n",
        "        self.conv2_5 = nn.Conv1d(in_channels=64, out_channels=128, kernel_size=5, padding=2)\n",
        "        self.conv2_7 = nn.Conv1d(in_channels=64, out_channels=128, kernel_size=7, padding=3)\n",
        "        self.bn2 = nn.BatchNorm1d(128)\n",
        "\n",
        "        self.max_pool = nn.MaxPool1d(kernel_size=2)\n",
        "        self.global_avg_pool = nn.AdaptiveAvgPool1d(1)\n",
        "\n",
        "        # Flatten layer\n",
        "        self.flatten = nn.Flatten()\n",
        "\n",
        "        # Fully connected (linear) layers\n",
        "        self.fc1 = nn.Linear(in_features=128 * 3, out_features=128)\n",
        "        self.dropout = nn.Dropout(p=0.5)\n",
        "        self.fc2 = nn.Linear(in_features=128, out_features=2)\n",
        "\n",
        "    def forward(self, x):\n",
        "\n",
        "        # First block of Conv1D layers\n",
        "        x1 = self.relu(self.conv1_3(x))\n",
        "        x2 = self.relu(self.conv1_5(x))\n",
        "        x3 = self.relu(self.conv1_7(x))\n",
        "\n",
        "        # Concatenate outputs of first block along the channel dimension\n",
        "        #x = torch.cat((x1, x2, x3), dim=1)\n",
        "\n",
        "        # Second block of Conv1D layers\n",
        "        if (self.regularization):\n",
        "          x1_2 = self.relu(self.bn2(self.conv2_3(x1)))\n",
        "          x2_2 = self.relu(self.bn2(self.conv2_5(x2)))\n",
        "          x3_2 = self.relu(self.bn2(self.conv2_7(x3)))\n",
        "        else:\n",
        "          x1_2 = self.relu(self.conv2_3(x1))\n",
        "          x2_2 = self.relu(self.conv2_5(x2))\n",
        "          x3_2 = self.relu(self.conv2_7(x3))\n",
        "\n",
        "\n",
        "\n",
        "        x1_2 = self.max_pool(x1_2)\n",
        "        x2_2 = self.max_pool(x2_2)\n",
        "        x3_2 = self.max_pool(x3_2)\n",
        "\n",
        "\n",
        "        x1_2 = self.global_avg_pool(x1_2)\n",
        "        x2_2 = self.global_avg_pool(x2_2)\n",
        "        x3_2 = self.global_avg_pool(x3_2)\n",
        "\n",
        "        # Concatenate outputs of second block along the channel dimension\n",
        "        x = torch.cat((x1_2, x2_2, x3_2), dim=1)\n",
        "\n",
        "        # Flatten the tensor\n",
        "        x = self.flatten(x)\n",
        "        x = self.fc1(x)\n",
        "\n",
        "        # Fully connected (linear) layers\n",
        "        if (self.regularization):\n",
        "          x = self.dropout(x)\n",
        "        x = self.fc2(x)\n",
        "\n",
        "        # return\n",
        "        return x"
      ],
      "metadata": {
        "id": "sKXLvAlxtbel"
      },
      "execution_count": 74,
      "outputs": []
    },
    {
      "cell_type": "markdown",
      "source": [
        "## Training"
      ],
      "metadata": {
        "id": "VXMH_Xy5tdv2"
      }
    },
    {
      "cell_type": "code",
      "source": [
        "# TODO: instantiate your model here\n",
        "model = CNN()\n",
        "loss_function = nn.CrossEntropyLoss()\n",
        "optimizer = torch.optim.Adam(model.parameters(), lr=0.001)\n",
        "batch_size = 32\n",
        "epochs = 10"
      ],
      "metadata": {
        "id": "G4eKZCFbtgVR"
      },
      "execution_count": 75,
      "outputs": []
    },
    {
      "cell_type": "code",
      "source": [
        "cnn_model_train_history = train_model(\n",
        "    model=model,  # Pass your instantiated CNN model\n",
        "    batch_size=batch_size,  # Set your desired batch size\n",
        "    loss_function=loss_function,  # Use Cross Entropy loss function\n",
        "    optimizer=optimizer,  # Use Adam optimizer\n",
        "    epochs=epochs,  # Set the number of epochs for training\n",
        "    train_set=train_dataset,  # Pass your training dataset\n",
        "    valid_set=valid_dataset,  # Pass your validation dataset\n",
        "    device=\"auto\",  # Specify device for training\n",
        ")"
      ],
      "metadata": {
        "id": "gnBDivxItigz",
        "colab": {
          "base_uri": "https://localhost:8080/"
        },
        "outputId": "960ff4a1-6a37-43a0-f470-1194f0f3aefd"
      },
      "execution_count": 45,
      "outputs": [
        {
          "output_type": "stream",
          "name": "stderr",
          "text": [
            "(Training) Epoch [1/10]: 100%|██████████| 228/228 [01:10<00:00,  3.23it/s, accuracy=0.829, loss=0.294]\n"
          ]
        },
        {
          "output_type": "stream",
          "name": "stdout",
          "text": [
            "Epoch [1/10]\n",
            "Train Loss: 87.74129, Train Accuracy: 0.82948\n",
            "Validation Loss: 645.94643, Validation Accuracy: 0.84416\n"
          ]
        },
        {
          "output_type": "stream",
          "name": "stderr",
          "text": [
            "(Training) Epoch [2/10]: 100%|██████████| 228/228 [01:09<00:00,  3.28it/s, accuracy=0.846, loss=0.622]\n"
          ]
        },
        {
          "output_type": "stream",
          "name": "stdout",
          "text": [
            "Epoch [2/10]\n",
            "Train Loss: 80.25717, Train Accuracy: 0.84557\n",
            "Validation Loss: 625.86775, Validation Accuracy: 0.85297\n"
          ]
        },
        {
          "output_type": "stream",
          "name": "stderr",
          "text": [
            "(Training) Epoch [3/10]: 100%|██████████| 228/228 [01:08<00:00,  3.35it/s, accuracy=0.849, loss=0.117]\n"
          ]
        },
        {
          "output_type": "stream",
          "name": "stdout",
          "text": [
            "Epoch [3/10]\n",
            "Train Loss: 78.71908, Train Accuracy: 0.84915\n",
            "Validation Loss: 606.75253, Validation Accuracy: 0.85848\n"
          ]
        },
        {
          "output_type": "stream",
          "name": "stderr",
          "text": [
            "(Training) Epoch [4/10]: 100%|██████████| 228/228 [01:07<00:00,  3.38it/s, accuracy=0.853, loss=0.24]\n"
          ]
        },
        {
          "output_type": "stream",
          "name": "stdout",
          "text": [
            "Epoch [4/10]\n",
            "Train Loss: 76.55144, Train Accuracy: 0.85341\n",
            "Validation Loss: 610.48058, Validation Accuracy: 0.85738\n"
          ]
        },
        {
          "output_type": "stream",
          "name": "stderr",
          "text": [
            "(Training) Epoch [5/10]: 100%|██████████| 228/228 [01:07<00:00,  3.37it/s, accuracy=0.856, loss=0.172]\n"
          ]
        },
        {
          "output_type": "stream",
          "name": "stdout",
          "text": [
            "Epoch [5/10]\n",
            "Train Loss: 76.03297, Train Accuracy: 0.85644\n",
            "Validation Loss: 612.82772, Validation Accuracy: 0.85683\n"
          ]
        },
        {
          "output_type": "stream",
          "name": "stderr",
          "text": [
            "(Training) Epoch [6/10]: 100%|██████████| 228/228 [01:10<00:00,  3.22it/s, accuracy=0.86, loss=0.0409]\n"
          ]
        },
        {
          "output_type": "stream",
          "name": "stdout",
          "text": [
            "Epoch [6/10]\n",
            "Train Loss: 73.71200, Train Accuracy: 0.86001\n",
            "Validation Loss: 615.79235, Validation Accuracy: 0.85738\n"
          ]
        },
        {
          "output_type": "stream",
          "name": "stderr",
          "text": [
            "(Training) Epoch [7/10]: 100%|██████████| 228/228 [01:09<00:00,  3.29it/s, accuracy=0.861, loss=0.173]\n"
          ]
        },
        {
          "output_type": "stream",
          "name": "stdout",
          "text": [
            "Epoch [7/10]\n",
            "Train Loss: 73.29245, Train Accuracy: 0.86125\n",
            "Validation Loss: 599.21322, Validation Accuracy: 0.85022\n"
          ]
        },
        {
          "output_type": "stream",
          "name": "stderr",
          "text": [
            "(Training) Epoch [8/10]: 100%|██████████| 228/228 [01:09<00:00,  3.26it/s, accuracy=0.869, loss=0.471]\n"
          ]
        },
        {
          "output_type": "stream",
          "name": "stdout",
          "text": [
            "Epoch [8/10]\n",
            "Train Loss: 71.64468, Train Accuracy: 0.86936\n",
            "Validation Loss: 607.43841, Validation Accuracy: 0.85352\n"
          ]
        },
        {
          "output_type": "stream",
          "name": "stderr",
          "text": [
            "(Training) Epoch [9/10]: 100%|██████████| 228/228 [01:07<00:00,  3.37it/s, accuracy=0.873, loss=0.205]\n"
          ]
        },
        {
          "output_type": "stream",
          "name": "stdout",
          "text": [
            "Epoch [9/10]\n",
            "Train Loss: 68.79722, Train Accuracy: 0.87321\n",
            "Validation Loss: 726.95064, Validation Accuracy: 0.84967\n"
          ]
        },
        {
          "output_type": "stream",
          "name": "stderr",
          "text": [
            "(Training) Epoch [10/10]: 100%|██████████| 228/228 [01:07<00:00,  3.37it/s, accuracy=0.874, loss=0.156]\n",
            "                                                                                   "
          ]
        },
        {
          "output_type": "stream",
          "name": "stdout",
          "text": [
            "Epoch [10/10]\n",
            "Train Loss: 69.44144, Train Accuracy: 0.87431\n",
            "Validation Loss: 587.84949, Validation Accuracy: 0.85407\n"
          ]
        },
        {
          "output_type": "stream",
          "name": "stderr",
          "text": [
            "\r"
          ]
        }
      ]
    },
    {
      "cell_type": "code",
      "source": [
        "trend_plot_helper(\n",
        "    {\n",
        "        \"Accuracy - Epoch\": [\n",
        "            (\"Train Acc\", cnn_model_train_history[\"train_acc\"]),\n",
        "            (\"Validation Acc\", cnn_model_train_history[\"valid_acc\"]),\n",
        "        ],\n",
        "        \"Loss - Epoch\": [\n",
        "            (\"Train Loss\", cnn_model_train_history[\"train_loss\"]),\n",
        "            (\"Validation Loss\", cnn_model_train_history[\"valid_loss\"])\n",
        "        ]\n",
        "    }\n",
        ")"
      ],
      "metadata": {
        "id": "7bjCZ47Ntnab",
        "colab": {
          "base_uri": "https://localhost:8080/",
          "height": 465
        },
        "outputId": "1882c440-fc91-4e98-808e-1a6b9905cd98"
      },
      "execution_count": 46,
      "outputs": [
        {
          "output_type": "display_data",
          "data": {
            "text/plain": [
              "<Figure size 1000x500 with 2 Axes>"
            ],
            "image/png": "[encoded data removed]"
          },
          "metadata": {}
        }
      ]
    },
    {
      "cell_type": "code",
      "source": [
        "cnn_model_report = generate_confusion_matrix(\n",
        "    model=model,\n",
        "    dataset=valid_dataset,\n",
        ")"
      ],
      "metadata": {
        "id": "r-24iPlQtpHp",
        "colab": {
          "base_uri": "https://localhost:8080/",
          "height": 914
        },
        "outputId": "8c75477c-611d-48ef-868b-7db5ae90bff2"
      },
      "execution_count": 47,
      "outputs": [
        {
          "output_type": "stream",
          "name": "stderr",
          "text": []
        },
        {
          "output_type": "display_data",
          "data": {
            "text/plain": [
              "<Figure size 1000x1000 with 1 Axes>"
            ],
            "image/png": "[encoded data removed]"
          },
          "metadata": {}
        }
      ]
    },
    {
      "cell_type": "code",
      "source": [
        "print(f\"Recall:    {cnn_model_report['recall']:.3f}\")\n",
        "print(f\"F1:        {cnn_model_report['f1']:.3f}\")\n",
        "print(f\"Precision: {cnn_model_report['precision']:.3f}\")\n",
        "print(cnn_model_report['report'])"
      ],
      "metadata": {
        "id": "FzJrTnGXtrgb",
        "colab": {
          "base_uri": "https://localhost:8080/"
        },
        "outputId": "7dfffbb5-c641-49df-b04b-6cf3fffd05e5"
      },
      "execution_count": 49,
      "outputs": [
        {
          "output_type": "stream",
          "name": "stdout",
          "text": [
            "Recall:    0.844\n",
            "F1:        0.849\n",
            "Precision: 0.863\n",
            "              precision    recall  f1-score   support\n",
            "\n",
            "           0       0.83      0.93      0.88      1011\n",
            "           1       0.90      0.76      0.82       805\n",
            "\n",
            "    accuracy                           0.85      1816\n",
            "   macro avg       0.86      0.84      0.85      1816\n",
            "weighted avg       0.86      0.85      0.85      1816\n",
            "\n"
          ]
        }
      ]
    },
    {
      "cell_type": "markdown",
      "source": [
        "## Question 10:\n",
        "The kernel size in convolutional layers significantly impacts feature extraction in Convolutional Neural Networks (CNNs). A smaller kernel size focuses on fine details and local features, capturing subtle patterns and textures. In contrast, a larger kernel size covers a broader area of the input, capturing more global and abstract features. Using smaller kernels can lead to more detailed and localized feature maps, while larger kernels provide a more holistic view of the input data. The choice of kernel size depends on the specific requirements of the task and the nature of the data being processed."
      ],
      "metadata": {
        "id": "fMyLyHJLGKEK"
      }
    },
    {
      "cell_type": "markdown",
      "source": [
        "## Question 11:\n",
        "In our project, we chose not to reduce the output of the convolutional layers directly, opting instead to perform the reduction through the feed-forward layers. This decision was based on considerations regarding the preservation of spatial information and the need for high-level feature abstraction.\n",
        "\n",
        "**Reasoning Behind Not Reducing the Output of Convolution:**\n",
        "We decided against reducing the output of the convolutional layers to preserve spatial information and capture detailed features from the input data. In tasks such as text classification, where spatial relationships are important, maintaining the output size of the convolutional layers can aid in extracting meaningful patterns.\n",
        "\n",
        "**Performing Reduction Through Feed-Forward Layers:**\n",
        "Reduction was carried out through the feed-forward layers to facilitate feature aggregation and abstraction. By applying reduction in the feed-forward layers, the model can learn higher-level representations of the features extracted by the convolutional layers. This approach allows for non-linear transformations and enables the model to capture complex patterns and relationships within the data.\n",
        "\n",
        "**Advantages of Using Feed-Forward Layers for Reduction:**\n",
        "Using feed-forward layers for reduction offers several advantages over alternative methods. Firstly, it provides flexibility in network architecture design, allowing for the incorporation of various layers such as dropout and batch normalization. Secondly, parameter sharing across the entire input space is facilitated, promoting the learning of robust and discriminative features. Lastly, separating the reduction process from the convolutional layers allows for adaptive adjustment of feature abstraction levels based on task requirements.\n",
        "\n",
        "**Outcome:**\n",
        "In our project, employing feed-forward layers for reduction yielded promising results. We observed improvements in model performance, particularly in terms of training convergence and generalization ability. However, we also encountered challenges related to model complexity and training time, indicating potential areas for further optimization.\n",
        "\n",
        "**Conclusion:**\n",
        "In conclusion, our decision to perform reduction through feed-forward layers was guided by the need to balance spatial information preservation and feature abstraction. By leveraging the advantages of feed-forward layers, we were able to enhance our model's ability to extract meaningful patterns from the input data. Thoughtful design choices in neural network architectures are crucial for achieving optimal performance in real-world tasks."
      ],
      "metadata": {
        "id": "maiOBGE9Iqcv"
      }
    },
    {
      "cell_type": "code",
      "source": [
        "# Define lists of batch sizes and learning rates to experiment with\n",
        "# batch_sizes = [32, 64, 128]\n",
        "# learning_rates = [0.001, 0.01, 0.1]\n",
        "\n",
        "\n",
        "# # Iterate over batch sizes and learning rates\n",
        "# for batch_size in batch_sizes:\n",
        "#     for learning_rate in learning_rates:\n",
        "#         print(f\"Training with batch size: {batch_size}, learning rate: {learning_rate}\")\n",
        "\n",
        "#         # Train the model with the current batch size and learning rate\n",
        "#         cnn_model_train_history = train_model(\n",
        "#             model=model,\n",
        "#             batch_size=batch_size,\n",
        "#             loss_function=loss_function,\n",
        "#             optimizer=torch.optim.Adam(model.parameters(), lr=learning_rate),  # Pass the learning rate to the optimizer\n",
        "#             epochs=epochs,\n",
        "#             train_set=train_dataset,\n",
        "#             valid_set=valid_dataset,\n",
        "#             device=\"auto\"\n",
        "#         )\n",
        "\n",
        "#         # Report the effects of the training\n",
        "#         print(\"Training completed. Report the effects here...\")\n"
      ],
      "metadata": {
        "id": "pPZs8MbaGMue"
      },
      "execution_count": 116,
      "outputs": []
    },
    {
      "cell_type": "markdown",
      "source": [
        "# Part 3:"
      ],
      "metadata": {
        "id": "_n9CKn0lXnh8"
      }
    },
    {
      "cell_type": "markdown",
      "source": [
        "## Question 12:\n",
        "Increasing the size of the text window to encompass more sentences in a convolutional neural network (CNN) can offer both advantages and disadvantages:\n",
        "\n",
        "**Advantages**:\n",
        "1. **Contextual Understanding**: A larger text window allows the model to capture more contextual information from the surrounding sentences. This can lead to a better understanding of the overall context of the text and may improve the model's performance in tasks such as text classification or sentiment analysis.\n",
        "  \n",
        "2. **Enhanced Feature Extraction**: With a larger text window, the CNN can potentially extract more diverse and informative features from the input text. This may result in richer representations of the text data, leading to improved discriminative power and generalization ability of the model.\n",
        "  \n",
        "3. **Robustness to Variability**: By considering a broader context, the model becomes more robust to variations in sentence structures and lengths. This can help mitigate issues related to sentence boundaries and improve the model's ability to handle texts of varying lengths.\n",
        "\n",
        "**Disadvantages**:\n",
        "1. **Increased Computational Complexity**: Enlarging the text window results in an increase in the number of input tokens processed by the CNN. This leads to higher computational costs during both training and inference, potentially requiring more memory and processing resources.\n",
        "  \n",
        "2. **Potential Information Overload**: A larger text window may introduce noise or irrelevant information, especially if the text contains a mixture of different topics or themes. This could dilute the relevant features and make it harder for the model to discern important patterns from the input.\n",
        "  \n",
        "3. **Risk of Overfitting**: With a larger receptive field, there's a risk of overfitting to the training data, particularly if the model becomes too sensitive to specific combinations of words or phrases present in the extended text window. Regularization techniques may be necessary to mitigate this risk.\n",
        "\n",
        "While increasing the size of the text window in a CNN can provide benefits in terms of contextual understanding and feature extraction, it also comes with challenges related to computational complexity, information overload, and the risk of overfitting. Careful consideration of these factors is essential when deciding on the appropriate text window size for a given task."
      ],
      "metadata": {
        "id": "BCzt_OcGXqfF"
      }
    },
    {
      "cell_type": "markdown",
      "source": [
        "## Question 13:"
      ],
      "metadata": {
        "id": "RA9UAazOX0JE"
      }
    },
    {
      "cell_type": "code",
      "source": [
        "train_dataset2 = Twitter(train_data, w2v_model, 196)\n",
        "valid_dataset2 = Twitter(test_data, w2v_model, 196)"
      ],
      "metadata": {
        "colab": {
          "base_uri": "https://localhost:8080/"
        },
        "id": "QPngh2FJX1-1",
        "outputId": "2e9d4c14-ed64-4049-88b6-28085c8f1e7c"
      },
      "execution_count": 54,
      "outputs": [
        {
          "output_type": "stream",
          "name": "stdout",
          "text": [
            "Deleted 0-Len Samples: 23\n"
          ]
        },
        {
          "output_type": "stream",
          "name": "stderr",
          "text": [
            "<ipython-input-26-6491df8ee47a>:34: SettingWithCopyWarning: \n",
            "A value is trying to be set on a copy of a slice from a DataFrame.\n",
            "Try using .loc[row_indexer,col_indexer] = value instead\n",
            "\n",
            "See the caveats in the documentation: https://pandas.pydata.org/pandas-docs/stable/user_guide/indexing.html#returning-a-view-versus-a-copy\n",
            "  self.dataframe[self.df_token_col] = self.dataframe[self.df_token_col].map(self._pad)\n",
            "<ipython-input-26-6491df8ee47a>:37: SettingWithCopyWarning: \n",
            "A value is trying to be set on a copy of a slice from a DataFrame.\n",
            "Try using .loc[row_indexer,col_indexer] = value instead\n",
            "\n",
            "See the caveats in the documentation: https://pandas.pydata.org/pandas-docs/stable/user_guide/indexing.html#returning-a-view-versus-a-copy\n",
            "  self.dataframe[\"vector\"] = self.dataframe[self.df_token_col].map(self._get_word_vectors)\n"
          ]
        },
        {
          "output_type": "stream",
          "name": "stdout",
          "text": [
            "Deleted 0-Len Samples: 8\n"
          ]
        },
        {
          "output_type": "stream",
          "name": "stderr",
          "text": [
            "<ipython-input-26-6491df8ee47a>:34: SettingWithCopyWarning: \n",
            "A value is trying to be set on a copy of a slice from a DataFrame.\n",
            "Try using .loc[row_indexer,col_indexer] = value instead\n",
            "\n",
            "See the caveats in the documentation: https://pandas.pydata.org/pandas-docs/stable/user_guide/indexing.html#returning-a-view-versus-a-copy\n",
            "  self.dataframe[self.df_token_col] = self.dataframe[self.df_token_col].map(self._pad)\n",
            "<ipython-input-26-6491df8ee47a>:37: SettingWithCopyWarning: \n",
            "A value is trying to be set on a copy of a slice from a DataFrame.\n",
            "Try using .loc[row_indexer,col_indexer] = value instead\n",
            "\n",
            "See the caveats in the documentation: https://pandas.pydata.org/pandas-docs/stable/user_guide/indexing.html#returning-a-view-versus-a-copy\n",
            "  self.dataframe[\"vector\"] = self.dataframe[self.df_token_col].map(self._get_word_vectors)\n"
          ]
        }
      ]
    },
    {
      "cell_type": "code",
      "source": [
        "model2 = CNN(context=196)\n",
        "loss_function = nn.CrossEntropyLoss()\n",
        "optimizer = torch.optim.Adam(model2.parameters(), lr=0.001)\n",
        "batch_size = 32\n",
        "epochs = 10"
      ],
      "metadata": {
        "id": "7pUPs2ekcBOD"
      },
      "execution_count": 78,
      "outputs": []
    },
    {
      "cell_type": "code",
      "source": [
        "cnn_model_train_history2 = train_model(\n",
        "    model=model2,  # Pass your instantiated CNN model\n",
        "    batch_size=batch_size,  # Set your desired batch size\n",
        "    loss_function=loss_function,  # Use Cross Entropy loss function\n",
        "    optimizer=optimizer,  # Use Adam optimizer\n",
        "    epochs=epochs,  # Set the number of epochs for training\n",
        "    train_set=train_dataset2,  # Pass your training dataset\n",
        "    valid_set=valid_dataset2,  # Pass your validation dataset\n",
        "    device=\"auto\",  # Specify device for training\n",
        ")"
      ],
      "metadata": {
        "colab": {
          "base_uri": "https://localhost:8080/"
        },
        "id": "veMWEwo6Za1B",
        "outputId": "aefcb7da-fa25-4db8-969e-03db66da04cf"
      },
      "execution_count": 79,
      "outputs": [
        {
          "output_type": "stream",
          "name": "stderr",
          "text": [
            "(Training) Epoch [1/10]: 100%|██████████| 228/228 [01:33<00:00,  2.44it/s, accuracy=0.829, loss=0.31]\n"
          ]
        },
        {
          "output_type": "stream",
          "name": "stdout",
          "text": [
            "Epoch [1/10]\n",
            "Train Loss: 0.37850, Train Accuracy: 0.82907\n",
            "Validation Loss: 0.34000, Validation Accuracy: 0.85132\n"
          ]
        },
        {
          "output_type": "stream",
          "name": "stderr",
          "text": [
            "(Training) Epoch [2/10]: 100%|██████████| 228/228 [01:33<00:00,  2.43it/s, accuracy=0.844, loss=0.597]\n"
          ]
        },
        {
          "output_type": "stream",
          "name": "stdout",
          "text": [
            "Epoch [2/10]\n",
            "Train Loss: 0.35309, Train Accuracy: 0.84351\n",
            "Validation Loss: 0.33645, Validation Accuracy: 0.85187\n"
          ]
        },
        {
          "output_type": "stream",
          "name": "stderr",
          "text": [
            "(Training) Epoch [3/10]: 100%|██████████| 228/228 [01:33<00:00,  2.43it/s, accuracy=0.854, loss=0.31]\n"
          ]
        },
        {
          "output_type": "stream",
          "name": "stdout",
          "text": [
            "Epoch [3/10]\n",
            "Train Loss: 0.34238, Train Accuracy: 0.85396\n",
            "Validation Loss: 0.36926, Validation Accuracy: 0.84361\n"
          ]
        },
        {
          "output_type": "stream",
          "name": "stderr",
          "text": [
            "(Training) Epoch [4/10]: 100%|██████████| 228/228 [01:32<00:00,  2.46it/s, accuracy=0.854, loss=0.525]\n"
          ]
        },
        {
          "output_type": "stream",
          "name": "stdout",
          "text": [
            "Epoch [4/10]\n",
            "Train Loss: 0.33968, Train Accuracy: 0.85424\n",
            "Validation Loss: 0.33341, Validation Accuracy: 0.85022\n"
          ]
        },
        {
          "output_type": "stream",
          "name": "stderr",
          "text": [
            "(Training) Epoch [5/10]: 100%|██████████| 228/228 [01:32<00:00,  2.46it/s, accuracy=0.856, loss=0.147]\n"
          ]
        },
        {
          "output_type": "stream",
          "name": "stdout",
          "text": [
            "Epoch [5/10]\n",
            "Train Loss: 0.33251, Train Accuracy: 0.85589\n",
            "Validation Loss: 0.33292, Validation Accuracy: 0.85738\n"
          ]
        },
        {
          "output_type": "stream",
          "name": "stderr",
          "text": [
            "(Training) Epoch [6/10]: 100%|██████████| 228/228 [01:32<00:00,  2.46it/s, accuracy=0.856, loss=0.245]\n"
          ]
        },
        {
          "output_type": "stream",
          "name": "stdout",
          "text": [
            "Epoch [6/10]\n",
            "Train Loss: 0.33670, Train Accuracy: 0.85561\n",
            "Validation Loss: 0.35507, Validation Accuracy: 0.84526\n"
          ]
        },
        {
          "output_type": "stream",
          "name": "stderr",
          "text": [
            "(Training) Epoch [7/10]: 100%|██████████| 228/228 [01:32<00:00,  2.47it/s, accuracy=0.861, loss=0.281]\n"
          ]
        },
        {
          "output_type": "stream",
          "name": "stdout",
          "text": [
            "Epoch [7/10]\n",
            "Train Loss: 0.32439, Train Accuracy: 0.86070\n",
            "Validation Loss: 0.32899, Validation Accuracy: 0.85683\n"
          ]
        },
        {
          "output_type": "stream",
          "name": "stderr",
          "text": [
            "(Training) Epoch [8/10]: 100%|██████████| 228/228 [01:32<00:00,  2.46it/s, accuracy=0.868, loss=0.219]\n"
          ]
        },
        {
          "output_type": "stream",
          "name": "stdout",
          "text": [
            "Epoch [8/10]\n",
            "Train Loss: 0.31633, Train Accuracy: 0.86826\n",
            "Validation Loss: 0.34583, Validation Accuracy: 0.85242\n"
          ]
        },
        {
          "output_type": "stream",
          "name": "stderr",
          "text": [
            "(Training) Epoch [9/10]: 100%|██████████| 228/228 [01:33<00:00,  2.43it/s, accuracy=0.87, loss=0.77]\n"
          ]
        },
        {
          "output_type": "stream",
          "name": "stdout",
          "text": [
            "Epoch [9/10]\n",
            "Train Loss: 0.31508, Train Accuracy: 0.87032\n",
            "Validation Loss: 0.38108, Validation Accuracy: 0.85022\n"
          ]
        },
        {
          "output_type": "stream",
          "name": "stderr",
          "text": [
            "(Training) Epoch [10/10]: 100%|██████████| 228/228 [01:33<00:00,  2.43it/s, accuracy=0.871, loss=0.287]\n",
            "                                                                                   "
          ]
        },
        {
          "output_type": "stream",
          "name": "stdout",
          "text": [
            "Epoch [10/10]\n",
            "Train Loss: 0.30879, Train Accuracy: 0.87129\n",
            "Validation Loss: 0.33264, Validation Accuracy: 0.85628\n"
          ]
        },
        {
          "output_type": "stream",
          "name": "stderr",
          "text": [
            "\r"
          ]
        }
      ]
    },
    {
      "cell_type": "code",
      "source": [
        "trend_plot_helper(\n",
        "    {\n",
        "        \"Accuracy - Epoch\": [\n",
        "            (\"Train Acc\", cnn_model_train_history2[\"train_acc\"]),\n",
        "            (\"Validation Acc\", cnn_model_train_history2[\"valid_acc\"]),\n",
        "        ],\n",
        "        \"Loss - Epoch\": [\n",
        "            (\"Train Loss\", cnn_model_train_history2[\"train_loss\"]),\n",
        "            (\"Validation Loss\", cnn_model_train_history2[\"valid_loss\"])\n",
        "        ]\n",
        "    }\n",
        ")"
      ],
      "metadata": {
        "colab": {
          "base_uri": "https://localhost:8080/",
          "height": 465
        },
        "id": "Rqr2y1mAZreO",
        "outputId": "22010e12-82e2-4521-ad0c-02e156ea5450"
      },
      "execution_count": 109,
      "outputs": [
        {
          "output_type": "display_data",
          "data": {
            "text/plain": [
              "<Figure size 1000x500 with 2 Axes>"
            ],
            "image/png": "[encoded data removed]"
          },
          "metadata": {}
        }
      ]
    },
    {
      "cell_type": "code",
      "source": [
        "cnn_model_report2 = generate_confusion_matrix(\n",
        "    model=model2,\n",
        "    dataset=valid_dataset2,\n",
        ")"
      ],
      "metadata": {
        "colab": {
          "base_uri": "https://localhost:8080/",
          "height": 914
        },
        "id": "hUAlVG6yZxuA",
        "outputId": "6fab0957-c8c2-489b-f9e8-4457d17bc8e4"
      },
      "execution_count": 84,
      "outputs": [
        {
          "output_type": "stream",
          "name": "stderr",
          "text": []
        },
        {
          "output_type": "display_data",
          "data": {
            "text/plain": [
              "<Figure size 1000x1000 with 1 Axes>"
            ],
            "image/png": "[encoded data removed]"
          },
          "metadata": {}
        }
      ]
    },
    {
      "cell_type": "code",
      "source": [
        "print(f\"Recall:    {cnn_model_report2['recall']:.3f}\")\n",
        "print(f\"F1:        {cnn_model_report2['f1']:.3f}\")\n",
        "print(f\"Precision: {cnn_model_report2['precision']:.3f}\")\n",
        "print(cnn_model_report2['report'])"
      ],
      "metadata": {
        "colab": {
          "base_uri": "https://localhost:8080/"
        },
        "id": "cAn5mMDUZ1DF",
        "outputId": "e567cad2-3dcb-4344-83cc-7f43e049d823"
      },
      "execution_count": 85,
      "outputs": [
        {
          "output_type": "stream",
          "name": "stdout",
          "text": [
            "Recall:    0.847\n",
            "F1:        0.852\n",
            "Precision: 0.863\n",
            "              precision    recall  f1-score   support\n",
            "\n",
            "           0       0.83      0.93      0.88      1011\n",
            "           1       0.89      0.77      0.83       805\n",
            "\n",
            "    accuracy                           0.86      1816\n",
            "   macro avg       0.86      0.85      0.85      1816\n",
            "weighted avg       0.86      0.86      0.85      1816\n",
            "\n"
          ]
        }
      ]
    },
    {
      "cell_type": "markdown",
      "source": [
        "In convolutional neural network (CNN) models, increasing the context can indeed lead to improved performance in certain cases. Here's why:\n",
        "\n",
        "1. **Capturing Longer-Term Dependencies**: CNNs are effective at capturing local patterns in data due to their local receptive fields. By increasing the context, the model can capture longer-term dependencies and relationships between distant elements in the input data. This is particularly beneficial for tasks where understanding broader context is essential, such as document classification or sentiment analysis.\n",
        "\n",
        "2. **Enhanced Feature Extraction**: With a larger context, the CNN can extract more diverse and informative features from the input data. This can lead to richer representations of the data, potentially improving the model's ability to discriminate between different classes or categories.\n",
        "\n",
        "3. **Improved Generalization**: By incorporating more context into the model, it becomes more robust to variations and noise in the input data. This can improve the model's generalization ability, enabling it to perform well on unseen examples or in different contexts.\n",
        "\n",
        "However, it's essential to consider potential challenges when increasing the context in CNN models:\n",
        "\n",
        "1. **Increased Computational Complexity**: Larger context sizes result in more parameters and computations, leading to increased computational costs during training and inference. This can pose challenges, especially in resource-constrained environments or when dealing with large datasets.\n",
        "\n",
        "2. **Risk of Overfitting**: Increasing the context may introduce more complexity into the model, increasing the risk of overfitting to the training data. Regularization techniques, such as dropout or weight decay, may be necessary to mitigate this risk.\n",
        "\n",
        "3. **Optimal Context Size**: Determining the optimal context size can be challenging and may require experimentation. A context size that is too small may limit the model's ability to capture long-range dependencies, while a context size that is too large may introduce noise or irrelevant information into the model.\n",
        "\n",
        "While increasing the context in CNN models can lead to improved performance by capturing longer-term dependencies and enhancing feature extraction, it's essential to carefully consider computational costs, risk of overfitting, and the optimal context size for the task at hand."
      ],
      "metadata": {
        "id": "-rxP_Ft8nl0h"
      }
    },
    {
      "cell_type": "markdown",
      "source": [
        "# Part 4:"
      ],
      "metadata": {
        "id": "FGEws4c9nyoM"
      }
    },
    {
      "cell_type": "markdown",
      "source": [
        "<a name='6'></a>\n",
        "## <a id='toc7_'></a>Regularization [](#toc0_)\n",
        "\n",
        "* **Batch Norm**\n",
        "> **The need for Batch Norm**:<br>\n",
        "Consider any of the hidden layers of a network. The activations from the previous layer are simply the inputs to this layer. For instance, from the perspective of Layer 2 in the picture below, if we “blank out” all the previous layers, the activations coming from Layer 1 are no different from the original inputs.<br>\n",
        "The same logic that requires us to normalize the input for the first layer will also apply to each of these hidden layers.\n",
        "\n",
        "    > **How Does Batch Norm work**?<br>\n",
        "Batch Norm is just another network layer that gets inserted between a hidden layer and the next hidden layer. Its job is to take the outputs from the first hidden layer and normalize them before passing them on as the input of the next hidden layer.\n",
        "Just like the parameters (eg. weights, bias) of any network layer, a Batch Norm layer also has parameters of its own.\n",
        "\n",
        "* **Dropout**\n",
        "\n",
        "    The dropout layer functions by randomly deactivating a portion of input units during each training update. This implies that during forward propagation, certain neurons in the network are ‘dropped out’ or temporarily disregard, along with their associated connections, based on a specific probability."
      ],
      "metadata": {
        "id": "ZhJX94yl6J3T"
      }
    },
    {
      "cell_type": "code",
      "source": [
        "model3 = CNN(context=64, regularization=True, dropout=0.5)\n",
        "loss_function = nn.CrossEntropyLoss()\n",
        "optimizer = torch.optim.Adam(model3.parameters(), lr=0.001)\n",
        "batch_size = 128\n",
        "epochs = 15"
      ],
      "metadata": {
        "id": "QGkJtuGcn2jJ"
      },
      "execution_count": 111,
      "outputs": []
    },
    {
      "cell_type": "code",
      "source": [
        "nn_model_train_history3 = train_model(\n",
        "    model=model3,  # Pass your instantiated CNN model\n",
        "    batch_size=batch_size,  # Set your desired batch size\n",
        "    loss_function=loss_function,  # Use Cross Entropy loss function\n",
        "    optimizer=optimizer,  # Use Adam optimizer\n",
        "    epochs=epochs,  # Set the number of epochs for training\n",
        "    train_set=train_dataset,  # Pass your training dataset\n",
        "    valid_set=valid_dataset,  # Pass your validation dataset\n",
        "    device=\"auto\",  # Specify device for training\n",
        ")"
      ],
      "metadata": {
        "colab": {
          "base_uri": "https://localhost:8080/"
        },
        "id": "Ig45TByLoGKs",
        "outputId": "906f7059-ad1a-491b-937f-6fc154607750"
      },
      "execution_count": 112,
      "outputs": [
        {
          "output_type": "stream",
          "name": "stderr",
          "text": [
            "(Training) Epoch [1/15]: 100%|██████████| 57/57 [01:09<00:00,  1.22s/it, accuracy=0.819, loss=0.409]\n"
          ]
        },
        {
          "output_type": "stream",
          "name": "stdout",
          "text": [
            "Epoch [1/15]\n",
            "Train Loss: 0.39794, Train Accuracy: 0.81931\n",
            "Validation Loss: 1.73033, Validation Accuracy: 0.44328\n"
          ]
        },
        {
          "output_type": "stream",
          "name": "stderr",
          "text": [
            "(Training) Epoch [2/15]: 100%|██████████| 57/57 [01:09<00:00,  1.22s/it, accuracy=0.84, loss=0.316]\n"
          ]
        },
        {
          "output_type": "stream",
          "name": "stdout",
          "text": [
            "Epoch [2/15]\n",
            "Train Loss: 0.36147, Train Accuracy: 0.83993\n",
            "Validation Loss: 1.69735, Validation Accuracy: 0.44328\n"
          ]
        },
        {
          "output_type": "stream",
          "name": "stderr",
          "text": [
            "(Training) Epoch [3/15]: 100%|██████████| 57/57 [01:09<00:00,  1.22s/it, accuracy=0.844, loss=0.386]\n"
          ]
        },
        {
          "output_type": "stream",
          "name": "stdout",
          "text": [
            "Epoch [3/15]\n",
            "Train Loss: 0.35889, Train Accuracy: 0.84447\n",
            "Validation Loss: 1.46881, Validation Accuracy: 0.44328\n"
          ]
        },
        {
          "output_type": "stream",
          "name": "stderr",
          "text": [
            "(Training) Epoch [4/15]: 100%|██████████| 57/57 [01:08<00:00,  1.21s/it, accuracy=0.85, loss=0.346]\n"
          ]
        },
        {
          "output_type": "stream",
          "name": "stdout",
          "text": [
            "Epoch [4/15]\n",
            "Train Loss: 0.34919, Train Accuracy: 0.84970\n",
            "Validation Loss: 1.84910, Validation Accuracy: 0.44328\n"
          ]
        },
        {
          "output_type": "stream",
          "name": "stderr",
          "text": [
            "(Training) Epoch [5/15]: 100%|██████████| 57/57 [01:07<00:00,  1.19s/it, accuracy=0.85, loss=0.327]\n"
          ]
        },
        {
          "output_type": "stream",
          "name": "stdout",
          "text": [
            "Epoch [5/15]\n",
            "Train Loss: 0.34852, Train Accuracy: 0.84997\n",
            "Validation Loss: 1.15131, Validation Accuracy: 0.44328\n"
          ]
        },
        {
          "output_type": "stream",
          "name": "stderr",
          "text": [
            "(Training) Epoch [6/15]: 100%|██████████| 57/57 [01:07<00:00,  1.18s/it, accuracy=0.858, loss=0.389]\n"
          ]
        },
        {
          "output_type": "stream",
          "name": "stdout",
          "text": [
            "Epoch [6/15]\n",
            "Train Loss: 0.33032, Train Accuracy: 0.85822\n",
            "Validation Loss: 1.12609, Validation Accuracy: 0.44328\n"
          ]
        },
        {
          "output_type": "stream",
          "name": "stderr",
          "text": [
            "(Training) Epoch [7/15]: 100%|██████████| 57/57 [01:07<00:00,  1.18s/it, accuracy=0.864, loss=0.328]\n"
          ]
        },
        {
          "output_type": "stream",
          "name": "stdout",
          "text": [
            "Epoch [7/15]\n",
            "Train Loss: 0.32208, Train Accuracy: 0.86400\n",
            "Validation Loss: 1.10317, Validation Accuracy: 0.44769\n"
          ]
        },
        {
          "output_type": "stream",
          "name": "stderr",
          "text": [
            "(Training) Epoch [8/15]: 100%|██████████| 57/57 [01:07<00:00,  1.18s/it, accuracy=0.864, loss=0.239]\n"
          ]
        },
        {
          "output_type": "stream",
          "name": "stdout",
          "text": [
            "Epoch [8/15]\n",
            "Train Loss: 0.32315, Train Accuracy: 0.86441\n",
            "Validation Loss: 0.49842, Validation Accuracy: 0.75771\n"
          ]
        },
        {
          "output_type": "stream",
          "name": "stderr",
          "text": [
            "(Training) Epoch [9/15]: 100%|██████████| 57/57 [01:08<00:00,  1.20s/it, accuracy=0.875, loss=0.235]\n"
          ]
        },
        {
          "output_type": "stream",
          "name": "stdout",
          "text": [
            "Epoch [9/15]\n",
            "Train Loss: 0.29823, Train Accuracy: 0.87528\n",
            "Validation Loss: 0.66489, Validation Accuracy: 0.54736\n"
          ]
        },
        {
          "output_type": "stream",
          "name": "stderr",
          "text": [
            "(Training) Epoch [10/15]: 100%|██████████| 57/57 [01:08<00:00,  1.20s/it, accuracy=0.877, loss=0.222]\n"
          ]
        },
        {
          "output_type": "stream",
          "name": "stdout",
          "text": [
            "Epoch [10/15]\n",
            "Train Loss: 0.29336, Train Accuracy: 0.87665\n",
            "Validation Loss: 0.37889, Validation Accuracy: 0.85683\n"
          ]
        },
        {
          "output_type": "stream",
          "name": "stderr",
          "text": [
            "(Training) Epoch [11/15]: 100%|██████████| 57/57 [01:09<00:00,  1.22s/it, accuracy=0.892, loss=0.259]\n"
          ]
        },
        {
          "output_type": "stream",
          "name": "stdout",
          "text": [
            "Epoch [11/15]\n",
            "Train Loss: 0.27618, Train Accuracy: 0.89178\n",
            "Validation Loss: 0.39699, Validation Accuracy: 0.84912\n"
          ]
        },
        {
          "output_type": "stream",
          "name": "stderr",
          "text": [
            "(Training) Epoch [12/15]: 100%|██████████| 57/57 [01:09<00:00,  1.22s/it, accuracy=0.894, loss=0.141]\n"
          ]
        },
        {
          "output_type": "stream",
          "name": "stdout",
          "text": [
            "Epoch [12/15]\n",
            "Train Loss: 0.26511, Train Accuracy: 0.89398\n",
            "Validation Loss: 0.41494, Validation Accuracy: 0.82104\n"
          ]
        },
        {
          "output_type": "stream",
          "name": "stderr",
          "text": [
            "(Training) Epoch [13/15]: 100%|██████████| 57/57 [01:09<00:00,  1.21s/it, accuracy=0.895, loss=0.225]\n"
          ]
        },
        {
          "output_type": "stream",
          "name": "stdout",
          "text": [
            "Epoch [13/15]\n",
            "Train Loss: 0.26570, Train Accuracy: 0.89549\n",
            "Validation Loss: 0.51372, Validation Accuracy: 0.84912\n"
          ]
        },
        {
          "output_type": "stream",
          "name": "stderr",
          "text": [
            "(Training) Epoch [14/15]: 100%|██████████| 57/57 [01:09<00:00,  1.22s/it, accuracy=0.909, loss=0.233]\n"
          ]
        },
        {
          "output_type": "stream",
          "name": "stdout",
          "text": [
            "Epoch [14/15]\n",
            "Train Loss: 0.23542, Train Accuracy: 0.90897\n",
            "Validation Loss: 0.62174, Validation Accuracy: 0.82269\n"
          ]
        },
        {
          "output_type": "stream",
          "name": "stderr",
          "text": [
            "(Training) Epoch [15/15]: 100%|██████████| 57/57 [01:09<00:00,  1.22s/it, accuracy=0.915, loss=0.223]\n",
            "                                                                                  "
          ]
        },
        {
          "output_type": "stream",
          "name": "stdout",
          "text": [
            "Epoch [15/15]\n",
            "Train Loss: 0.21986, Train Accuracy: 0.91488\n",
            "Validation Loss: 1.43245, Validation Accuracy: 0.80396\n"
          ]
        },
        {
          "output_type": "stream",
          "name": "stderr",
          "text": [
            "\r"
          ]
        }
      ]
    },
    {
      "cell_type": "code",
      "source": [
        "trend_plot_helper(\n",
        "    {\n",
        "        \"Accuracy - Epoch\": [\n",
        "            (\"Train Acc\", cnn_model_train_history2[\"train_acc\"]),\n",
        "            (\"Validation Acc\", cnn_model_train_history2[\"valid_acc\"]),\n",
        "        ],\n",
        "        \"Loss - Epoch\": [\n",
        "            (\"Train Loss\", cnn_model_train_history2[\"train_loss\"]),\n",
        "            (\"Validation Loss\", cnn_model_train_history2[\"valid_loss\"])\n",
        "        ]\n",
        "    }\n",
        ")"
      ],
      "metadata": {
        "colab": {
          "base_uri": "https://localhost:8080/",
          "height": 465
        },
        "id": "0bv_uqfkoS_n",
        "outputId": "2496aa9b-0608-4276-81c8-3e64aabf317e"
      },
      "execution_count": 113,
      "outputs": [
        {
          "output_type": "display_data",
          "data": {
            "text/plain": [
              "<Figure size 1000x500 with 2 Axes>"
            ],
            "image/png": "[encoded data removed]"
          },
          "metadata": {}
        }
      ]
    },
    {
      "cell_type": "code",
      "source": [
        "cnn_model_report2 = generate_confusion_matrix(\n",
        "    model=model2,\n",
        "    dataset=valid_dataset2,\n",
        ")"
      ],
      "metadata": {
        "colab": {
          "base_uri": "https://localhost:8080/",
          "height": 914
        },
        "id": "3Vc_1cqFoV2Q",
        "outputId": "4a2d08db-7b74-4774-9f54-dbe88f13f49a"
      },
      "execution_count": 114,
      "outputs": [
        {
          "output_type": "stream",
          "name": "stderr",
          "text": []
        },
        {
          "output_type": "display_data",
          "data": {
            "text/plain": [
              "<Figure size 1000x1000 with 1 Axes>"
            ],
            "image/png": "[encoded data removed]"
          },
          "metadata": {}
        }
      ]
    },
    {
      "cell_type": "code",
      "source": [
        "print(f\"Recall:    {cnn_model_report2['recall']:.3f}\")\n",
        "print(f\"F1:        {cnn_model_report2['f1']:.3f}\")\n",
        "print(f\"Precision: {cnn_model_report2['precision']:.3f}\")\n",
        "print(cnn_model_report2['report'])"
      ],
      "metadata": {
        "colab": {
          "base_uri": "https://localhost:8080/"
        },
        "id": "lTt4fdffobMb",
        "outputId": "75bd698f-0819-41bf-95fb-a64c8f145b21"
      },
      "execution_count": 115,
      "outputs": [
        {
          "output_type": "stream",
          "name": "stdout",
          "text": [
            "Recall:    0.847\n",
            "F1:        0.852\n",
            "Precision: 0.863\n",
            "              precision    recall  f1-score   support\n",
            "\n",
            "           0       0.83      0.93      0.88      1011\n",
            "           1       0.89      0.77      0.83       805\n",
            "\n",
            "    accuracy                           0.86      1816\n",
            "   macro avg       0.86      0.85      0.85      1816\n",
            "weighted avg       0.86      0.86      0.85      1816\n",
            "\n"
          ]
        }
      ]
    },
    {
      "cell_type": "markdown",
      "source": [
        "As you can see, the model achieves higher accuracy without regularization. The reason behind this is that we employ oversampling, and some of the data is present in both the training and testing sets. Consequently, when the model overfits during the initial phase, it attains a good accuracy in the test set as well. However, in reality, when we present it with completely unseen data, the model with regularization performs better."
      ],
      "metadata": {
        "id": "7Kk4i_R05_1p"
      }
    }
  ]
}